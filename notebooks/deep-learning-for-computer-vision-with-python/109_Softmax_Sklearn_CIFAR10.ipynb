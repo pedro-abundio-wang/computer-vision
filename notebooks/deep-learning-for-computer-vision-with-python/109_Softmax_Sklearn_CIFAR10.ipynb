{
 "cells": [
  {
   "cell_type": "markdown",
   "metadata": {},
   "source": [
    "# Softmax Sklearn CIFAR10"
   ]
  },
  {
   "cell_type": "code",
   "execution_count": 1,
   "metadata": {},
   "outputs": [],
   "source": [
    "# import the necessary packages\n",
    "from sklearn.preprocessing import LabelBinarizer\n",
    "from sklearn.model_selection import train_test_split\n",
    "from sklearn.metrics import classification_report\n",
    "from sklearn import datasets\n",
    "\n",
    "import matplotlib.pyplot as plt\n",
    "import numpy as np"
   ]
  },
  {
   "cell_type": "code",
   "execution_count": 2,
   "metadata": {},
   "outputs": [
    {
     "name": "stderr",
     "output_type": "stream",
     "text": [
      "Using TensorFlow backend.\n",
      "/home/pedro/miniconda3/envs/computer-vision/lib/python3.6/site-packages/tensorflow/python/framework/dtypes.py:523: FutureWarning: Passing (type, 1) or '1type' as a synonym of type is deprecated; in a future version of numpy, it will be understood as (type, (1,)) / '(1,)type'.\n",
      "  _np_qint8 = np.dtype([(\"qint8\", np.int8, 1)])\n",
      "/home/pedro/miniconda3/envs/computer-vision/lib/python3.6/site-packages/tensorflow/python/framework/dtypes.py:524: FutureWarning: Passing (type, 1) or '1type' as a synonym of type is deprecated; in a future version of numpy, it will be understood as (type, (1,)) / '(1,)type'.\n",
      "  _np_quint8 = np.dtype([(\"quint8\", np.uint8, 1)])\n",
      "/home/pedro/miniconda3/envs/computer-vision/lib/python3.6/site-packages/tensorflow/python/framework/dtypes.py:525: FutureWarning: Passing (type, 1) or '1type' as a synonym of type is deprecated; in a future version of numpy, it will be understood as (type, (1,)) / '(1,)type'.\n",
      "  _np_qint16 = np.dtype([(\"qint16\", np.int16, 1)])\n",
      "/home/pedro/miniconda3/envs/computer-vision/lib/python3.6/site-packages/tensorflow/python/framework/dtypes.py:526: FutureWarning: Passing (type, 1) or '1type' as a synonym of type is deprecated; in a future version of numpy, it will be understood as (type, (1,)) / '(1,)type'.\n",
      "  _np_quint16 = np.dtype([(\"quint16\", np.uint16, 1)])\n",
      "/home/pedro/miniconda3/envs/computer-vision/lib/python3.6/site-packages/tensorflow/python/framework/dtypes.py:527: FutureWarning: Passing (type, 1) or '1type' as a synonym of type is deprecated; in a future version of numpy, it will be understood as (type, (1,)) / '(1,)type'.\n",
      "  _np_qint32 = np.dtype([(\"qint32\", np.int32, 1)])\n",
      "/home/pedro/miniconda3/envs/computer-vision/lib/python3.6/site-packages/tensorflow/python/framework/dtypes.py:532: FutureWarning: Passing (type, 1) or '1type' as a synonym of type is deprecated; in a future version of numpy, it will be understood as (type, (1,)) / '(1,)type'.\n",
      "  np_resource = np.dtype([(\"resource\", np.ubyte, 1)])\n"
     ]
    },
    {
     "name": "stdout",
     "output_type": "stream",
     "text": [
      "[INFO] loading CIFAR-10 data...\n"
     ]
    }
   ],
   "source": [
    "from keras.datasets import cifar10\n",
    "\n",
    "# load the training and testing data, scale it into the range [0, 1],\n",
    "# then reshape the design matrix\n",
    "print(\"[INFO] loading CIFAR-10 data...\")\n",
    "((trainX, trainY), (testX, testY)) = cifar10.load_data()\n",
    "\n",
    "trainX = trainX.reshape((trainX.shape[0], 3072))\n",
    "testX = testX.reshape((testX.shape[0], 3072))"
   ]
  },
  {
   "cell_type": "code",
   "execution_count": 10,
   "metadata": {},
   "outputs": [
    {
     "name": "stderr",
     "output_type": "stream",
     "text": [
      "/home/pedro/miniconda3/envs/computer-vision/lib/python3.6/site-packages/sklearn/utils/validation.py:724: DataConversionWarning: A column-vector y was passed when a 1d array was expected. Please change the shape of y to (n_samples, ), for example using ravel().\n",
      "  y = column_or_1d(y, warn=True)\n",
      "[Parallel(n_jobs=1)]: Using backend SequentialBackend with 1 concurrent workers.\n"
     ]
    },
    {
     "name": "stdout",
     "output_type": "stream",
     "text": [
      "-- Epoch 1\n",
      "Norm: 23939.68, NNZs: 3072, Bias: -426.931403, T: 50000, Avg. loss: 4238618.190293\n",
      "Total training time: 0.18 seconds.\n",
      "-- Epoch 1\n",
      "Norm: 27619.72, NNZs: 3072, Bias: 18.123983, T: 50000, Avg. loss: 3085056.867781\n",
      "Total training time: 0.17 seconds.\n",
      "-- Epoch 1\n",
      "Norm: 22312.61, NNZs: 3072, Bias: -84.975662, T: 50000, Avg. loss: 3625582.465744\n",
      "Total training time: 0.18 seconds.\n",
      "-- Epoch 1\n",
      "Norm: 20273.97, NNZs: 3072, Bias: -58.187009, T: 50000, Avg. loss: 3525826.308064\n",
      "Total training time: 0.18 seconds.\n",
      "-- Epoch 1\n",
      "Norm: 20103.03, NNZs: 3072, Bias: -39.828726, T: 50000, Avg. loss: 3215949.159075\n",
      "Total training time: 0.18 seconds.\n",
      "-- Epoch 1\n",
      "Norm: 19897.24, NNZs: 3072, Bias: -204.287845, T: 50000, Avg. loss: 3340437.570640\n",
      "Total training time: 0.18 seconds.\n",
      "-- Epoch 1\n",
      "Norm: 24776.42, NNZs: 3072, Bias: 46.359914, T: 50000, Avg. loss: 2799502.149658\n",
      "Total training time: 0.18 seconds.\n",
      "-- Epoch 1\n",
      "Norm: 28400.34, NNZs: 3072, Bias: -43.570617, T: 50000, Avg. loss: 3221321.333057\n",
      "Total training time: 0.18 seconds.\n",
      "-- Epoch 1\n",
      "Norm: 24154.64, NNZs: 3072, Bias: -348.274651, T: 50000, Avg. loss: 3618132.395489\n",
      "Total training time: 0.17 seconds.\n",
      "-- Epoch 1\n",
      "Norm: 24773.98, NNZs: 3072, Bias: -102.582564, T: 50000, Avg. loss: 3303348.181451\n",
      "Total training time: 0.18 seconds.\n"
     ]
    },
    {
     "name": "stderr",
     "output_type": "stream",
     "text": [
      "[Parallel(n_jobs=1)]: Done  10 out of  10 | elapsed:    2.3s finished\n",
      "/home/pedro/miniconda3/envs/computer-vision/lib/python3.6/site-packages/sklearn/linear_model/stochastic_gradient.py:561: ConvergenceWarning: Maximum number of iteration reached before convergence. Consider increasing max_iter to improve the fit.\n",
      "  ConvergenceWarning)\n"
     ]
    },
    {
     "name": "stdout",
     "output_type": "stream",
     "text": [
      "[INFO] accuracy: 24.20%\n"
     ]
    }
   ],
   "source": [
    "from sklearn.linear_model import SGDClassifier\n",
    "\n",
    "# train a SGD classifier using a softmax loss function and the\n",
    "# specified regularization function for 10 epochs\n",
    "model = SGDClassifier(loss=\"log\", penalty='l2', max_iter=1, verbose=1)\n",
    "model.fit(trainX, trainY)\n",
    "\n",
    "# evaluate the classifier\n",
    "acc = model.score(testX, testY)\n",
    "print(\"[INFO] accuracy: {:.2f}%\".format(acc * 100))"
   ]
  },
  {
   "cell_type": "code",
   "execution_count": null,
   "metadata": {},
   "outputs": [],
   "source": []
  }
 ],
 "metadata": {
  "kernelspec": {
   "display_name": "Python 3",
   "language": "python",
   "name": "python3"
  },
  "language_info": {
   "codemirror_mode": {
    "name": "ipython",
    "version": 3
   },
   "file_extension": ".py",
   "mimetype": "text/x-python",
   "name": "python",
   "nbconvert_exporter": "python",
   "pygments_lexer": "ipython3",
   "version": "3.6.9"
  }
 },
 "nbformat": 4,
 "nbformat_minor": 4
}
