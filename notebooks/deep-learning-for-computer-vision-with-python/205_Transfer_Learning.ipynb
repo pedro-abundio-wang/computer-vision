{
 "cells": [
  {
   "cell_type": "markdown",
   "metadata": {},
   "source": [
    "# Transfer Learning"
   ]
  },
  {
   "cell_type": "code",
   "execution_count": 6,
   "metadata": {},
   "outputs": [
    {
     "name": "stdout",
     "output_type": "stream",
     "text": [
      "The autoreload extension is already loaded. To reload it, use:\n",
      "  %reload_ext autoreload\n"
     ]
    }
   ],
   "source": [
    "import matplotlib.pyplot as plt\n",
    "\n",
    "# This is a bit of magic to make matplotlib figures appear inline in the\n",
    "# notebook rather than in a new window.\n",
    "%matplotlib inline\n",
    "plt.rcParams['figure.figsize'] = (10.0, 8.0) # set default size of plots\n",
    "plt.rcParams['image.interpolation'] = 'nearest'\n",
    "plt.rcParams['image.cmap'] = 'gray'\n",
    "\n",
    "# Some more magic so that the notebook will reload external python modules;\n",
    "# see http://stackoverflow.com/questions/1907993/autoreload-of-modules-in-ipython\n",
    "%load_ext autoreload\n",
    "%autoreload 2"
   ]
  },
  {
   "cell_type": "code",
   "execution_count": 7,
   "metadata": {},
   "outputs": [
    {
     "name": "stdout",
     "output_type": "stream",
     "text": [
      "[INFO] loading network...\n",
      "[INFO] showing layers...\n",
      "[INFO] 0\tInputLayer\n",
      "[INFO] 1\tConv2D\n",
      "[INFO] 2\tConv2D\n",
      "[INFO] 3\tMaxPooling2D\n",
      "[INFO] 4\tConv2D\n",
      "[INFO] 5\tConv2D\n",
      "[INFO] 6\tMaxPooling2D\n",
      "[INFO] 7\tConv2D\n",
      "[INFO] 8\tConv2D\n",
      "[INFO] 9\tConv2D\n",
      "[INFO] 10\tMaxPooling2D\n",
      "[INFO] 11\tConv2D\n",
      "[INFO] 12\tConv2D\n",
      "[INFO] 13\tConv2D\n",
      "[INFO] 14\tMaxPooling2D\n",
      "[INFO] 15\tConv2D\n",
      "[INFO] 16\tConv2D\n",
      "[INFO] 17\tConv2D\n",
      "[INFO] 18\tMaxPooling2D\n"
     ]
    }
   ],
   "source": [
    "# import the necessary packages\n",
    "from keras.applications import VGG16\n",
    "from keras.layers import Input\n",
    "\n",
    "import argparse\n",
    "\n",
    "# load the VGG16 network\n",
    "print(\"[INFO] loading network...\")\n",
    "model = VGG16(weights=\"imagenet\", include_top=False, input_tensor=Input(shape=(224, 224, 3)))\n",
    "print(\"[INFO] showing layers...\")\n",
    "\n",
    "# loop over the layers in the network and display them to the console\n",
    "for (i, layer) in enumerate(model.layers):\n",
    "    print(\"[INFO] {}\\t{}\".format(i, layer.__class__.__name__))"
   ]
  },
  {
   "cell_type": "code",
   "execution_count": 8,
   "metadata": {},
   "outputs": [
    {
     "name": "stdout",
     "output_type": "stream",
     "text": [
      "_________________________________________________________________\n",
      "Layer (type)                 Output Shape              Param #   \n",
      "=================================================================\n",
      "input_3 (InputLayer)         (None, 224, 224, 3)       0         \n",
      "_________________________________________________________________\n",
      "block1_conv1 (Conv2D)        (None, 224, 224, 64)      1792      \n",
      "_________________________________________________________________\n",
      "block1_conv2 (Conv2D)        (None, 224, 224, 64)      36928     \n",
      "_________________________________________________________________\n",
      "block1_pool (MaxPooling2D)   (None, 112, 112, 64)      0         \n",
      "_________________________________________________________________\n",
      "block2_conv1 (Conv2D)        (None, 112, 112, 128)     73856     \n",
      "_________________________________________________________________\n",
      "block2_conv2 (Conv2D)        (None, 112, 112, 128)     147584    \n",
      "_________________________________________________________________\n",
      "block2_pool (MaxPooling2D)   (None, 56, 56, 128)       0         \n",
      "_________________________________________________________________\n",
      "block3_conv1 (Conv2D)        (None, 56, 56, 256)       295168    \n",
      "_________________________________________________________________\n",
      "block3_conv2 (Conv2D)        (None, 56, 56, 256)       590080    \n",
      "_________________________________________________________________\n",
      "block3_conv3 (Conv2D)        (None, 56, 56, 256)       590080    \n",
      "_________________________________________________________________\n",
      "block3_pool (MaxPooling2D)   (None, 28, 28, 256)       0         \n",
      "_________________________________________________________________\n",
      "block4_conv1 (Conv2D)        (None, 28, 28, 512)       1180160   \n",
      "_________________________________________________________________\n",
      "block4_conv2 (Conv2D)        (None, 28, 28, 512)       2359808   \n",
      "_________________________________________________________________\n",
      "block4_conv3 (Conv2D)        (None, 28, 28, 512)       2359808   \n",
      "_________________________________________________________________\n",
      "block4_pool (MaxPooling2D)   (None, 14, 14, 512)       0         \n",
      "_________________________________________________________________\n",
      "block5_conv1 (Conv2D)        (None, 14, 14, 512)       2359808   \n",
      "_________________________________________________________________\n",
      "block5_conv2 (Conv2D)        (None, 14, 14, 512)       2359808   \n",
      "_________________________________________________________________\n",
      "block5_conv3 (Conv2D)        (None, 14, 14, 512)       2359808   \n",
      "_________________________________________________________________\n",
      "block5_pool (MaxPooling2D)   (None, 7, 7, 512)         0         \n",
      "=================================================================\n",
      "Total params: 14,714,688\n",
      "Trainable params: 14,714,688\n",
      "Non-trainable params: 0\n",
      "_________________________________________________________________\n"
     ]
    }
   ],
   "source": [
    "model.summary()"
   ]
  },
  {
   "cell_type": "code",
   "execution_count": 9,
   "metadata": {},
   "outputs": [],
   "source": [
    "# import the necessary packages\n",
    "from keras.layers.core import Dropout\n",
    "from keras.layers.core import Flatten\n",
    "from keras.layers.core import Dense"
   ]
  },
  {
   "cell_type": "code",
   "execution_count": 10,
   "metadata": {},
   "outputs": [],
   "source": [
    "class FCHeadNet:\n",
    "    \n",
    "    def build(self, baseModel, classes, D):\n",
    "        # initialize the head model that will be placed on top of\n",
    "        # the base, then add a FC layer\n",
    "        headModel = baseModel.output\n",
    "        headModel = Flatten(name=\"flatten\")(headModel)\n",
    "        headModel = Dense(D, activation=\"relu\")(headModel)\n",
    "        # headModel = Dropout(0.5)(headModel)\n",
    "\n",
    "        # add a softmax layer\n",
    "        headModel = Dense(classes, activation=\"softmax\")(headModel)\n",
    "\n",
    "        # return the model\n",
    "        return headModel"
   ]
  },
  {
   "cell_type": "markdown",
   "metadata": {},
   "source": [
    "# Fine Tuning"
   ]
  },
  {
   "cell_type": "code",
   "execution_count": 11,
   "metadata": {},
   "outputs": [],
   "source": [
    "# import the necessary packages\n",
    "from sklearn.preprocessing import LabelBinarizer\n",
    "from sklearn.model_selection import train_test_split\n",
    "from sklearn.metrics import classification_report\n",
    "\n",
    "from utils.image_preprocessor import ImagePreprocessor\n",
    "from utils.image_preprocessor import AspectAwarePreprocessor\n",
    "from utils.image_preprocessor import ImageToArrayPreprocessor\n",
    "\n",
    "from keras.preprocessing.image import ImageDataGenerator\n",
    "from keras.optimizers import RMSprop\n",
    "from keras.optimizers import SGD\n",
    "from keras.applications import VGG16\n",
    "from keras.layers import Input\n",
    "from keras.models import Model\n",
    "\n",
    "import numpy as np\n",
    "import os"
   ]
  },
  {
   "cell_type": "code",
   "execution_count": 7,
   "metadata": {},
   "outputs": [],
   "source": [
    "# construct the image generator for data augmentation\n",
    "aug = ImageDataGenerator(rotation_range=30, width_shift_range=0.1,\n",
    "                         height_shift_range=0.1, shear_range=0.2, zoom_range=0.2,\n",
    "                         horizontal_flip=True, fill_mode=\"nearest\")"
   ]
  },
  {
   "cell_type": "code",
   "execution_count": 12,
   "metadata": {},
   "outputs": [],
   "source": [
    "from keras.datasets import cifar10\n",
    "((trainX, trainY), (testX, testY)) = cifar10.load_data()\n",
    "labelNames = [\"airplane\", \"automobile\", \"bird\", \"cat\", \"deer\", \"dog\", \"frog\", \"horse\", \"ship\", \"truck\"]"
   ]
  },
  {
   "cell_type": "code",
   "execution_count": 9,
   "metadata": {},
   "outputs": [],
   "source": [
    "train_sample_num = 1000\n",
    "test_sample_num = 200"
   ]
  },
  {
   "cell_type": "code",
   "execution_count": 10,
   "metadata": {},
   "outputs": [
    {
     "name": "stdout",
     "output_type": "stream",
     "text": [
      "(1000, 32, 32, 3)\n",
      "(1000, 1)\n"
     ]
    }
   ],
   "source": [
    "trainX = trainX[:train_sample_num]\n",
    "trainY = trainY[:train_sample_num]\n",
    "print(trainX.shape)\n",
    "print(trainY.shape)"
   ]
  },
  {
   "cell_type": "code",
   "execution_count": 11,
   "metadata": {},
   "outputs": [
    {
     "name": "stdout",
     "output_type": "stream",
     "text": [
      "(200, 32, 32, 3)\n",
      "(200, 1)\n"
     ]
    }
   ],
   "source": [
    "testX = testX[:test_sample_num]\n",
    "testY = testY[:test_sample_num]\n",
    "print(testX.shape)\n",
    "print(testY.shape)"
   ]
  },
  {
   "cell_type": "code",
   "execution_count": 13,
   "metadata": {},
   "outputs": [],
   "source": [
    "aap = AspectAwarePreprocessor(224, 224)\n",
    "iap = ImageToArrayPreprocessor()\n",
    "ip = ImagePreprocessor(preprocessors=[aap, iap])"
   ]
  },
  {
   "cell_type": "code",
   "execution_count": null,
   "metadata": {},
   "outputs": [],
   "source": [
    "trainX = ip.preprocess(trainX)\n",
    "testX = ip.preprocess(testX)"
   ]
  },
  {
   "cell_type": "code",
   "execution_count": 14,
   "metadata": {},
   "outputs": [],
   "source": [
    "trainX = trainX / 255.0\n",
    "testX = testX / 255.0"
   ]
  },
  {
   "cell_type": "code",
   "execution_count": 15,
   "metadata": {},
   "outputs": [],
   "source": [
    "trainY = LabelBinarizer().fit_transform(trainY)\n",
    "testY = LabelBinarizer().fit_transform(testY)"
   ]
  },
  {
   "cell_type": "code",
   "execution_count": 16,
   "metadata": {},
   "outputs": [
    {
     "name": "stdout",
     "output_type": "stream",
     "text": [
      "(1000, 224, 224, 3)\n",
      "(1000, 10)\n"
     ]
    }
   ],
   "source": [
    "print(trainX.shape)\n",
    "print(trainY.shape)"
   ]
  },
  {
   "cell_type": "code",
   "execution_count": 17,
   "metadata": {},
   "outputs": [
    {
     "name": "stdout",
     "output_type": "stream",
     "text": [
      "(200, 224, 224, 3)\n",
      "(200, 10)\n"
     ]
    }
   ],
   "source": [
    "print(testX.shape)\n",
    "print(testY.shape)"
   ]
  },
  {
   "cell_type": "code",
   "execution_count": 18,
   "metadata": {},
   "outputs": [],
   "source": [
    "# path to output model\n",
    "model_path = \"./output/model_persistence/vgg_cifar10_transfer_learning.hdf5\""
   ]
  },
  {
   "cell_type": "code",
   "execution_count": 19,
   "metadata": {},
   "outputs": [
    {
     "name": "stdout",
     "output_type": "stream",
     "text": [
      "[INFO] compiling model...\n",
      "[INFO] training head...\n",
      "Epoch 1/25\n",
      "31/31 [==============================] - 10s 333ms/step - loss: 4.7961 - acc: 0.1401 - val_loss: 2.2654 - val_acc: 0.1250\n",
      "Epoch 2/25\n",
      "31/31 [==============================] - 7s 219ms/step - loss: 2.2741 - acc: 0.1512 - val_loss: 2.2409 - val_acc: 0.1050\n",
      "Epoch 3/25\n",
      "31/31 [==============================] - 7s 220ms/step - loss: 2.2105 - acc: 0.1704 - val_loss: 2.1197 - val_acc: 0.2200\n",
      "Epoch 4/25\n",
      "31/31 [==============================] - 7s 222ms/step - loss: 2.1589 - acc: 0.1986 - val_loss: 2.0887 - val_acc: 0.2500\n",
      "Epoch 5/25\n",
      "31/31 [==============================] - 7s 227ms/step - loss: 2.1608 - acc: 0.1906 - val_loss: 2.1360 - val_acc: 0.2000\n",
      "Epoch 6/25\n",
      "31/31 [==============================] - 7s 230ms/step - loss: 2.0700 - acc: 0.2360 - val_loss: 1.9838 - val_acc: 0.2600\n",
      "Epoch 7/25\n",
      "31/31 [==============================] - 7s 223ms/step - loss: 2.0366 - acc: 0.2270 - val_loss: 2.0361 - val_acc: 0.2550\n",
      "Epoch 8/25\n",
      "31/31 [==============================] - 7s 228ms/step - loss: 2.0122 - acc: 0.2399 - val_loss: 1.9816 - val_acc: 0.2600\n",
      "Epoch 9/25\n",
      "31/31 [==============================] - 7s 221ms/step - loss: 2.0188 - acc: 0.2329 - val_loss: 1.9740 - val_acc: 0.2000\n",
      "Epoch 10/25\n",
      "31/31 [==============================] - 7s 228ms/step - loss: 1.9861 - acc: 0.2549 - val_loss: 1.9419 - val_acc: 0.3400\n",
      "Epoch 11/25\n",
      "31/31 [==============================] - 7s 221ms/step - loss: 1.9835 - acc: 0.2570 - val_loss: 1.9147 - val_acc: 0.3500\n",
      "Epoch 12/25\n",
      "31/31 [==============================] - 7s 221ms/step - loss: 1.9443 - acc: 0.2501 - val_loss: 1.8336 - val_acc: 0.3150\n",
      "Epoch 13/25\n",
      "31/31 [==============================] - 7s 221ms/step - loss: 1.9029 - acc: 0.2751 - val_loss: 1.8318 - val_acc: 0.3150\n",
      "Epoch 14/25\n",
      "31/31 [==============================] - 7s 221ms/step - loss: 1.8666 - acc: 0.2934 - val_loss: 1.7880 - val_acc: 0.3150\n",
      "Epoch 15/25\n",
      "31/31 [==============================] - 7s 222ms/step - loss: 1.8671 - acc: 0.3156 - val_loss: 1.7959 - val_acc: 0.3850\n",
      "Epoch 16/25\n",
      "31/31 [==============================] - 7s 221ms/step - loss: 1.8781 - acc: 0.2973 - val_loss: 1.8030 - val_acc: 0.3000\n",
      "Epoch 17/25\n",
      "31/31 [==============================] - 7s 221ms/step - loss: 1.8380 - acc: 0.3307 - val_loss: 1.7419 - val_acc: 0.3950\n",
      "Epoch 18/25\n",
      "31/31 [==============================] - 7s 221ms/step - loss: 1.8690 - acc: 0.3085 - val_loss: 1.7403 - val_acc: 0.3900\n",
      "Epoch 19/25\n",
      "31/31 [==============================] - 7s 221ms/step - loss: 1.8874 - acc: 0.2964 - val_loss: 1.8453 - val_acc: 0.3900\n",
      "Epoch 20/25\n",
      "31/31 [==============================] - 7s 221ms/step - loss: 1.8363 - acc: 0.3125 - val_loss: 1.6882 - val_acc: 0.4650\n",
      "Epoch 21/25\n",
      "31/31 [==============================] - 7s 221ms/step - loss: 1.8665 - acc: 0.2974 - val_loss: 1.6624 - val_acc: 0.4750\n",
      "Epoch 22/25\n",
      "31/31 [==============================] - 7s 221ms/step - loss: 1.8258 - acc: 0.3398 - val_loss: 1.7357 - val_acc: 0.3600\n",
      "Epoch 23/25\n",
      "31/31 [==============================] - 7s 221ms/step - loss: 1.8535 - acc: 0.3065 - val_loss: 1.7512 - val_acc: 0.4200\n",
      "Epoch 24/25\n",
      "31/31 [==============================] - 7s 221ms/step - loss: 1.7496 - acc: 0.3346 - val_loss: 1.6685 - val_acc: 0.4300\n",
      "Epoch 25/25\n",
      "31/31 [==============================] - 7s 221ms/step - loss: 1.7989 - acc: 0.3206 - val_loss: 1.6645 - val_acc: 0.4150\n",
      "[INFO] evaluating after initialization...\n",
      "              precision    recall  f1-score   support\n",
      "\n",
      "    airplane       0.39      0.45      0.42        20\n",
      "  automobile       0.41      0.79      0.54        14\n",
      "        bird       0.43      0.43      0.43        21\n",
      "         cat       0.17      0.05      0.08        19\n",
      "        deer       0.27      0.20      0.23        15\n",
      "         dog       0.00      0.00      0.00        18\n",
      "        frog       0.33      0.85      0.48        26\n",
      "       horse       0.70      0.39      0.50        18\n",
      "        ship       0.48      0.46      0.47        28\n",
      "       truck       0.89      0.38      0.53        21\n",
      "\n",
      "    accuracy                           0.41       200\n",
      "   macro avg       0.41      0.40      0.37       200\n",
      "weighted avg       0.42      0.41      0.38       200\n",
      "\n"
     ]
    },
    {
     "name": "stderr",
     "output_type": "stream",
     "text": [
      "/home/pedro/anaconda3/envs/computer-vision/lib/python3.6/site-packages/sklearn/metrics/classification.py:1437: UndefinedMetricWarning: Precision and F-score are ill-defined and being set to 0.0 in labels with no predicted samples.\n",
      "  'precision', 'predicted', average, warn_for)\n"
     ]
    }
   ],
   "source": [
    "# load the VGG16 network, ensuring the head FC layer sets are left\n",
    "# off\n",
    "baseModel = VGG16(weights=\"imagenet\", include_top=False, input_tensor=Input(shape=(224, 224, 3)))\n",
    "\n",
    "# initialize the new head of the network, a set of FC layers\n",
    "# followed by a softmax classifier\n",
    "headModel = FCHeadNet().build(baseModel, len(labelNames), 256)\n",
    "\n",
    "# place the head FC model on top of the base model -- this will\n",
    "# become the actual model we will train\n",
    "model = Model(inputs=baseModel.input, outputs=headModel)\n",
    "\n",
    "# loop over all layers in the base model and freeze them so they\n",
    "# will *not* be updated during the training process\n",
    "for layer in baseModel.layers:\n",
    "    layer.trainable = False\n",
    "\n",
    "# compile our model (this needs to be done after our setting our\n",
    "# layers to being non-trainable\n",
    "print(\"[INFO] compiling model...\")\n",
    "\n",
    "opt = RMSprop(lr=0.001)\n",
    "model.compile(loss=\"categorical_crossentropy\", optimizer=opt, metrics=[\"accuracy\"])\n",
    "\n",
    "# train the head of the network for a few epochs (all other\n",
    "# layers are frozen) -- this will allow the new FC layers to\n",
    "# start to become initialized with actual \"learned\" values\n",
    "# versus pure random\n",
    "print(\"[INFO] training head...\")\n",
    "model.fit_generator(aug.flow(trainX, trainY, batch_size=32), \n",
    "                    validation_data=(testX, testY), epochs=25, \n",
    "                    steps_per_epoch=len(trainX) // 32, verbose=1)\n",
    "\n",
    "# evaluate the network after initialization\n",
    "print(\"[INFO] evaluating after initialization...\")\n",
    "predictions = model.predict(testX, batch_size=32)\n",
    "print(classification_report(testY.argmax(axis=1), predictions.argmax(axis=1), target_names=labelNames))"
   ]
  },
  {
   "cell_type": "code",
   "execution_count": null,
   "metadata": {
    "scrolled": false
   },
   "outputs": [],
   "source": [
    "# now that the head FC layers have been trained/initialized, lets\n",
    "# unfreeze the final set of CONV layers and make them trainable\n",
    "for layer in baseModel.layers[15:]:\n",
    "    layer.trainable = True\n",
    "\n",
    "# for the changes to the model to take affect we need to recompile\n",
    "# the model, this time using SGD with a *very* small learning rate\n",
    "print(\"[INFO] re-compiling model...\")\n",
    "opt = SGD(lr=0.001)\n",
    "model.compile(loss=\"categorical_crossentropy\", optimizer=opt, metrics=[\"accuracy\"])\n",
    "\n",
    "# train the model again, this time fine-tuning *both* the final set\n",
    "# of CONV layers along with our set of FC layers\n",
    "print(\"[INFO] fine-tuning model...\")\n",
    "model.fit_generator(aug.flow(trainX, trainY, batch_size=32), \n",
    "                    validation_data=(testX, testY), epochs=100, \n",
    "                    steps_per_epoch=len(trainX) // 32, verbose=1)\n",
    "\n",
    "# evaluate the network on the fine-tuned model\n",
    "print(\"[INFO] evaluating after fine-tuning...\")\n",
    "predictions = model.predict(testX, batch_size=32)\n",
    "print(classification_report(testY.argmax(axis=1), predictions.argmax(axis=1), target_names=labelNames))"
   ]
  },
  {
   "cell_type": "code",
   "execution_count": null,
   "metadata": {},
   "outputs": [],
   "source": [
    "# save the model to disk\n",
    "print(\"[INFO] serializing model...\")\n",
    "model.save(model_path)"
   ]
  },
  {
   "cell_type": "markdown",
   "metadata": {},
   "source": [
    "Well Done"
   ]
  }
 ],
 "metadata": {
  "kernelspec": {
   "display_name": "Python 3",
   "language": "python",
   "name": "python3"
  },
  "language_info": {
   "codemirror_mode": {
    "name": "ipython",
    "version": 3
   },
   "file_extension": ".py",
   "mimetype": "text/x-python",
   "name": "python",
   "nbconvert_exporter": "python",
   "pygments_lexer": "ipython3",
   "version": "3.6.9"
  }
 },
 "nbformat": 4,
 "nbformat_minor": 4
}
