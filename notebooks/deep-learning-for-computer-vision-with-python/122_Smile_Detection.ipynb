{
 "cells": [
  {
   "cell_type": "markdown",
   "metadata": {},
   "source": [
    "# Training the Smile CNN"
   ]
  },
  {
   "cell_type": "code",
   "execution_count": null,
   "metadata": {},
   "outputs": [],
   "source": [
    "# import the necessary packages\n",
    "from sklearn.preprocessing import LabelEncoder\n",
    "from sklearn.model_selection import train_test_split\n",
    "from sklearn.metrics import classification_report\n",
    "from keras.utils import np_utils\n",
    "import matplotlib.pyplot as plt\n",
    "import numpy as np\n",
    "import cv2\n",
    "import os\n",
    "import glob\n",
    "from classifiers.lenet5 import LeNet5"
   ]
  },
  {
   "cell_type": "code",
   "execution_count": null,
   "metadata": {},
   "outputs": [],
   "source": [
    "# path to input dataset of faces\n",
    "dataset = './datasets/SMILEs'\n",
    "# path to output model\n",
    "model_path = './output/model_persistence/smile-lenet.hdf5'"
   ]
  },
  {
   "cell_type": "code",
   "execution_count": null,
   "metadata": {},
   "outputs": [],
   "source": [
    "imagePaths = glob.glob('./datasets/SMILEs/**/**/*.jpg')"
   ]
  },
  {
   "cell_type": "code",
   "execution_count": null,
   "metadata": {},
   "outputs": [],
   "source": [
    "from utils.image_preprocessor import AspectAwarePreprocessor\n",
    "from utils.image_preprocessor import ImagePreprocessor\n",
    "from utils.image_preprocessor import ImageToArrayPreprocessor\n",
    "\n",
    "aap = AspectAwarePreprocessor(28, 28)\n",
    "iap = ImageToArrayPreprocessor()"
   ]
  },
  {
   "cell_type": "code",
   "execution_count": null,
   "metadata": {},
   "outputs": [],
   "source": [
    "# initialize the list of data and labels\n",
    "data = []\n",
    "labels = []\n",
    "# loop over the input images\n",
    "for imagePath in sorted(imagePaths):\n",
    "    # load the image, pre-process it, and store it in the data list\n",
    "    image = cv2.imread(imagePath)\n",
    "    image = cv2.cvtColor(image, cv2.COLOR_BGR2GRAY)\n",
    "    image = aap.preprocess(image)\n",
    "    image = iap.preprocess(image)\n",
    "    data.append(image)\n",
    "    \n",
    "    # extract the class label from the image path and update the\n",
    "    # labels list\n",
    "    label = imagePath.split(os.path.sep)[-3]\n",
    "    label = \"smiling\" if label == \"positives\" else \"not_smiling\"\n",
    "    labels.append(label)\n",
    "    \n",
    "# scale the raw pixel intensities to the range [0, 1]\n",
    "data = np.array(data, dtype=\"float\") / 255.0\n",
    "labels = np.array(labels)\n",
    "\n",
    "# convert the labels from integers to vectors\n",
    "le = LabelEncoder().fit(labels)\n",
    "labels = np_utils.to_categorical(le.transform(labels), 2)\n",
    "\n",
    "# account for skew in the labeled data\n",
    "classTotals = labels.sum(axis=0)\n",
    "classWeight = classTotals.max() / classTotals"
   ]
  },
  {
   "cell_type": "code",
   "execution_count": null,
   "metadata": {},
   "outputs": [],
   "source": [
    "# partition the data into training and testing splits using 80% of\n",
    "# the data for training and the remaining 20% for testing\n",
    "(trainX, testX, trainY, testY) = train_test_split(data, labels, test_size=0.20, stratify=labels, random_state=42)"
   ]
  },
  {
   "cell_type": "code",
   "execution_count": null,
   "metadata": {},
   "outputs": [],
   "source": [
    "from classifiers.lenet5 import LeNet5\n",
    "\n",
    "# initialize the model\n",
    "print(\"[INFO] compiling model...\")\n",
    "model = LeNet5().build(width=28, height=28, depth=1, classes=2)\n",
    "model.compile(loss=\"binary_crossentropy\", optimizer=\"adam\", metrics=[\"accuracy\"])"
   ]
  },
  {
   "cell_type": "code",
   "execution_count": null,
   "metadata": {
    "scrolled": true
   },
   "outputs": [],
   "source": [
    "# train the network\n",
    "print(\"[INFO] training network...\")\n",
    "H = model.fit(trainX, trainY, validation_data=(testX, testY), \n",
    "              class_weight=classWeight, batch_size=64, epochs=15, verbose=1)"
   ]
  },
  {
   "cell_type": "code",
   "execution_count": 24,
   "metadata": {},
   "outputs": [
    {
     "name": "stdout",
     "output_type": "stream",
     "text": [
      "[INFO] evaluating network...\n",
      "              precision    recall  f1-score   support\n",
      "\n",
      " not_smiling       0.93      0.93      0.93      1895\n",
      "     smiling       0.82      0.83      0.83       738\n",
      "\n",
      "    accuracy                           0.90      2633\n",
      "   macro avg       0.88      0.88      0.88      2633\n",
      "weighted avg       0.90      0.90      0.90      2633\n",
      "\n",
      "[INFO] serializing network...\n"
     ]
    }
   ],
   "source": [
    "# evaluate the network\n",
    "print(\"[INFO] evaluating network...\")\n",
    "predictions = model.predict(testX, batch_size=64)\n",
    "print(classification_report(testY.argmax(axis=1),\n",
    "predictions.argmax(axis=1), target_names=le.classes_))\n",
    "\n",
    "# save the model to disk\n",
    "print(\"[INFO] serializing network...\")\n",
    "model.save(model_path)"
   ]
  },
  {
   "cell_type": "code",
   "execution_count": 25,
   "metadata": {},
   "outputs": [
    {
     "data": {
      "image/png": "[encoded data removed]",
      "text/plain": [
       "<Figure size 432x288 with 1 Axes>"
      ]
     },
     "metadata": {},
     "output_type": "display_data"
    }
   ],
   "source": [
    "# plot the training + testing loss and accuracy\n",
    "plt.style.use(\"ggplot\")\n",
    "plt.figure()\n",
    "plt.plot(np.arange(0, 15), H.history[\"loss\"], label=\"train_loss\")\n",
    "plt.plot(np.arange(0, 15), H.history[\"val_loss\"], label=\"val_loss\")\n",
    "plt.plot(np.arange(0, 15), H.history[\"acc\"], label=\"acc\")\n",
    "plt.plot(np.arange(0, 15), H.history[\"val_acc\"], label=\"val_acc\")\n",
    "plt.title(\"Training Loss and Accuracy\")\n",
    "plt.xlabel(\"Epoch #\")\n",
    "plt.ylabel(\"Loss/Accuracy\")\n",
    "plt.legend()\n",
    "plt.show()"
   ]
  },
  {
   "cell_type": "markdown",
   "metadata": {},
   "source": [
    "# Running the Smile CNN in Real-time"
   ]
  },
  {
   "cell_type": "code",
   "execution_count": null,
   "metadata": {},
   "outputs": [],
   "source": [
    "# import the necessary packages\n",
    "from keras.models import load_model\n",
    "import numpy as np\n",
    "import cv2"
   ]
  },
  {
   "cell_type": "code",
   "execution_count": null,
   "metadata": {},
   "outputs": [],
   "source": [
    "# path to where the face cascade resides\n",
    "cascade = './datasets/SMILEs/haarcascade_frontalface_default.xml'\n",
    "# path to pre-trained smile detector CNN\n",
    "model_path = './output/model_persistence/smile-lenet.hdf5'\n",
    "# path to the video file\n",
    "video = './datasets/SMILEs/smile.mp4'"
   ]
  },
  {
   "cell_type": "code",
   "execution_count": null,
   "metadata": {},
   "outputs": [],
   "source": [
    "# load the face detector cascade and smile detector CNN\n",
    "detector = cv2.CascadeClassifier(cascade)\n",
    "model = load_model(model_path)\n",
    "\n",
    "# if a video path was not supplied, grab the reference to the webcam\n",
    "# camera = cv2.VideoCapture(0)\n",
    "# otherwise, load the video\n",
    "camera = cv2.VideoCapture(video)\n",
    "\n",
    "aap = AspectAwarePreprocessor(300, 300)"
   ]
  },
  {
   "cell_type": "code",
   "execution_count": null,
   "metadata": {},
   "outputs": [],
   "source": [
    "# keep looping\n",
    "while True:\n",
    "    # grab the current frame\n",
    "    (grabbed, frame) = camera.read()\n",
    "\n",
    "    # if we are viewing a video and we did not grab a frame, then we\n",
    "    # have reached the end of the video\n",
    "    if not grabbed:\n",
    "        break\n",
    "\n",
    "    # resize the frame, convert it to grayscale, and then clone the\n",
    "    # original frame so we can draw on it later in the program\n",
    "    frame = aap.preprocess(frame)\n",
    "    gray = cv2.cvtColor(frame, cv2.COLOR_BGR2GRAY)\n",
    "    frameClone = frame.copy()\n",
    "\n",
    "    # detect faces in the input frame, then clone the frame so that\n",
    "    # we can draw on it\n",
    "    rects = detector.detectMultiScale(gray, scaleFactor=1.1, \n",
    "                                      minNeighbors=5, minSize=(30, 30), flags=cv2.CASCADE_SCALE_IMAGE)\n",
    "    \n",
    "    # loop over the face bounding boxes\n",
    "    for (fX, fY, fW, fH) in rects:\n",
    "        # extract the ROI of the face from the grayscale image,\n",
    "        # resize it to a fixed 28x28 pixels, and then prepare the\n",
    "        # ROI for classification via the CNN\n",
    "        roi = gray[fY:fY + fH, fX:fX + fW]\n",
    "        roi = cv2.resize(roi, (28, 28))\n",
    "        roi = roi.astype(\"float\") / 255.0\n",
    "        roi = iap.preprocess(roi)\n",
    "        roi = np.expand_dims(roi, axis=0)\n",
    "        \n",
    "        # determine the probabilities of both \"smiling\" and \"not\n",
    "        # smiling\", then set the label accordingly\n",
    "        (notSmiling, smiling) = model.predict(roi)[0]\n",
    "        label = \"Smiling\" if smiling > notSmiling else \"Not Smiling\"\n",
    "        \n",
    "        # display the label and bounding box rectangle on the output\n",
    "        # frame\n",
    "        cv2.putText(frameClone, label, (fX, fY - 10), cv2.FONT_HERSHEY_SIMPLEX, 0.45, (0, 0, 255), 2)\n",
    "        cv2.rectangle(frameClone, (fX, fY), (fX + fW, fY + fH), (0, 0, 255), 2)\n",
    "        \n",
    "    # show our detected faces along with smiling/not smiling labels\n",
    "    cv2.imshow(\"Face\", frameClone)\n",
    "    \n",
    "    # if the ’q’ key is pressed, stop the loop\n",
    "    if cv2.waitKey(1) & 0xFF == ord(\"q\"):\n",
    "        break\n",
    "        \n",
    "# cleanup the camera and close any open windows\n",
    "camera.release()\n",
    "cv2.destroyAllWindows()"
   ]
  },
  {
   "cell_type": "markdown",
   "metadata": {},
   "source": [
    "Well Done"
   ]
  }
 ],
 "metadata": {
  "kernelspec": {
   "display_name": "Python 3",
   "language": "python",
   "name": "python3"
  },
  "language_info": {
   "codemirror_mode": {
    "name": "ipython",
    "version": 3
   },
   "file_extension": ".py",
   "mimetype": "text/x-python",
   "name": "python",
   "nbconvert_exporter": "python",
   "pygments_lexer": "ipython3",
   "version": "3.6.9"
  }
 },
 "nbformat": 4,
 "nbformat_minor": 4
}
