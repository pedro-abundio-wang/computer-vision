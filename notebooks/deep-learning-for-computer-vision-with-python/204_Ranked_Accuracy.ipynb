{
 "cells": [
  {
   "cell_type": "markdown",
   "metadata": {},
   "source": [
    "# Randed Accuracy"
   ]
  },
  {
   "cell_type": "code",
   "execution_count": null,
   "metadata": {},
   "outputs": [],
   "source": [
    "import matplotlib.pyplot as plt\n",
    "\n",
    "# This is a bit of magic to make matplotlib figures appear  \n",
    "# inline in the notebook rather than in a new window.\n",
    "%matplotlib inline\n",
    "\n",
    "# set default size of plots\n",
    "plt.rcParams['figure.figsize'] = (10.0, 8.0)\n",
    "plt.rcParams['image.interpolation'] = 'nearest'\n",
    "plt.rcParams['image.cmap'] = 'gray'\n",
    "\n",
    "# Some more magic so that the notebook will reload external python modules;\n",
    "# see http://stackoverflow.com/questions/1907993/autoreload-of-modules-in-ipython\n",
    "%load_ext autoreload\n",
    "%autoreload 2"
   ]
  },
  {
   "cell_type": "code",
   "execution_count": null,
   "metadata": {},
   "outputs": [],
   "source": [
    "# import the necessary packages\n",
    "from pyimagesearch.utils.ranked import rank_accuracy\n",
    "import argparse\n",
    "import pickle\n",
    "import h5py\n",
    "\n",
    "# construct the argument parse and parse the arguments\n",
    "# path HDF5 database\n",
    "db = '../datasets/caltech101/hdf5/features.hdf5'\n",
    "# path to pre-trained model\n",
    "model = '../chapter03-feature_extraction/caltech101.cpickle'\n",
    "\n",
    "\n",
    "# load the pre-trained model\n",
    "print(\"[INFO] loading pre-trained model...\")\n",
    "model = pickle.loads(open(args[\"model\"], \"rb\").read())\n",
    "\n",
    "# open the HDF5 database for reading then determine the index of\n",
    "# the training and testing split, provided that this data was\n",
    "# already shuffled *prior* to writing it to disk\n",
    "db = h5py.File(args[\"db\"], \"r\")\n",
    "i = int(db[\"labels\"].shape[0] * 0.75)\n",
    "\n",
    "# make predictions on the testing set then compute the rank-1\n",
    "# and rank-5 accuracies\n",
    "print(\"[INFO] predicting...\")\n",
    "preds = model.predict_proba(db[\"features\"][i:])\n",
    "(rank1, rank5) = rank_accuracy(preds, db[\"labels\"][i:])\n",
    "\n",
    "# display the rank-1 and rank-5 accuracies\n",
    "print(\"[INFO] rank-1: {:.2f}%\".format(rank1 * 100))\n",
    "print(\"[INFO] rank-5: {:.2f}%\".format(rank5 * 100))\n",
    "\n",
    "# close the database\n",
    "db.close()"
   ]
  },
  {
   "cell_type": "markdown",
   "metadata": {},
   "source": [
    "Well Done"
   ]
  }
 ],
 "metadata": {
  "kernelspec": {
   "display_name": "Python 3",
   "language": "python",
   "name": "python3"
  },
  "language_info": {
   "codemirror_mode": {
    "name": "ipython",
    "version": 3
   },
   "file_extension": ".py",
   "mimetype": "text/x-python",
   "name": "python",
   "nbconvert_exporter": "python",
   "pygments_lexer": "ipython3",
   "version": "3.6.9"
  }
 },
 "nbformat": 4,
 "nbformat_minor": 4
}
