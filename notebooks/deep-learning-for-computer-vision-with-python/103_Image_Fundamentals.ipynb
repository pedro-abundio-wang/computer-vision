{
 "cells": [
  {
   "cell_type": "code",
   "execution_count": null,
   "metadata": {
    "scrolled": false
   },
   "outputs": [],
   "source": [
    "import matplotlib.pyplot as plt\n",
    "\n",
    "# This is a bit of magic to make matplotlib figures appear  \n",
    "# inline in the notebook rather than in a new window.\n",
    "%matplotlib inline\n",
    "\n",
    "# set default size of plots\n",
    "plt.rcParams['figure.figsize'] = (10.0, 8.0)\n",
    "plt.rcParams['image.interpolation'] = 'nearest'\n",
    "plt.rcParams['image.cmap'] = 'gray'\n",
    "\n",
    "# Some more magic so that the notebook will reload external python modules;\n",
    "# see http://stackoverflow.com/questions/1907993/autoreload-of-modules-in-ipython\n",
    "%load_ext autoreload\n",
    "%autoreload 2"
   ]
  },
  {
   "cell_type": "markdown",
   "metadata": {},
   "source": [
    "# scikit-image + matplotlib"
   ]
  },
  {
   "cell_type": "code",
   "execution_count": null,
   "metadata": {},
   "outputs": [],
   "source": [
    "from skimage import io\n",
    "image = io.imread('./datasets/images/panamera.jpg')"
   ]
  },
  {
   "cell_type": "code",
   "execution_count": null,
   "metadata": {},
   "outputs": [],
   "source": [
    "# (height, width, channels)\n",
    "image.shape"
   ]
  },
  {
   "cell_type": "code",
   "execution_count": null,
   "metadata": {},
   "outputs": [],
   "source": [
    "# skimage use RGB mode\n",
    "# matplotlib use RGB mode\n",
    "plt.imshow(image)"
   ]
  },
  {
   "cell_type": "code",
   "execution_count": null,
   "metadata": {},
   "outputs": [],
   "source": [
    "# accesses RGB pixel at x = 100, y = 500\n",
    "(r, g, b) = image[500, 100]"
   ]
  },
  {
   "cell_type": "code",
   "execution_count": null,
   "metadata": {},
   "outputs": [],
   "source": [
    "(r, g, b)"
   ]
  },
  {
   "cell_type": "markdown",
   "metadata": {},
   "source": [
    "# opencv + matplotlib"
   ]
  },
  {
   "cell_type": "code",
   "execution_count": null,
   "metadata": {},
   "outputs": [],
   "source": [
    "import cv2\n",
    "image = cv2.imread(\"./datasets/images/panamera.jpg\")"
   ]
  },
  {
   "cell_type": "code",
   "execution_count": null,
   "metadata": {},
   "outputs": [],
   "source": [
    "# (height, width, channels)\n",
    "image.shape"
   ]
  },
  {
   "cell_type": "code",
   "execution_count": null,
   "metadata": {},
   "outputs": [],
   "source": [
    "# accesses BGR pixel at x = 100, y = 500\n",
    "(b, g, r) = image[500, 100]"
   ]
  },
  {
   "cell_type": "code",
   "execution_count": null,
   "metadata": {},
   "outputs": [],
   "source": [
    "(b, g, r)"
   ]
  },
  {
   "cell_type": "code",
   "execution_count": null,
   "metadata": {},
   "outputs": [],
   "source": [
    "# OpenCV use BGR mode\n",
    "# matplotlib use RGB mode\n",
    "image = cv2.cvtColor(image, cv2.COLOR_BGR2RGB)\n",
    "plt.imshow(image)"
   ]
  },
  {
   "cell_type": "markdown",
   "metadata": {},
   "source": [
    "# Image Pyramids"
   ]
  },
  {
   "cell_type": "markdown",
   "metadata": {},
   "source": [
    "An image pyramid is a **multi-scale** representation of an image. At each layer of the pyramid the image is downsized and (optionally) smoothed. At the bottom of the pyramid we have the original image at its original size (in terms of width and height). And at each subsequent layer, the image is **resized (subsampled)** and **optionally smoothed (usually via Gaussian blurring)**. The image is progressively subsampled until some stopping criterion is met, which is normally a minimum size has been reached and no further subsampling needs to take place."
   ]
  },
  {
   "cell_type": "markdown",
   "metadata": {},
   "source": [
    "![caption](images/pyramid.png)"
   ]
  },
  {
   "cell_type": "markdown",
   "metadata": {},
   "source": [
    "## Image Pyramids with Python and OpenCV"
   ]
  },
  {
   "cell_type": "code",
   "execution_count": null,
   "metadata": {},
   "outputs": [],
   "source": [
    "def pyramid(image, scale=1.5, minSize=(30, 30)):\n",
    "    # image - OpenCV Image (BGR mode)\n",
    "    # minSize = (width, height)\n",
    "    \n",
    "    # yield the original image\n",
    "    yield image\n",
    "    # keep looping over the pyramid\n",
    "    while True:\n",
    "        # compute the new dimensions of the image and resize it\n",
    "        height, width, dim = image.shape\n",
    "        height, width = int(height / scale), int(width / scale)\n",
    "        image = cv2.resize(image, (width, height), interpolation=cv2.INTER_AREA)\n",
    "        # if the resized image does not meet the supplied minimum\n",
    "        # size, then stop constructing the pyramid\n",
    "        if image.shape[0] < minSize[1] or image.shape[1] < minSize[0]:\n",
    "            break\n",
    "        # yield the next image in the pyramid\n",
    "        yield image"
   ]
  },
  {
   "cell_type": "code",
   "execution_count": null,
   "metadata": {},
   "outputs": [],
   "source": [
    "import numpy as np\n",
    "\n",
    "image = cv2.imread(\"./datasets/images/panamera.jpg\")\n",
    "rows, cols, dim = image.shape\n",
    "\n",
    "# No smooth, just scaling.\n",
    "# loop over the image pyramid\n",
    "pyramid_image = tuple(pyramid(image, scale=2, minSize=(20, 20)))\n",
    "\n",
    "composite_image = np.zeros((rows, cols + cols // 2, 3), dtype=np.double)\n",
    "\n",
    "composite_image[:rows, :cols, :] = pyramid_image[0]\n",
    "print('pyramid shape = ' + str(pyramid_image[0].shape))\n",
    "\n",
    "i_row = 0\n",
    "for p in pyramid_image[1:]:\n",
    "    print('pyramid shape = ' + str(p.shape))\n",
    "    n_rows, n_cols = p.shape[:2]\n",
    "    composite_image[i_row:i_row + n_rows, cols:cols + n_cols] = p\n",
    "    i_row += n_rows\n",
    "\n",
    "fig, ax = plt.subplots()\n",
    "composite_image = cv2.cvtColor(composite_image.astype('uint8'), cv2.COLOR_BGR2RGB)\n",
    "ax.imshow(composite_image)\n",
    "plt.show()"
   ]
  },
  {
   "cell_type": "markdown",
   "metadata": {},
   "source": [
    "## Image Pyramids with Python and scikit-image"
   ]
  },
  {
   "cell_type": "code",
   "execution_count": null,
   "metadata": {},
   "outputs": [],
   "source": [
    "import numpy as np\n",
    "from skimage.transform import pyramid_gaussian\n",
    "\n",
    "image = io.imread('./datasets/images/panamera.jpg')\n",
    "rows, cols, dim = image.shape\n",
    "\n",
    "# Resizing and Gaussian smoothing.\n",
    "pyramid = tuple(pyramid_gaussian(image, max_layer=4, downscale=2, multichannel=True))\n",
    "\n",
    "composite_image = np.zeros((rows, cols + cols // 2, 3), dtype=np.double)\n",
    "\n",
    "composite_image[:rows, :cols, :] = pyramid[0]\n",
    "print('pyramid shape = ' + str(pyramid_image[0].shape))\n",
    "\n",
    "i_row = 0\n",
    "for p in pyramid[1:]:\n",
    "    n_rows, n_cols = p.shape[:2]\n",
    "    print('pyramid shape = ' + str(p.shape))\n",
    "    composite_image[i_row:i_row + n_rows, cols:cols + n_cols] = p\n",
    "    i_row += n_rows\n",
    "\n",
    "fig, ax = plt.subplots()\n",
    "ax.imshow(composite_image)\n",
    "plt.show()"
   ]
  },
  {
   "cell_type": "markdown",
   "metadata": {},
   "source": [
    "Well Done"
   ]
  }
 ],
 "metadata": {
  "kernelspec": {
   "display_name": "Python 3",
   "language": "python",
   "name": "python3"
  },
  "language_info": {
   "codemirror_mode": {
    "name": "ipython",
    "version": 3
   },
   "file_extension": ".py",
   "mimetype": "text/x-python",
   "name": "python",
   "nbconvert_exporter": "python",
   "pygments_lexer": "ipython3",
   "version": "3.6.9"
  }
 },
 "nbformat": 4,
 "nbformat_minor": 4
}
