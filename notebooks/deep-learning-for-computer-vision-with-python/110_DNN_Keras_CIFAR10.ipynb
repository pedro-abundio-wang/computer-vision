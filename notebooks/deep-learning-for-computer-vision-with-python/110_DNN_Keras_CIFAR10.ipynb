{
 "cells": [
  {
   "cell_type": "markdown",
   "metadata": {},
   "source": [
    "# DNN Keras CIFAR10"
   ]
  },
  {
   "cell_type": "code",
   "execution_count": 1,
   "metadata": {},
   "outputs": [],
   "source": [
    "import matplotlib.pyplot as plt\n",
    "\n",
    "# This is a bit of magic to make matplotlib figures appear  \n",
    "# inline in the notebook rather than in a new window.\n",
    "%matplotlib inline\n",
    "\n",
    "# set default size of plots\n",
    "plt.rcParams['figure.figsize'] = (10.0, 8.0)\n",
    "plt.rcParams['image.interpolation'] = 'nearest'\n",
    "plt.rcParams['image.cmap'] = 'gray'\n",
    "\n",
    "# Some more magic so that the notebook will reload external python modules;\n",
    "# see http://stackoverflow.com/questions/1907993/autoreload-of-modules-in-ipython\n",
    "%load_ext autoreload\n",
    "%autoreload 2"
   ]
  },
  {
   "cell_type": "code",
   "execution_count": 2,
   "metadata": {},
   "outputs": [
    {
     "name": "stderr",
     "output_type": "stream",
     "text": [
      "Using TensorFlow backend.\n",
      "/home/pedro/miniconda3/envs/computer-vision/lib/python3.6/site-packages/tensorflow/python/framework/dtypes.py:523: FutureWarning: Passing (type, 1) or '1type' as a synonym of type is deprecated; in a future version of numpy, it will be understood as (type, (1,)) / '(1,)type'.\n",
      "  _np_qint8 = np.dtype([(\"qint8\", np.int8, 1)])\n",
      "/home/pedro/miniconda3/envs/computer-vision/lib/python3.6/site-packages/tensorflow/python/framework/dtypes.py:524: FutureWarning: Passing (type, 1) or '1type' as a synonym of type is deprecated; in a future version of numpy, it will be understood as (type, (1,)) / '(1,)type'.\n",
      "  _np_quint8 = np.dtype([(\"quint8\", np.uint8, 1)])\n",
      "/home/pedro/miniconda3/envs/computer-vision/lib/python3.6/site-packages/tensorflow/python/framework/dtypes.py:525: FutureWarning: Passing (type, 1) or '1type' as a synonym of type is deprecated; in a future version of numpy, it will be understood as (type, (1,)) / '(1,)type'.\n",
      "  _np_qint16 = np.dtype([(\"qint16\", np.int16, 1)])\n",
      "/home/pedro/miniconda3/envs/computer-vision/lib/python3.6/site-packages/tensorflow/python/framework/dtypes.py:526: FutureWarning: Passing (type, 1) or '1type' as a synonym of type is deprecated; in a future version of numpy, it will be understood as (type, (1,)) / '(1,)type'.\n",
      "  _np_quint16 = np.dtype([(\"quint16\", np.uint16, 1)])\n",
      "/home/pedro/miniconda3/envs/computer-vision/lib/python3.6/site-packages/tensorflow/python/framework/dtypes.py:527: FutureWarning: Passing (type, 1) or '1type' as a synonym of type is deprecated; in a future version of numpy, it will be understood as (type, (1,)) / '(1,)type'.\n",
      "  _np_qint32 = np.dtype([(\"qint32\", np.int32, 1)])\n",
      "/home/pedro/miniconda3/envs/computer-vision/lib/python3.6/site-packages/tensorflow/python/framework/dtypes.py:532: FutureWarning: Passing (type, 1) or '1type' as a synonym of type is deprecated; in a future version of numpy, it will be understood as (type, (1,)) / '(1,)type'.\n",
      "  np_resource = np.dtype([(\"resource\", np.ubyte, 1)])\n"
     ]
    }
   ],
   "source": [
    "# import the necessary packages\n",
    "from sklearn.preprocessing import LabelBinarizer\n",
    "from sklearn.metrics import classification_report\n",
    "from keras.models import Sequential\n",
    "from keras.layers.core import Dense\n",
    "from keras.optimizers import SGD\n",
    "from keras.datasets import cifar10\n",
    "import matplotlib.pyplot as plt\n",
    "import numpy as np"
   ]
  },
  {
   "cell_type": "code",
   "execution_count": 3,
   "metadata": {},
   "outputs": [
    {
     "name": "stdout",
     "output_type": "stream",
     "text": [
      "[INFO] loading CIFAR-10 data...\n"
     ]
    }
   ],
   "source": [
    "# load the training and testing data, scale it into the range [0, 1],\n",
    "# then reshape the design matrix\n",
    "print(\"[INFO] loading CIFAR-10 data...\")\n",
    "((trainX, trainY), (testX, testY)) = cifar10.load_data()\n",
    "trainX = trainX.astype(\"float\") / 255.0\n",
    "testX = testX.astype(\"float\") / 255.0\n",
    "trainX = trainX.reshape((trainX.shape[0], 3072))\n",
    "testX = testX.reshape((testX.shape[0], 3072))"
   ]
  },
  {
   "cell_type": "code",
   "execution_count": 4,
   "metadata": {},
   "outputs": [],
   "source": [
    "# convert the labels from integers to vectors\n",
    "labelBinarizer = LabelBinarizer()\n",
    "trainY = labelBinarizer.fit_transform(trainY)\n",
    "testY = labelBinarizer.fit_transform(testY)"
   ]
  },
  {
   "cell_type": "code",
   "execution_count": 5,
   "metadata": {},
   "outputs": [],
   "source": [
    "# initialize the label names for the CIFAR-10 dataset\n",
    "labelNames = [\"airplane\", \"automobile\", \"bird\", \"cat\", \"deer\", \"dog\", \"frog\", \"horse\", \"ship\", \"truck\"]"
   ]
  },
  {
   "cell_type": "code",
   "execution_count": 6,
   "metadata": {},
   "outputs": [],
   "source": [
    "# define the 3072-1024-512-10 architecture using Keras\n",
    "model = Sequential()\n",
    "model.add(Dense(1024, input_shape=(3072,), activation=\"relu\"))\n",
    "model.add(Dense(512, activation=\"relu\"))\n",
    "model.add(Dense(10, activation=\"softmax\"))"
   ]
  },
  {
   "cell_type": "code",
   "execution_count": 7,
   "metadata": {
    "scrolled": false
   },
   "outputs": [
    {
     "name": "stdout",
     "output_type": "stream",
     "text": [
      "[INFO] training network...\n",
      "Train on 50000 samples, validate on 10000 samples\n",
      "Epoch 1/100\n",
      "50000/50000 [==============================] - 36s 714us/step - loss: 1.8350 - acc: 0.3467 - val_loss: 1.7213 - val_acc: 0.3950\n",
      "Epoch 2/100\n",
      "50000/50000 [==============================] - 26s 516us/step - loss: 1.6474 - acc: 0.4155 - val_loss: 1.6325 - val_acc: 0.4146\n",
      "Epoch 3/100\n",
      "50000/50000 [==============================] - 26s 517us/step - loss: 1.5677 - acc: 0.4448 - val_loss: 1.5479 - val_acc: 0.4499\n",
      "Epoch 4/100\n",
      "50000/50000 [==============================] - 26s 518us/step - loss: 1.5073 - acc: 0.4704 - val_loss: 1.4853 - val_acc: 0.4768\n",
      "Epoch 5/100\n",
      "50000/50000 [==============================] - 26s 515us/step - loss: 1.4626 - acc: 0.4845 - val_loss: 1.4850 - val_acc: 0.4730\n",
      "Epoch 6/100\n",
      "50000/50000 [==============================] - 26s 518us/step - loss: 1.4212 - acc: 0.4994 - val_loss: 1.4479 - val_acc: 0.4894\n",
      "Epoch 7/100\n",
      "50000/50000 [==============================] - 26s 516us/step - loss: 1.3837 - acc: 0.5124 - val_loss: 1.4294 - val_acc: 0.4979\n",
      "Epoch 8/100\n",
      "50000/50000 [==============================] - 26s 513us/step - loss: 1.3492 - acc: 0.5240 - val_loss: 1.4825 - val_acc: 0.4696\n",
      "Epoch 9/100\n",
      "50000/50000 [==============================] - 26s 517us/step - loss: 1.3200 - acc: 0.5350 - val_loss: 1.4547 - val_acc: 0.4773\n",
      "Epoch 10/100\n",
      "50000/50000 [==============================] - 26s 517us/step - loss: 1.2904 - acc: 0.5468 - val_loss: 1.4779 - val_acc: 0.4758\n",
      "Epoch 11/100\n",
      "50000/50000 [==============================] - 26s 517us/step - loss: 1.2662 - acc: 0.5548 - val_loss: 1.3988 - val_acc: 0.5116\n",
      "Epoch 12/100\n",
      "50000/50000 [==============================] - 26s 515us/step - loss: 1.2379 - acc: 0.5659 - val_loss: 1.5454 - val_acc: 0.4576\n",
      "Epoch 13/100\n",
      "50000/50000 [==============================] - 26s 517us/step - loss: 1.2158 - acc: 0.5730 - val_loss: 1.3989 - val_acc: 0.5066\n",
      "Epoch 14/100\n",
      "50000/50000 [==============================] - 26s 517us/step - loss: 1.1883 - acc: 0.5827 - val_loss: 1.4191 - val_acc: 0.5025\n",
      "Epoch 15/100\n",
      "50000/50000 [==============================] - 26s 516us/step - loss: 1.1672 - acc: 0.5911 - val_loss: 1.3512 - val_acc: 0.5212\n",
      "Epoch 16/100\n",
      "50000/50000 [==============================] - 26s 515us/step - loss: 1.1428 - acc: 0.6007 - val_loss: 1.3833 - val_acc: 0.5128\n",
      "Epoch 17/100\n",
      "50000/50000 [==============================] - 26s 516us/step - loss: 1.1208 - acc: 0.6073 - val_loss: 1.5937 - val_acc: 0.4540\n",
      "Epoch 18/100\n",
      "50000/50000 [==============================] - 26s 515us/step - loss: 1.0987 - acc: 0.6145 - val_loss: 1.3240 - val_acc: 0.5289\n",
      "Epoch 19/100\n",
      "50000/50000 [==============================] - 26s 512us/step - loss: 1.0752 - acc: 0.6223 - val_loss: 1.4373 - val_acc: 0.5051\n",
      "Epoch 20/100\n",
      "50000/50000 [==============================] - 26s 518us/step - loss: 1.0541 - acc: 0.6308 - val_loss: 1.3573 - val_acc: 0.5169\n",
      "Epoch 21/100\n",
      "50000/50000 [==============================] - 26s 518us/step - loss: 1.0341 - acc: 0.6371 - val_loss: 1.3704 - val_acc: 0.5210\n",
      "Epoch 22/100\n",
      "50000/50000 [==============================] - 26s 518us/step - loss: 1.0125 - acc: 0.6459 - val_loss: 1.4185 - val_acc: 0.5172\n",
      "Epoch 23/100\n",
      "50000/50000 [==============================] - 26s 517us/step - loss: 0.9884 - acc: 0.6539 - val_loss: 1.3476 - val_acc: 0.5336\n",
      "Epoch 24/100\n",
      "50000/50000 [==============================] - 26s 518us/step - loss: 0.9694 - acc: 0.6595 - val_loss: 1.4609 - val_acc: 0.5074\n",
      "Epoch 25/100\n",
      "50000/50000 [==============================] - 26s 517us/step - loss: 0.9509 - acc: 0.6688 - val_loss: 1.3465 - val_acc: 0.5281\n",
      "Epoch 26/100\n",
      "50000/50000 [==============================] - 26s 517us/step - loss: 0.9272 - acc: 0.6799 - val_loss: 1.3546 - val_acc: 0.5280\n",
      "Epoch 27/100\n",
      "50000/50000 [==============================] - 26s 517us/step - loss: 0.9086 - acc: 0.6821 - val_loss: 1.4694 - val_acc: 0.5037\n",
      "Epoch 28/100\n",
      "50000/50000 [==============================] - 26s 512us/step - loss: 0.8857 - acc: 0.6920 - val_loss: 1.3083 - val_acc: 0.5449\n",
      "Epoch 29/100\n",
      "50000/50000 [==============================] - 26s 514us/step - loss: 0.8656 - acc: 0.6982 - val_loss: 1.3600 - val_acc: 0.5356\n",
      "Epoch 30/100\n",
      "50000/50000 [==============================] - 26s 518us/step - loss: 0.8463 - acc: 0.7065 - val_loss: 1.7113 - val_acc: 0.4765\n",
      "Epoch 31/100\n",
      "50000/50000 [==============================] - 26s 517us/step - loss: 0.8234 - acc: 0.7137 - val_loss: 1.3422 - val_acc: 0.5479\n",
      "Epoch 32/100\n",
      "50000/50000 [==============================] - 26s 515us/step - loss: 0.8041 - acc: 0.7221 - val_loss: 1.4421 - val_acc: 0.5155\n",
      "Epoch 33/100\n",
      "50000/50000 [==============================] - 26s 517us/step - loss: 0.7838 - acc: 0.7301 - val_loss: 1.3112 - val_acc: 0.5540\n",
      "Epoch 34/100\n",
      "50000/50000 [==============================] - 26s 518us/step - loss: 0.7614 - acc: 0.7352 - val_loss: 1.3738 - val_acc: 0.5439\n",
      "Epoch 35/100\n",
      "50000/50000 [==============================] - 26s 517us/step - loss: 0.7395 - acc: 0.7416 - val_loss: 1.4522 - val_acc: 0.5290\n",
      "Epoch 36/100\n",
      "50000/50000 [==============================] - 26s 517us/step - loss: 0.7207 - acc: 0.7530 - val_loss: 1.3321 - val_acc: 0.5563\n",
      "Epoch 37/100\n",
      "50000/50000 [==============================] - 26s 518us/step - loss: 0.6985 - acc: 0.7592 - val_loss: 1.3621 - val_acc: 0.5540\n",
      "Epoch 38/100\n",
      "50000/50000 [==============================] - 26s 517us/step - loss: 0.6796 - acc: 0.7659 - val_loss: 1.4924 - val_acc: 0.5264\n",
      "Epoch 39/100\n",
      "50000/50000 [==============================] - 26s 517us/step - loss: 0.6587 - acc: 0.7726 - val_loss: 1.4039 - val_acc: 0.5458\n",
      "Epoch 40/100\n",
      "50000/50000 [==============================] - 26s 517us/step - loss: 0.6385 - acc: 0.7809 - val_loss: 1.4223 - val_acc: 0.5413\n",
      "Epoch 41/100\n",
      "50000/50000 [==============================] - 26s 518us/step - loss: 0.6224 - acc: 0.7874 - val_loss: 1.5084 - val_acc: 0.5297\n",
      "Epoch 42/100\n",
      "50000/50000 [==============================] - 26s 517us/step - loss: 0.5998 - acc: 0.7940 - val_loss: 1.4091 - val_acc: 0.5529\n",
      "Epoch 43/100\n",
      "50000/50000 [==============================] - 26s 518us/step - loss: 0.5802 - acc: 0.8023 - val_loss: 1.4329 - val_acc: 0.5487\n",
      "Epoch 44/100\n",
      "50000/50000 [==============================] - 26s 517us/step - loss: 0.5613 - acc: 0.8099 - val_loss: 1.5245 - val_acc: 0.5365\n",
      "Epoch 45/100\n",
      "50000/50000 [==============================] - 26s 518us/step - loss: 0.5439 - acc: 0.8176 - val_loss: 1.7604 - val_acc: 0.4932\n",
      "Epoch 46/100\n",
      "50000/50000 [==============================] - 26s 517us/step - loss: 0.5266 - acc: 0.8231 - val_loss: 1.5039 - val_acc: 0.5491\n",
      "Epoch 47/100\n",
      "50000/50000 [==============================] - 26s 516us/step - loss: 0.5061 - acc: 0.8287 - val_loss: 1.4822 - val_acc: 0.5523\n",
      "Epoch 48/100\n",
      "50000/50000 [==============================] - 26s 518us/step - loss: 0.4894 - acc: 0.8358 - val_loss: 1.5622 - val_acc: 0.5485\n",
      "Epoch 49/100\n",
      "50000/50000 [==============================] - 26s 518us/step - loss: 0.4704 - acc: 0.8440 - val_loss: 1.5066 - val_acc: 0.5495\n",
      "Epoch 50/100\n",
      "50000/50000 [==============================] - 26s 517us/step - loss: 0.4498 - acc: 0.8509 - val_loss: 1.5798 - val_acc: 0.5534\n",
      "Epoch 51/100\n",
      "50000/50000 [==============================] - 26s 516us/step - loss: 0.4384 - acc: 0.8526 - val_loss: 1.5843 - val_acc: 0.5459\n",
      "Epoch 52/100\n",
      "50000/50000 [==============================] - 26s 517us/step - loss: 0.4191 - acc: 0.8623 - val_loss: 1.6111 - val_acc: 0.5260\n",
      "Epoch 53/100\n",
      "50000/50000 [==============================] - 26s 517us/step - loss: 0.4066 - acc: 0.8653 - val_loss: 1.6134 - val_acc: 0.5450\n",
      "Epoch 54/100\n",
      "50000/50000 [==============================] - 26s 518us/step - loss: 0.3847 - acc: 0.8755 - val_loss: 1.8310 - val_acc: 0.4970\n",
      "Epoch 55/100\n",
      "50000/50000 [==============================] - 26s 518us/step - loss: 0.3695 - acc: 0.8796 - val_loss: 1.6686 - val_acc: 0.5400\n",
      "Epoch 56/100\n",
      "50000/50000 [==============================] - 26s 516us/step - loss: 0.3584 - acc: 0.8831 - val_loss: 1.8408 - val_acc: 0.5124\n",
      "Epoch 57/100\n",
      "50000/50000 [==============================] - 26s 519us/step - loss: 0.3402 - acc: 0.8915 - val_loss: 1.5986 - val_acc: 0.5596\n",
      "Epoch 58/100\n"
     ]
    },
    {
     "name": "stdout",
     "output_type": "stream",
     "text": [
      "50000/50000 [==============================] - 26s 514us/step - loss: 0.3281 - acc: 0.8962 - val_loss: 1.8056 - val_acc: 0.5298\n",
      "Epoch 59/100\n",
      "50000/50000 [==============================] - 26s 518us/step - loss: 0.3088 - acc: 0.9014 - val_loss: 1.7102 - val_acc: 0.5526\n",
      "Epoch 60/100\n",
      "50000/50000 [==============================] - 26s 522us/step - loss: 0.2981 - acc: 0.9057 - val_loss: 1.6551 - val_acc: 0.5595\n",
      "Epoch 61/100\n",
      "50000/50000 [==============================] - 26s 520us/step - loss: 0.2841 - acc: 0.9114 - val_loss: 1.7678 - val_acc: 0.5464\n",
      "Epoch 62/100\n",
      "50000/50000 [==============================] - 26s 521us/step - loss: 0.2687 - acc: 0.9171 - val_loss: 1.9464 - val_acc: 0.5240\n",
      "Epoch 63/100\n",
      "50000/50000 [==============================] - 26s 520us/step - loss: 0.2605 - acc: 0.9215 - val_loss: 1.8840 - val_acc: 0.5292\n",
      "Epoch 64/100\n",
      "50000/50000 [==============================] - 26s 520us/step - loss: 0.2483 - acc: 0.9236 - val_loss: 1.7039 - val_acc: 0.5632\n",
      "Epoch 65/100\n",
      "50000/50000 [==============================] - 26s 520us/step - loss: 0.2337 - acc: 0.9305 - val_loss: 1.8155 - val_acc: 0.5484\n",
      "Epoch 66/100\n",
      "50000/50000 [==============================] - 26s 519us/step - loss: 0.2224 - acc: 0.9335 - val_loss: 1.8610 - val_acc: 0.5485\n",
      "Epoch 67/100\n",
      "50000/50000 [==============================] - 26s 521us/step - loss: 0.2140 - acc: 0.9365 - val_loss: 1.9455 - val_acc: 0.5455\n",
      "Epoch 68/100\n",
      "50000/50000 [==============================] - 26s 520us/step - loss: 0.1996 - acc: 0.9429 - val_loss: 1.8352 - val_acc: 0.5564\n",
      "Epoch 69/100\n",
      "50000/50000 [==============================] - 26s 519us/step - loss: 0.1943 - acc: 0.9449 - val_loss: 1.8210 - val_acc: 0.5639\n",
      "Epoch 70/100\n",
      "50000/50000 [==============================] - 26s 521us/step - loss: 0.1791 - acc: 0.9504 - val_loss: 1.8697 - val_acc: 0.5565\n",
      "Epoch 71/100\n",
      "50000/50000 [==============================] - 26s 521us/step - loss: 0.1712 - acc: 0.9522 - val_loss: 1.8951 - val_acc: 0.5531\n",
      "Epoch 72/100\n",
      "50000/50000 [==============================] - 26s 519us/step - loss: 0.1650 - acc: 0.9549 - val_loss: 1.8798 - val_acc: 0.5597\n",
      "Epoch 73/100\n",
      "50000/50000 [==============================] - 26s 519us/step - loss: 0.1545 - acc: 0.9583 - val_loss: 2.0145 - val_acc: 0.5409\n",
      "Epoch 74/100\n",
      "50000/50000 [==============================] - 26s 521us/step - loss: 0.1493 - acc: 0.9587 - val_loss: 1.9188 - val_acc: 0.5618\n",
      "Epoch 75/100\n",
      "50000/50000 [==============================] - 26s 520us/step - loss: 0.1376 - acc: 0.9638 - val_loss: 1.9597 - val_acc: 0.5603\n",
      "Epoch 76/100\n",
      "50000/50000 [==============================] - 26s 521us/step - loss: 0.1281 - acc: 0.9679 - val_loss: 1.9382 - val_acc: 0.5662\n",
      "Epoch 77/100\n",
      "50000/50000 [==============================] - 26s 522us/step - loss: 0.1229 - acc: 0.9687 - val_loss: 1.9793 - val_acc: 0.5671\n",
      "Epoch 78/100\n",
      "50000/50000 [==============================] - 26s 520us/step - loss: 0.1133 - acc: 0.9726 - val_loss: 1.9992 - val_acc: 0.5660\n",
      "Epoch 79/100\n",
      "50000/50000 [==============================] - 26s 518us/step - loss: 0.1066 - acc: 0.9747 - val_loss: 2.0553 - val_acc: 0.5570\n",
      "Epoch 80/100\n",
      "50000/50000 [==============================] - 26s 520us/step - loss: 0.1011 - acc: 0.9764 - val_loss: 2.0126 - val_acc: 0.5619\n",
      "Epoch 81/100\n",
      "50000/50000 [==============================] - 26s 521us/step - loss: 0.0964 - acc: 0.9775 - val_loss: 2.1421 - val_acc: 0.5431\n",
      "Epoch 82/100\n",
      "50000/50000 [==============================] - 26s 520us/step - loss: 0.0894 - acc: 0.9800 - val_loss: 2.1535 - val_acc: 0.5620\n",
      "Epoch 83/100\n",
      "50000/50000 [==============================] - 26s 520us/step - loss: 0.0866 - acc: 0.9809 - val_loss: 2.0457 - val_acc: 0.5613\n",
      "Epoch 84/100\n",
      "50000/50000 [==============================] - 26s 520us/step - loss: 0.0769 - acc: 0.9841 - val_loss: 2.0654 - val_acc: 0.5640\n",
      "Epoch 85/100\n",
      "50000/50000 [==============================] - 26s 521us/step - loss: 0.0762 - acc: 0.9834 - val_loss: 2.1248 - val_acc: 0.5634\n",
      "Epoch 86/100\n",
      "50000/50000 [==============================] - 26s 520us/step - loss: 0.0652 - acc: 0.9873 - val_loss: 2.1160 - val_acc: 0.5612\n",
      "Epoch 87/100\n",
      "50000/50000 [==============================] - 26s 521us/step - loss: 0.0612 - acc: 0.9887 - val_loss: 2.1884 - val_acc: 0.5534\n",
      "Epoch 88/100\n",
      "50000/50000 [==============================] - 26s 518us/step - loss: 0.0588 - acc: 0.9895 - val_loss: 2.1089 - val_acc: 0.5628\n",
      "Epoch 89/100\n",
      "50000/50000 [==============================] - 26s 521us/step - loss: 0.0533 - acc: 0.9907 - val_loss: 2.1224 - val_acc: 0.5658\n",
      "Epoch 90/100\n",
      "50000/50000 [==============================] - 26s 519us/step - loss: 0.0511 - acc: 0.9913 - val_loss: 2.1660 - val_acc: 0.5679\n",
      "Epoch 91/100\n",
      "50000/50000 [==============================] - 26s 519us/step - loss: 0.0467 - acc: 0.9921 - val_loss: 2.1621 - val_acc: 0.5630\n",
      "Epoch 92/100\n",
      "50000/50000 [==============================] - 26s 520us/step - loss: 0.0484 - acc: 0.9917 - val_loss: 2.3346 - val_acc: 0.5588\n",
      "Epoch 93/100\n",
      "50000/50000 [==============================] - 26s 519us/step - loss: 0.0425 - acc: 0.9936 - val_loss: 2.1747 - val_acc: 0.5694\n",
      "Epoch 94/100\n",
      "50000/50000 [==============================] - 26s 518us/step - loss: 0.0389 - acc: 0.9940 - val_loss: 2.1705 - val_acc: 0.5707\n",
      "Epoch 95/100\n",
      "50000/50000 [==============================] - 25s 510us/step - loss: 0.0339 - acc: 0.9956 - val_loss: 2.2220 - val_acc: 0.5701\n",
      "Epoch 96/100\n",
      "50000/50000 [==============================] - 26s 522us/step - loss: 0.0328 - acc: 0.9962 - val_loss: 2.2326 - val_acc: 0.5634\n",
      "Epoch 97/100\n",
      "50000/50000 [==============================] - 26s 521us/step - loss: 0.0297 - acc: 0.9966 - val_loss: 2.3688 - val_acc: 0.5594\n",
      "Epoch 98/100\n",
      "50000/50000 [==============================] - 26s 521us/step - loss: 0.0299 - acc: 0.9961 - val_loss: 2.3306 - val_acc: 0.5642\n",
      "Epoch 99/100\n",
      "50000/50000 [==============================] - 26s 520us/step - loss: 0.0262 - acc: 0.9972 - val_loss: 2.2407 - val_acc: 0.5735\n",
      "Epoch 100/100\n",
      "50000/50000 [==============================] - 26s 520us/step - loss: 0.0250 - acc: 0.9973 - val_loss: 2.2744 - val_acc: 0.5684\n"
     ]
    }
   ],
   "source": [
    "# train the model using SGD\n",
    "print(\"[INFO] training network...\")\n",
    "sgd = SGD(0.01)\n",
    "model.compile(loss=\"categorical_crossentropy\", optimizer=sgd, metrics=[\"accuracy\"])\n",
    "H = model.fit(trainX, trainY, validation_data=(testX, testY), epochs=100, batch_size=32)"
   ]
  },
  {
   "cell_type": "code",
   "execution_count": 8,
   "metadata": {},
   "outputs": [
    {
     "name": "stdout",
     "output_type": "stream",
     "text": [
      "[INFO] evaluating network...\n",
      "              precision    recall  f1-score   support\n",
      "\n",
      "    airplane       0.61      0.65      0.63      1000\n",
      "  automobile       0.71      0.64      0.67      1000\n",
      "        bird       0.47      0.47      0.47      1000\n",
      "         cat       0.38      0.45      0.41      1000\n",
      "        deer       0.56      0.47      0.51      1000\n",
      "         dog       0.47      0.45      0.46      1000\n",
      "        frog       0.65      0.61      0.63      1000\n",
      "       horse       0.57      0.67      0.62      1000\n",
      "        ship       0.71      0.68      0.69      1000\n",
      "       truck       0.61      0.61      0.61      1000\n",
      "\n",
      "    accuracy                           0.57     10000\n",
      "   macro avg       0.57      0.57      0.57     10000\n",
      "weighted avg       0.57      0.57      0.57     10000\n",
      "\n"
     ]
    }
   ],
   "source": [
    "# evaluate the network\n",
    "print(\"[INFO] evaluating network...\")\n",
    "predictions = model.predict(testX, batch_size=32)\n",
    "print(classification_report(testY.argmax(axis=1), predictions.argmax(axis=1), target_names=labelNames))"
   ]
  },
  {
   "cell_type": "code",
   "execution_count": 9,
   "metadata": {},
   "outputs": [
    {
     "data": {
      "image/png": "[encoded data removed]",
      "text/plain": [
       "<Figure size 720x576 with 1 Axes>"
      ]
     },
     "metadata": {},
     "output_type": "display_data"
    }
   ],
   "source": [
    "# plot the training loss and accuracy\n",
    "plt.style.use(\"ggplot\")\n",
    "plt.figure()\n",
    "plt.plot(np.arange(0, 100), H.history[\"loss\"], label=\"train_loss\")\n",
    "plt.plot(np.arange(0, 100), H.history[\"val_loss\"], label=\"val_loss\")\n",
    "plt.plot(np.arange(0, 100), H.history[\"acc\"], label=\"train_acc\")\n",
    "plt.plot(np.arange(0, 100), H.history[\"val_acc\"], label=\"val_acc\")\n",
    "plt.title(\"Training Loss and Accuracy\")\n",
    "plt.xlabel(\"Epoch #\")\n",
    "plt.ylabel(\"Loss/Accuracy\")\n",
    "plt.legend()\n",
    "plt.show()"
   ]
  },
  {
   "cell_type": "markdown",
   "metadata": {},
   "source": [
    "Well Done"
   ]
  }
 ],
 "metadata": {
  "kernelspec": {
   "display_name": "Python 3",
   "language": "python",
   "name": "python3"
  },
  "language_info": {
   "codemirror_mode": {
    "name": "ipython",
    "version": 3
   },
   "file_extension": ".py",
   "mimetype": "text/x-python",
   "name": "python",
   "nbconvert_exporter": "python",
   "pygments_lexer": "ipython3",
   "version": "3.6.9"
  }
 },
 "nbformat": 4,
 "nbformat_minor": 4
}
