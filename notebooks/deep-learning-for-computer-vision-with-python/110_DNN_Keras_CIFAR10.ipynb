{
 "cells": [
  {
   "cell_type": "markdown",
   "metadata": {},
   "source": [
    "# DNN Keras CIFAR10"
   ]
  },
  {
   "cell_type": "code",
   "execution_count": 1,
   "metadata": {},
   "outputs": [],
   "source": [
    "import matplotlib.pyplot as plt\n",
    "\n",
    "# This is a bit of magic to make matplotlib figures appear  \n",
    "# inline in the notebook rather than in a new window.\n",
    "%matplotlib inline\n",
    "\n",
    "# set default size of plots\n",
    "plt.rcParams['figure.figsize'] = (10.0, 8.0)\n",
    "plt.rcParams['image.interpolation'] = 'nearest'\n",
    "plt.rcParams['image.cmap'] = 'gray'\n",
    "\n",
    "# Some more magic so that the notebook will reload external python modules;\n",
    "# see http://stackoverflow.com/questions/1907993/autoreload-of-modules-in-ipython\n",
    "%load_ext autoreload\n",
    "%autoreload 2"
   ]
  },
  {
   "cell_type": "code",
   "execution_count": 2,
   "metadata": {},
   "outputs": [
    {
     "name": "stderr",
     "output_type": "stream",
     "text": [
      "Using TensorFlow backend.\n",
      "/home/pedro/miniconda3/envs/computer-vision/lib/python3.6/site-packages/tensorflow/python/framework/dtypes.py:523: FutureWarning: Passing (type, 1) or '1type' as a synonym of type is deprecated; in a future version of numpy, it will be understood as (type, (1,)) / '(1,)type'.\n",
      "  _np_qint8 = np.dtype([(\"qint8\", np.int8, 1)])\n",
      "/home/pedro/miniconda3/envs/computer-vision/lib/python3.6/site-packages/tensorflow/python/framework/dtypes.py:524: FutureWarning: Passing (type, 1) or '1type' as a synonym of type is deprecated; in a future version of numpy, it will be understood as (type, (1,)) / '(1,)type'.\n",
      "  _np_quint8 = np.dtype([(\"quint8\", np.uint8, 1)])\n",
      "/home/pedro/miniconda3/envs/computer-vision/lib/python3.6/site-packages/tensorflow/python/framework/dtypes.py:525: FutureWarning: Passing (type, 1) or '1type' as a synonym of type is deprecated; in a future version of numpy, it will be understood as (type, (1,)) / '(1,)type'.\n",
      "  _np_qint16 = np.dtype([(\"qint16\", np.int16, 1)])\n",
      "/home/pedro/miniconda3/envs/computer-vision/lib/python3.6/site-packages/tensorflow/python/framework/dtypes.py:526: FutureWarning: Passing (type, 1) or '1type' as a synonym of type is deprecated; in a future version of numpy, it will be understood as (type, (1,)) / '(1,)type'.\n",
      "  _np_quint16 = np.dtype([(\"quint16\", np.uint16, 1)])\n",
      "/home/pedro/miniconda3/envs/computer-vision/lib/python3.6/site-packages/tensorflow/python/framework/dtypes.py:527: FutureWarning: Passing (type, 1) or '1type' as a synonym of type is deprecated; in a future version of numpy, it will be understood as (type, (1,)) / '(1,)type'.\n",
      "  _np_qint32 = np.dtype([(\"qint32\", np.int32, 1)])\n",
      "/home/pedro/miniconda3/envs/computer-vision/lib/python3.6/site-packages/tensorflow/python/framework/dtypes.py:532: FutureWarning: Passing (type, 1) or '1type' as a synonym of type is deprecated; in a future version of numpy, it will be understood as (type, (1,)) / '(1,)type'.\n",
      "  np_resource = np.dtype([(\"resource\", np.ubyte, 1)])\n"
     ]
    }
   ],
   "source": [
    "# import the necessary packages\n",
    "from sklearn.preprocessing import LabelBinarizer\n",
    "from sklearn.metrics import classification_report\n",
    "from keras.models import Sequential\n",
    "from keras.layers.core import Dense\n",
    "from keras.optimizers import SGD\n",
    "from keras.datasets import cifar10\n",
    "import matplotlib.pyplot as plt\n",
    "import numpy as np"
   ]
  },
  {
   "cell_type": "code",
   "execution_count": 3,
   "metadata": {},
   "outputs": [
    {
     "name": "stdout",
     "output_type": "stream",
     "text": [
      "[INFO] loading CIFAR-10 data...\n"
     ]
    }
   ],
   "source": [
    "# load the training and testing data, scale it into the range [0, 1],\n",
    "# then reshape the design matrix\n",
    "print(\"[INFO] loading CIFAR-10 data...\")\n",
    "((trainX, trainY), (testX, testY)) = cifar10.load_data()\n",
    "trainX = trainX.astype(\"float\") / 255.0\n",
    "testX = testX.astype(\"float\") / 255.0\n",
    "trainX = trainX.reshape((trainX.shape[0], 3072))\n",
    "testX = testX.reshape((testX.shape[0], 3072))"
   ]
  },
  {
   "cell_type": "code",
   "execution_count": 4,
   "metadata": {},
   "outputs": [],
   "source": [
    "# convert the labels from integers to vectors\n",
    "labelBinarizer = LabelBinarizer()\n",
    "trainY = labelBinarizer.fit_transform(trainY)\n",
    "testY = labelBinarizer.fit_transform(testY)"
   ]
  },
  {
   "cell_type": "code",
   "execution_count": 5,
   "metadata": {},
   "outputs": [],
   "source": [
    "# initialize the label names for the CIFAR-10 dataset\n",
    "labelNames = [\"airplane\", \"automobile\", \"bird\", \"cat\", \"deer\", \"dog\", \"frog\", \"horse\", \"ship\", \"truck\"]"
   ]
  },
  {
   "cell_type": "code",
   "execution_count": 6,
   "metadata": {},
   "outputs": [],
   "source": [
    "# define the 3072-1024-512-10 architecture using Keras\n",
    "model = Sequential()\n",
    "model.add(Dense(1024, input_shape=(3072,), activation=\"relu\"))\n",
    "model.add(Dense(512, activation=\"relu\"))\n",
    "model.add(Dense(10, activation=\"softmax\"))"
   ]
  },
  {
   "cell_type": "code",
   "execution_count": 7,
   "metadata": {
    "scrolled": false
   },
   "outputs": [
    {
     "name": "stdout",
     "output_type": "stream",
     "text": [
      "[INFO] training network...\n",
      "Train on 50000 samples, validate on 10000 samples\n",
      "Epoch 1/100\n",
      "50000/50000 [==============================] - 27s 531us/step - loss: 1.8354 - acc: 0.3444 - val_loss: 1.6947 - val_acc: 0.4067\n",
      "Epoch 2/100\n",
      "50000/50000 [==============================] - 26s 520us/step - loss: 1.6500 - acc: 0.4149 - val_loss: 1.6539 - val_acc: 0.4130\n",
      "Epoch 3/100\n",
      "50000/50000 [==============================] - 26s 518us/step - loss: 1.5665 - acc: 0.4452 - val_loss: 1.5484 - val_acc: 0.4562\n",
      "Epoch 4/100\n",
      "50000/50000 [==============================] - 26s 517us/step - loss: 1.5095 - acc: 0.4640 - val_loss: 1.4895 - val_acc: 0.4728\n",
      "Epoch 5/100\n",
      "50000/50000 [==============================] - 26s 519us/step - loss: 1.4625 - acc: 0.4839 - val_loss: 1.5073 - val_acc: 0.4541\n",
      "Epoch 6/100\n",
      "50000/50000 [==============================] - 26s 517us/step - loss: 1.4219 - acc: 0.4975 - val_loss: 1.5288 - val_acc: 0.4529\n",
      "Epoch 7/100\n",
      "50000/50000 [==============================] - 26s 516us/step - loss: 1.3856 - acc: 0.5124 - val_loss: 1.3945 - val_acc: 0.5068\n",
      "Epoch 8/100\n",
      "50000/50000 [==============================] - 26s 519us/step - loss: 1.3528 - acc: 0.5229 - val_loss: 1.4510 - val_acc: 0.4860\n",
      "Epoch 9/100\n",
      "50000/50000 [==============================] - 26s 520us/step - loss: 1.3213 - acc: 0.5326 - val_loss: 1.4999 - val_acc: 0.4664\n",
      "Epoch 10/100\n",
      "50000/50000 [==============================] - 26s 518us/step - loss: 1.2944 - acc: 0.5433 - val_loss: 1.3982 - val_acc: 0.5071\n",
      "Epoch 11/100\n",
      "50000/50000 [==============================] - 26s 518us/step - loss: 1.2692 - acc: 0.5536 - val_loss: 1.3710 - val_acc: 0.5104\n",
      "Epoch 12/100\n",
      "50000/50000 [==============================] - 26s 517us/step - loss: 1.2412 - acc: 0.5641 - val_loss: 1.4152 - val_acc: 0.4965\n",
      "Epoch 13/100\n",
      "50000/50000 [==============================] - 26s 518us/step - loss: 1.2177 - acc: 0.5711 - val_loss: 1.3585 - val_acc: 0.5131\n",
      "Epoch 14/100\n",
      "50000/50000 [==============================] - 26s 519us/step - loss: 1.1919 - acc: 0.5804 - val_loss: 1.4037 - val_acc: 0.5030\n",
      "Epoch 15/100\n",
      "50000/50000 [==============================] - 26s 518us/step - loss: 1.1692 - acc: 0.5893 - val_loss: 1.4937 - val_acc: 0.4632\n",
      "Epoch 16/100\n",
      "50000/50000 [==============================] - 26s 519us/step - loss: 1.1451 - acc: 0.5969 - val_loss: 1.3368 - val_acc: 0.5327\n",
      "Epoch 17/100\n",
      "50000/50000 [==============================] - 26s 518us/step - loss: 1.1245 - acc: 0.6031 - val_loss: 1.3689 - val_acc: 0.5203\n",
      "Epoch 18/100\n",
      "50000/50000 [==============================] - 26s 519us/step - loss: 1.0995 - acc: 0.6143 - val_loss: 1.3484 - val_acc: 0.5272\n",
      "Epoch 19/100\n",
      "50000/50000 [==============================] - 26s 518us/step - loss: 1.0797 - acc: 0.6203 - val_loss: 1.3800 - val_acc: 0.5149\n",
      "Epoch 20/100\n",
      "50000/50000 [==============================] - 26s 519us/step - loss: 1.0573 - acc: 0.6305 - val_loss: 1.4271 - val_acc: 0.5081\n",
      "Epoch 21/100\n",
      "50000/50000 [==============================] - 26s 516us/step - loss: 0.9496 - acc: 0.6692 - val_loss: 1.3142 - val_acc: 0.5408\n",
      "Epoch 26/100\n",
      "50000/50000 [==============================] - 26s 518us/step - loss: 0.9302 - acc: 0.6779 - val_loss: 1.3721 - val_acc: 0.5331\n",
      "Epoch 27/100\n",
      "50000/50000 [==============================] - 26s 518us/step - loss: 0.9092 - acc: 0.6832 - val_loss: 1.3300 - val_acc: 0.5438\n",
      "Epoch 28/100\n",
      "50000/50000 [==============================] - 26s 519us/step - loss: 0.8873 - acc: 0.6927 - val_loss: 1.4371 - val_acc: 0.5187\n",
      "Epoch 29/100\n",
      "50000/50000 [==============================] - 26s 517us/step - loss: 0.8667 - acc: 0.7010 - val_loss: 1.3557 - val_acc: 0.5352\n",
      "Epoch 30/100\n",
      "50000/50000 [==============================] - 26s 519us/step - loss: 0.8480 - acc: 0.7072 - val_loss: 1.3302 - val_acc: 0.5477\n",
      "Epoch 31/100\n",
      "50000/50000 [==============================] - 26s 518us/step - loss: 0.8243 - acc: 0.7149 - val_loss: 1.4950 - val_acc: 0.5124\n",
      "Epoch 32/100\n",
      "50000/50000 [==============================] - 26s 519us/step - loss: 0.8046 - acc: 0.7199 - val_loss: 1.3629 - val_acc: 0.5494\n",
      "Epoch 33/100\n",
      "50000/50000 [==============================] - 26s 520us/step - loss: 0.7842 - acc: 0.7288 - val_loss: 1.4545 - val_acc: 0.5199\n",
      "Epoch 34/100\n",
      "50000/50000 [==============================] - 26s 519us/step - loss: 0.7652 - acc: 0.7343 - val_loss: 1.3380 - val_acc: 0.5475\n",
      "Epoch 35/100\n",
      "50000/50000 [==============================] - 26s 521us/step - loss: 0.7422 - acc: 0.7426 - val_loss: 1.3678 - val_acc: 0.5525\n",
      "Epoch 36/100\n",
      "50000/50000 [==============================] - 26s 518us/step - loss: 0.7237 - acc: 0.7490 - val_loss: 1.3767 - val_acc: 0.5445\n",
      "Epoch 37/100\n",
      "50000/50000 [==============================] - 26s 518us/step - loss: 0.7009 - acc: 0.7605 - val_loss: 1.5856 - val_acc: 0.5125\n",
      "Epoch 38/100\n",
      "50000/50000 [==============================] - 26s 518us/step - loss: 0.6798 - acc: 0.7675 - val_loss: 1.3532 - val_acc: 0.5542\n",
      "Epoch 39/100\n",
      "50000/50000 [==============================] - 26s 518us/step - loss: 0.6610 - acc: 0.7713 - val_loss: 1.6761 - val_acc: 0.4789\n",
      "Epoch 40/100\n",
      "50000/50000 [==============================] - 26s 518us/step - loss: 0.6416 - acc: 0.7793 - val_loss: 1.5521 - val_acc: 0.5238\n",
      "Epoch 41/100\n",
      "50000/50000 [==============================] - 26s 518us/step - loss: 0.6208 - acc: 0.7882 - val_loss: 1.4105 - val_acc: 0.5593\n",
      "Epoch 42/100\n",
      "50000/50000 [==============================] - 26s 519us/step - loss: 0.6054 - acc: 0.7938 - val_loss: 1.4007 - val_acc: 0.5580\n",
      "Epoch 43/100\n",
      "50000/50000 [==============================] - 26s 519us/step - loss: 0.5831 - acc: 0.8009 - val_loss: 1.4868 - val_acc: 0.5467\n",
      "Epoch 44/100\n",
      "50000/50000 [==============================] - 26s 519us/step - loss: 0.5641 - acc: 0.8097 - val_loss: 1.5886 - val_acc: 0.5255\n",
      "Epoch 45/100\n",
      "50000/50000 [==============================] - 26s 519us/step - loss: 0.5429 - acc: 0.8136 - val_loss: 1.4767 - val_acc: 0.5552\n",
      "Epoch 46/100\n",
      "50000/50000 [==============================] - 26s 520us/step - loss: 0.5255 - acc: 0.8220 - val_loss: 1.6668 - val_acc: 0.5064\n",
      "Epoch 47/100\n",
      "50000/50000 [==============================] - 26s 518us/step - loss: 0.5066 - acc: 0.8286 - val_loss: 1.5428 - val_acc: 0.5512\n",
      "Epoch 48/100\n",
      "50000/50000 [==============================] - 26s 519us/step - loss: 0.4894 - acc: 0.8369 - val_loss: 1.5524 - val_acc: 0.5339\n",
      "Epoch 49/100\n",
      "50000/50000 [==============================] - 26s 520us/step - loss: 0.4715 - acc: 0.8437 - val_loss: 1.5107 - val_acc: 0.5553\n",
      "Epoch 50/100\n",
      "50000/50000 [==============================] - 26s 520us/step - loss: 0.4508 - acc: 0.8503 - val_loss: 1.5121 - val_acc: 0.5595\n",
      "Epoch 51/100\n",
      "50000/50000 [==============================] - 26s 520us/step - loss: 0.4345 - acc: 0.8554 - val_loss: 1.5713 - val_acc: 0.5489\n",
      "Epoch 52/100\n",
      "50000/50000 [==============================] - 26s 519us/step - loss: 0.4217 - acc: 0.8620 - val_loss: 1.5657 - val_acc: 0.5447\n",
      "Epoch 53/100\n",
      "50000/50000 [==============================] - 26s 519us/step - loss: 0.4060 - acc: 0.8666 - val_loss: 1.7198 - val_acc: 0.5255\n",
      "Epoch 54/100\n",
      "50000/50000 [==============================] - 26s 519us/step - loss: 0.3880 - acc: 0.8742 - val_loss: 1.7364 - val_acc: 0.5339\n",
      "Epoch 55/100\n",
      "50000/50000 [==============================] - 26s 520us/step - loss: 0.3685 - acc: 0.8812 - val_loss: 1.6520 - val_acc: 0.5464\n",
      "Epoch 56/100\n",
      "50000/50000 [==============================] - 26s 518us/step - loss: 0.3553 - acc: 0.8869 - val_loss: 1.6572 - val_acc: 0.5548\n",
      "Epoch 57/100\n",
      "50000/50000 [==============================] - 26s 518us/step - loss: 0.3410 - acc: 0.8917 - val_loss: 1.7420 - val_acc: 0.5337\n",
      "Epoch 58/100\n",
      "50000/50000 [==============================] - 26s 520us/step - loss: 0.3273 - acc: 0.8948 - val_loss: 1.7787 - val_acc: 0.5409\n",
      "Epoch 59/100\n",
      "50000/50000 [==============================] - 26s 519us/step - loss: 0.3093 - acc: 0.9035 - val_loss: 1.8422 - val_acc: 0.5377\n",
      "Epoch 60/100\n",
      "50000/50000 [==============================] - 26s 518us/step - loss: 0.3009 - acc: 0.9051 - val_loss: 1.7320 - val_acc: 0.5459\n",
      "Epoch 61/100\n",
      "50000/50000 [==============================] - 26s 519us/step - loss: 0.2852 - acc: 0.9099 - val_loss: 1.6887 - val_acc: 0.5518\n",
      "Epoch 62/100\n"
     ]
    },
    {
     "name": "stdout",
     "output_type": "stream",
     "text": [
      "50000/50000 [==============================] - 26s 518us/step - loss: 0.2704 - acc: 0.9161 - val_loss: 1.6950 - val_acc: 0.5654\n",
      "Epoch 63/100\n",
      "50000/50000 [==============================] - 26s 519us/step - loss: 0.2587 - acc: 0.9198 - val_loss: 1.8808 - val_acc: 0.5325\n",
      "Epoch 64/100\n",
      "50000/50000 [==============================] - 26s 518us/step - loss: 0.2469 - acc: 0.9268 - val_loss: 1.8093 - val_acc: 0.5461\n",
      "Epoch 65/100\n",
      "50000/50000 [==============================] - 26s 518us/step - loss: 0.2328 - acc: 0.9295 - val_loss: 1.8989 - val_acc: 0.5361\n",
      "Epoch 66/100\n",
      "50000/50000 [==============================] - 26s 518us/step - loss: 0.2224 - acc: 0.9330 - val_loss: 1.8464 - val_acc: 0.5566\n",
      "Epoch 67/100\n",
      "50000/50000 [==============================] - 26s 517us/step - loss: 0.2135 - acc: 0.9380 - val_loss: 1.8330 - val_acc: 0.5589\n",
      "Epoch 68/100\n",
      "50000/50000 [==============================] - 26s 518us/step - loss: 0.2032 - acc: 0.9407 - val_loss: 1.8757 - val_acc: 0.5480\n",
      "Epoch 69/100\n",
      "50000/50000 [==============================] - 26s 519us/step - loss: 0.1902 - acc: 0.9473 - val_loss: 1.8300 - val_acc: 0.5575\n",
      "Epoch 70/100\n",
      "50000/50000 [==============================] - 26s 518us/step - loss: 0.1810 - acc: 0.9496 - val_loss: 1.9664 - val_acc: 0.5407\n",
      "Epoch 71/100\n",
      "50000/50000 [==============================] - 26s 518us/step - loss: 0.1704 - acc: 0.9529 - val_loss: 1.8039 - val_acc: 0.5640\n",
      "Epoch 72/100\n",
      "50000/50000 [==============================] - 26s 520us/step - loss: 0.1634 - acc: 0.9552 - val_loss: 2.1336 - val_acc: 0.5238\n",
      "Epoch 73/100\n",
      "50000/50000 [==============================] - 26s 519us/step - loss: 0.1549 - acc: 0.9572 - val_loss: 1.9475 - val_acc: 0.5553\n",
      "Epoch 74/100\n",
      "50000/50000 [==============================] - 26s 518us/step - loss: 0.1456 - acc: 0.9613 - val_loss: 1.9439 - val_acc: 0.5635\n",
      "Epoch 75/100\n",
      "50000/50000 [==============================] - 26s 521us/step - loss: 0.1349 - acc: 0.9643 - val_loss: 1.9517 - val_acc: 0.5615\n",
      "Epoch 76/100\n",
      "50000/50000 [==============================] - 26s 519us/step - loss: 0.1248 - acc: 0.9684 - val_loss: 1.9798 - val_acc: 0.5596\n",
      "Epoch 77/100\n",
      "50000/50000 [==============================] - 26s 517us/step - loss: 0.1200 - acc: 0.9696 - val_loss: 2.2411 - val_acc: 0.5204\n",
      "Epoch 78/100\n",
      "50000/50000 [==============================] - 26s 519us/step - loss: 0.1179 - acc: 0.9700 - val_loss: 2.0008 - val_acc: 0.5604\n",
      "Epoch 79/100\n",
      "50000/50000 [==============================] - 26s 519us/step - loss: 0.1082 - acc: 0.9735 - val_loss: 2.0119 - val_acc: 0.5565\n",
      "Epoch 80/100\n",
      "50000/50000 [==============================] - 26s 519us/step - loss: 0.1026 - acc: 0.9751 - val_loss: 2.0121 - val_acc: 0.5660\n",
      "Epoch 81/100\n",
      "50000/50000 [==============================] - 26s 518us/step - loss: 0.0939 - acc: 0.9792 - val_loss: 2.0668 - val_acc: 0.5589\n",
      "Epoch 82/100\n",
      "50000/50000 [==============================] - 26s 518us/step - loss: 0.0913 - acc: 0.9790 - val_loss: 2.2232 - val_acc: 0.5484\n",
      "Epoch 83/100\n",
      "50000/50000 [==============================] - 26s 519us/step - loss: 0.0819 - acc: 0.9821 - val_loss: 2.0507 - val_acc: 0.5662\n",
      "Epoch 84/100\n",
      "50000/50000 [==============================] - 26s 520us/step - loss: 0.0758 - acc: 0.9843 - val_loss: 2.1630 - val_acc: 0.5474\n",
      "Epoch 85/100\n",
      "50000/50000 [==============================] - 26s 519us/step - loss: 0.0738 - acc: 0.9842 - val_loss: 2.0884 - val_acc: 0.5679\n",
      "Epoch 86/100\n",
      "50000/50000 [==============================] - 26s 519us/step - loss: 0.0663 - acc: 0.9874 - val_loss: 2.0984 - val_acc: 0.5669\n",
      "Epoch 87/100\n",
      "50000/50000 [==============================] - 26s 519us/step - loss: 0.0597 - acc: 0.9894 - val_loss: 2.1255 - val_acc: 0.5664\n",
      "Epoch 88/100\n",
      "50000/50000 [==============================] - 26s 520us/step - loss: 0.0604 - acc: 0.9889 - val_loss: 2.1314 - val_acc: 0.5673\n",
      "Epoch 89/100\n",
      "50000/50000 [==============================] - 26s 518us/step - loss: 0.0515 - acc: 0.9917 - val_loss: 2.1464 - val_acc: 0.5657\n",
      "Epoch 90/100\n",
      "50000/50000 [==============================] - 26s 519us/step - loss: 0.0497 - acc: 0.9921 - val_loss: 2.1395 - val_acc: 0.5677\n",
      "Epoch 91/100\n",
      "50000/50000 [==============================] - 26s 519us/step - loss: 0.0467 - acc: 0.9928 - val_loss: 2.1683 - val_acc: 0.5635\n",
      "Epoch 92/100\n",
      "50000/50000 [==============================] - 26s 519us/step - loss: 0.0450 - acc: 0.9930 - val_loss: 2.1856 - val_acc: 0.5627\n",
      "Epoch 93/100\n",
      "50000/50000 [==============================] - 26s 517us/step - loss: 0.0376 - acc: 0.9951 - val_loss: 2.2650 - val_acc: 0.5614\n",
      "Epoch 94/100\n",
      "50000/50000 [==============================] - 26s 520us/step - loss: 0.0361 - acc: 0.9952 - val_loss: 2.2317 - val_acc: 0.5696\n",
      "Epoch 95/100\n",
      "50000/50000 [==============================] - 26s 518us/step - loss: 0.0341 - acc: 0.9958 - val_loss: 2.2115 - val_acc: 0.5703\n",
      "Epoch 96/100\n",
      "50000/50000 [==============================] - 26s 520us/step - loss: 0.0319 - acc: 0.9962 - val_loss: 2.2138 - val_acc: 0.5721\n",
      "Epoch 97/100\n",
      "50000/50000 [==============================] - 26s 520us/step - loss: 0.0294 - acc: 0.9967 - val_loss: 2.1968 - val_acc: 0.5753\n",
      "Epoch 98/100\n",
      "50000/50000 [==============================] - 26s 520us/step - loss: 0.0277 - acc: 0.9970 - val_loss: 2.2376 - val_acc: 0.5716\n",
      "Epoch 99/100\n",
      "50000/50000 [==============================] - 26s 517us/step - loss: 0.0275 - acc: 0.9970 - val_loss: 2.2493 - val_acc: 0.5684\n",
      "Epoch 100/100\n",
      "50000/50000 [==============================] - 26s 520us/step - loss: 0.0253 - acc: 0.9974 - val_loss: 2.2579 - val_acc: 0.5734\n"
     ]
    }
   ],
   "source": [
    "# train the model using SGD\n",
    "print(\"[INFO] training network...\")\n",
    "sgd = SGD(0.01)\n",
    "model.compile(loss=\"categorical_crossentropy\", optimizer=sgd, metrics=[\"accuracy\"])\n",
    "H = model.fit(trainX, trainY, validation_data=(testX, testY), epochs=100, batch_size=32)"
   ]
  },
  {
   "cell_type": "code",
   "execution_count": 8,
   "metadata": {},
   "outputs": [
    {
     "name": "stdout",
     "output_type": "stream",
     "text": [
      "[INFO] evaluating network...\n",
      "              precision    recall  f1-score   support\n",
      "\n",
      "    airplane       0.61      0.67      0.64      1000\n",
      "  automobile       0.69      0.67      0.68      1000\n",
      "        bird       0.45      0.48      0.47      1000\n",
      "         cat       0.42      0.37      0.39      1000\n",
      "        deer       0.49      0.54      0.52      1000\n",
      "         dog       0.49      0.44      0.47      1000\n",
      "        frog       0.62      0.63      0.63      1000\n",
      "       horse       0.64      0.62      0.63      1000\n",
      "        ship       0.70      0.70      0.70      1000\n",
      "       truck       0.60      0.61      0.61      1000\n",
      "\n",
      "    accuracy                           0.57     10000\n",
      "   macro avg       0.57      0.57      0.57     10000\n",
      "weighted avg       0.57      0.57      0.57     10000\n",
      "\n"
     ]
    }
   ],
   "source": [
    "# evaluate the network\n",
    "print(\"[INFO] evaluating network...\")\n",
    "predictions = model.predict(testX, batch_size=32)\n",
    "print(classification_report(testY.argmax(axis=1), predictions.argmax(axis=1), target_names=labelNames))"
   ]
  },
  {
   "cell_type": "code",
   "execution_count": 9,
   "metadata": {},
   "outputs": [
    {
     "data": {
      "image/png": "[encoded data removed]",
      "text/plain": [
       "<Figure size 720x576 with 1 Axes>"
      ]
     },
     "metadata": {},
     "output_type": "display_data"
    }
   ],
   "source": [
    "# plot the training loss and accuracy\n",
    "plt.style.use(\"ggplot\")\n",
    "plt.figure()\n",
    "plt.plot(np.arange(0, 100), H.history[\"loss\"], label=\"train_loss\")\n",
    "plt.plot(np.arange(0, 100), H.history[\"val_loss\"], label=\"val_loss\")\n",
    "plt.plot(np.arange(0, 100), H.history[\"acc\"], label=\"train_acc\")\n",
    "plt.plot(np.arange(0, 100), H.history[\"val_acc\"], label=\"val_acc\")\n",
    "plt.title(\"Training Loss and Accuracy\")\n",
    "plt.xlabel(\"Epoch #\")\n",
    "plt.ylabel(\"Loss/Accuracy\")\n",
    "plt.legend()\n",
    "plt.show()"
   ]
  },
  {
   "cell_type": "markdown",
   "metadata": {},
   "source": [
    "Well Done"
   ]
  }
 ],
 "metadata": {
  "kernelspec": {
   "display_name": "Python 3",
   "language": "python",
   "name": "python3"
  },
  "language_info": {
   "codemirror_mode": {
    "name": "ipython",
    "version": 3
   },
   "file_extension": ".py",
   "mimetype": "text/x-python",
   "name": "python",
   "nbconvert_exporter": "python",
   "pygments_lexer": "ipython3",
   "version": "3.6.9"
  }
 },
 "nbformat": 4,
 "nbformat_minor": 4
}
