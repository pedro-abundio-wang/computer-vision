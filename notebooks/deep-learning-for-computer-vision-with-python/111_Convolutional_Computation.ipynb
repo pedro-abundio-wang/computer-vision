{
 "cells": [
  {
   "cell_type": "code",
   "execution_count": null,
   "metadata": {},
   "outputs": [],
   "source": [
    "import matplotlib.pyplot as plt\n",
    "\n",
    "# This is a bit of magic to make matplotlib figures appear inline in the\n",
    "# notebook rather than in a new window.\n",
    "%matplotlib inline\n",
    "plt.rcParams['figure.figsize'] = (10.0, 8.0) # set default size of plots\n",
    "plt.rcParams['image.interpolation'] = 'nearest'\n",
    "plt.rcParams['image.cmap'] = 'gray'\n",
    "\n",
    "# Some more magic so that the notebook will reload external python modules;\n",
    "# see http://stackoverflow.com/questions/1907993/autoreload-of-modules-in-ipython\n",
    "%load_ext autoreload\n",
    "%autoreload 2"
   ]
  },
  {
   "cell_type": "code",
   "execution_count": null,
   "metadata": {},
   "outputs": [],
   "source": [
    "# import the necessary packages\n",
    "from skimage.exposure import rescale_intensity\n",
    "from skimage.io import imread\n",
    "import numpy as np\n",
    "import cv2"
   ]
  },
  {
   "cell_type": "code",
   "execution_count": null,
   "metadata": {},
   "outputs": [],
   "source": [
    "def convolve(image, K):\n",
    "    # grab the spatial dimensions of the image and kernel\n",
    "    (iH, iW) = image.shape[:2]\n",
    "    (kH, kW) = K.shape[:2]\n",
    "    \n",
    "    # allocate memory for the output image, taking care to \"pad\"\n",
    "    # the borders of the input image so the spatial size (i.e.,\n",
    "    # width and height) are not reduced\n",
    "    pad = (kW - 1) // 2\n",
    "    image = cv2.copyMakeBorder(image, pad, pad, pad, pad, cv2.BORDER_REPLICATE)\n",
    "    output = np.zeros((iH, iW), dtype=\"float\")\n",
    "    \n",
    "    # loop over the input image, \"sliding\" the kernel across\n",
    "    # each (x, y)-coordinate from left-to-right and top-to-bottom\n",
    "    for y in np.arange(pad, iH + pad):\n",
    "        for x in np.arange(pad, iW + pad):\n",
    "            # extract the ROI of the image by extracting the\n",
    "            # *center* region of the current (x, y)-coordinates\n",
    "            # dimensions\n",
    "            roi = image[y - pad:y + pad + 1, x - pad:x + pad + 1]\n",
    "            \n",
    "            # perform the actual convolution by taking the\n",
    "            # element-wise multiplication between the ROI and\n",
    "            # the kernel, then summing the matrix\n",
    "            k = (roi * K).sum()\n",
    "            \n",
    "            # store the convolved value in the output (x, y)-\n",
    "            # coordinate of the output image\n",
    "            output[y - pad, x - pad] = k\n",
    "            \n",
    "    # rescale the output image to be in the range [0, 255]\n",
    "    output = rescale_intensity(output, in_range=(0, 255))\n",
    "    output = (output * 255).astype(\"uint8\")\n",
    "    \n",
    "    # return the output image\n",
    "    return output"
   ]
  },
  {
   "cell_type": "code",
   "execution_count": null,
   "metadata": {},
   "outputs": [],
   "source": [
    "# path to the input image\n",
    "originalImage = './datasets/images/panamera.jpg'\n",
    "rgbImage = imread(originalImage)\n",
    "plt.imshow(rgbImage)"
   ]
  },
  {
   "cell_type": "code",
   "execution_count": null,
   "metadata": {},
   "outputs": [],
   "source": [
    "# construct average blurring kernels used to smooth an image\n",
    "smallBlur = np.ones((7, 7), dtype=\"float\") * (1.0 / (7 * 7))\n",
    "largeBlur = np.ones((21, 21), dtype=\"float\") * (1.0 / (21 * 21))"
   ]
  },
  {
   "cell_type": "code",
   "execution_count": null,
   "metadata": {},
   "outputs": [],
   "source": [
    "# construct a sharpening filter\n",
    "sharpen = np.array((\n",
    "    [0, -1, 0],\n",
    "    [-1, 5, -1],\n",
    "    [0, -1, 0]), dtype=\"int\")\n",
    "\n",
    "# construct the Laplacian kernel used to detect edge-like regions of an image\n",
    "laplacian = np.array((\n",
    "    [0, 1, 0],\n",
    "    [1, -4, 1],\n",
    "    [0, 1, 0]), dtype=\"int\")\n",
    "\n",
    "# construct the Sobel x-axis kernel\n",
    "sobelX = np.array((\n",
    "    [-1, 0, 1],\n",
    "    [-2, 0, 2],\n",
    "    [-1, 0, 1]), dtype=\"int\")\n",
    "\n",
    "# construct the Sobel y-axis kernel\n",
    "sobelY = np.array((\n",
    "    [-1, -2, -1],\n",
    "    [0, 0, 0],\n",
    "    [1, 2, 1]), dtype=\"int\")\n",
    "\n",
    "# construct an emboss kernel\n",
    "emboss = np.array((\n",
    "    [-2, -1, 0],\n",
    "    [-1, 1, 1],\n",
    "    [0, 1, 2]), dtype=\"int\")"
   ]
  },
  {
   "cell_type": "code",
   "execution_count": null,
   "metadata": {},
   "outputs": [],
   "source": [
    "# construct the kernel bank, a list of kernels we’re going to apply\n",
    "# using both our custom ‘convole‘ function and OpenCV’s ‘filter2D‘\n",
    "# function\n",
    "kernelBank = (\n",
    "    (\"small_blur\", smallBlur),\n",
    "    (\"large_blur\", largeBlur),\n",
    "    (\"sharpen\", sharpen),\n",
    "    (\"laplacian\", laplacian),\n",
    "    (\"sobel_x\", sobelX),\n",
    "    (\"sobel_y\", sobelY),\n",
    "    (\"emboss\", emboss))"
   ]
  },
  {
   "cell_type": "code",
   "execution_count": null,
   "metadata": {},
   "outputs": [],
   "source": [
    "# load the input image and convert it to grayscale\n",
    "grayImage = cv2.cvtColor(rgbImage, cv2.COLOR_RGB2GRAY)\n",
    "plt.imshow(grayImage)"
   ]
  },
  {
   "cell_type": "code",
   "execution_count": null,
   "metadata": {},
   "outputs": [],
   "source": [
    "convolveOutput = convolve(grayImage, smallBlur)\n",
    "opencvOutput = cv2.filter2D(grayImage, -1, smallBlur)\n",
    "plt.subplot(1,2,1)\n",
    "plt.imshow(convolveOutput)\n",
    "plt.axis('off')\n",
    "plt.subplot(1,2,2)\n",
    "plt.imshow(opencvOutput)\n",
    "plt.axis('off')"
   ]
  },
  {
   "cell_type": "code",
   "execution_count": null,
   "metadata": {},
   "outputs": [],
   "source": [
    "convolveOutput = convolve(grayImage, largeBlur)\n",
    "opencvOutput = cv2.filter2D(grayImage, -1, largeBlur)\n",
    "plt.subplot(1,2,1)\n",
    "plt.imshow(convolveOutput)\n",
    "plt.axis('off')\n",
    "plt.subplot(1,2,2)\n",
    "plt.imshow(opencvOutput)\n",
    "plt.axis('off')"
   ]
  },
  {
   "cell_type": "code",
   "execution_count": null,
   "metadata": {},
   "outputs": [],
   "source": [
    "convolveOutput = convolve(grayImage, sharpen)\n",
    "opencvOutput = cv2.filter2D(grayImage, -1, sharpen)\n",
    "plt.subplot(1,2,1)\n",
    "plt.imshow(convolveOutput)\n",
    "plt.axis('off')\n",
    "plt.subplot(1,2,2)\n",
    "plt.imshow(opencvOutput)\n",
    "plt.axis('off')"
   ]
  },
  {
   "cell_type": "code",
   "execution_count": null,
   "metadata": {},
   "outputs": [],
   "source": [
    "convolveOutput = convolve(grayImage, laplacian)\n",
    "opencvOutput = cv2.filter2D(grayImage, -1, laplacian)\n",
    "plt.subplot(1,2,1)\n",
    "plt.imshow(convolveOutput)\n",
    "plt.axis('off')\n",
    "plt.subplot(1,2,2)\n",
    "plt.imshow(opencvOutput)\n",
    "plt.axis('off')"
   ]
  },
  {
   "cell_type": "code",
   "execution_count": null,
   "metadata": {},
   "outputs": [],
   "source": [
    "convolveOutput = convolve(grayImage, sobelX)\n",
    "opencvOutput = cv2.filter2D(grayImage, -1, sobelX)\n",
    "plt.subplot(1,2,1)\n",
    "plt.imshow(convolveOutput)\n",
    "plt.axis('off')\n",
    "plt.subplot(1,2,2)\n",
    "plt.imshow(opencvOutput)\n",
    "plt.axis('off')"
   ]
  },
  {
   "cell_type": "code",
   "execution_count": null,
   "metadata": {
    "scrolled": true
   },
   "outputs": [],
   "source": [
    "convolveOutput = convolve(grayImage, sobelY)\n",
    "opencvOutput = cv2.filter2D(grayImage, -1, sobelY)\n",
    "plt.subplot(1,2,1)\n",
    "plt.imshow(convolveOutput)\n",
    "plt.axis('off')\n",
    "plt.subplot(1,2,2)\n",
    "plt.imshow(opencvOutput)\n",
    "plt.axis('off')"
   ]
  },
  {
   "cell_type": "code",
   "execution_count": null,
   "metadata": {
    "scrolled": true
   },
   "outputs": [],
   "source": [
    "convolveOutput = convolve(grayImage, emboss)\n",
    "opencvOutput = cv2.filter2D(grayImage, -1, emboss)\n",
    "plt.subplot(1,2,1)\n",
    "plt.imshow(convolveOutput)\n",
    "plt.axis('off')\n",
    "plt.subplot(1,2,2)\n",
    "plt.imshow(opencvOutput)\n",
    "plt.axis('off')"
   ]
  },
  {
   "cell_type": "markdown",
   "metadata": {},
   "source": [
    "Well Done"
   ]
  }
 ],
 "metadata": {
  "kernelspec": {
   "display_name": "Python 3",
   "language": "python",
   "name": "python3"
  },
  "language_info": {
   "codemirror_mode": {
    "name": "ipython",
    "version": 3
   },
   "file_extension": ".py",
   "mimetype": "text/x-python",
   "name": "python",
   "nbconvert_exporter": "python",
   "pygments_lexer": "ipython3",
   "version": "3.6.9"
  }
 },
 "nbformat": 4,
 "nbformat_minor": 4
}
