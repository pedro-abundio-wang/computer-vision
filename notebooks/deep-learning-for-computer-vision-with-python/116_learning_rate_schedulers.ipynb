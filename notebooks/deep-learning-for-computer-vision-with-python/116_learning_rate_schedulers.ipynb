{
 "cells": [
  {
   "cell_type": "markdown",
   "metadata": {},
   "source": [
    "# Learning Rate Schedulers"
   ]
  },
  {
   "cell_type": "code",
   "execution_count": 1,
   "metadata": {},
   "outputs": [],
   "source": [
    "import matplotlib.pyplot as plt\n",
    "\n",
    "# This is a bit of magic to make matplotlib figures appear inline in the\n",
    "# notebook rather than in a new window.\n",
    "%matplotlib inline\n",
    "plt.rcParams['figure.figsize'] = (10.0, 8.0) # set default size of plots\n",
    "plt.rcParams['image.interpolation'] = 'nearest'\n",
    "plt.rcParams['image.cmap'] = 'gray'\n",
    "\n",
    "# Some more magic so that the notebook will reload external python modules;\n",
    "# see http://stackoverflow.com/questions/1907993/autoreload-of-modules-in-ipython\n",
    "%load_ext autoreload\n",
    "%autoreload 2"
   ]
  },
  {
   "cell_type": "code",
   "execution_count": 2,
   "metadata": {},
   "outputs": [
    {
     "name": "stderr",
     "output_type": "stream",
     "text": [
      "Using TensorFlow backend.\n",
      "/home/pedro/miniconda3/envs/computer-vision/lib/python3.6/site-packages/tensorflow/python/framework/dtypes.py:523: FutureWarning: Passing (type, 1) or '1type' as a synonym of type is deprecated; in a future version of numpy, it will be understood as (type, (1,)) / '(1,)type'.\n",
      "  _np_qint8 = np.dtype([(\"qint8\", np.int8, 1)])\n",
      "/home/pedro/miniconda3/envs/computer-vision/lib/python3.6/site-packages/tensorflow/python/framework/dtypes.py:524: FutureWarning: Passing (type, 1) or '1type' as a synonym of type is deprecated; in a future version of numpy, it will be understood as (type, (1,)) / '(1,)type'.\n",
      "  _np_quint8 = np.dtype([(\"quint8\", np.uint8, 1)])\n",
      "/home/pedro/miniconda3/envs/computer-vision/lib/python3.6/site-packages/tensorflow/python/framework/dtypes.py:525: FutureWarning: Passing (type, 1) or '1type' as a synonym of type is deprecated; in a future version of numpy, it will be understood as (type, (1,)) / '(1,)type'.\n",
      "  _np_qint16 = np.dtype([(\"qint16\", np.int16, 1)])\n",
      "/home/pedro/miniconda3/envs/computer-vision/lib/python3.6/site-packages/tensorflow/python/framework/dtypes.py:526: FutureWarning: Passing (type, 1) or '1type' as a synonym of type is deprecated; in a future version of numpy, it will be understood as (type, (1,)) / '(1,)type'.\n",
      "  _np_quint16 = np.dtype([(\"quint16\", np.uint16, 1)])\n",
      "/home/pedro/miniconda3/envs/computer-vision/lib/python3.6/site-packages/tensorflow/python/framework/dtypes.py:527: FutureWarning: Passing (type, 1) or '1type' as a synonym of type is deprecated; in a future version of numpy, it will be understood as (type, (1,)) / '(1,)type'.\n",
      "  _np_qint32 = np.dtype([(\"qint32\", np.int32, 1)])\n",
      "/home/pedro/miniconda3/envs/computer-vision/lib/python3.6/site-packages/tensorflow/python/framework/dtypes.py:532: FutureWarning: Passing (type, 1) or '1type' as a synonym of type is deprecated; in a future version of numpy, it will be understood as (type, (1,)) / '(1,)type'.\n",
      "  np_resource = np.dtype([(\"resource\", np.ubyte, 1)])\n"
     ]
    }
   ],
   "source": [
    "# import the necessary packages\n",
    "from keras.models import Sequential\n",
    "from keras.layers.normalization import BatchNormalization\n",
    "from keras.layers.convolutional import Conv2D\n",
    "from keras.layers.convolutional import MaxPooling2D\n",
    "from keras.layers.core import Activation\n",
    "from keras.layers.core import Flatten\n",
    "from keras.layers.core import Dropout\n",
    "from keras.layers.core import Dense\n",
    "from keras.callbacks import LearningRateScheduler\n",
    "from keras.optimizers import SGD\n",
    "from keras.datasets import cifar10\n",
    "from keras import backend as K\n",
    "\n",
    "from sklearn.preprocessing import LabelBinarizer\n",
    "from sklearn.metrics import classification_report\n",
    "\n",
    "import matplotlib.pyplot as plt\n",
    "import numpy as np"
   ]
  },
  {
   "cell_type": "code",
   "execution_count": 9,
   "metadata": {},
   "outputs": [],
   "source": [
    "def quarter_step_decay(epoch):\n",
    "    # initialize the base initial learning rate, drop factor, and\n",
    "    # epochs to drop every\n",
    "    initAlpha = 0.01\n",
    "    factor = 0.25\n",
    "    dropEvery = 5\n",
    "    \n",
    "    # compute learning rate for the current epoch\n",
    "    alpha = initAlpha * (factor ** np.floor((1 + epoch) / dropEvery))\n",
    "    \n",
    "    # return the learning rate\n",
    "    return float(alpha)"
   ]
  },
  {
   "cell_type": "code",
   "execution_count": 10,
   "metadata": {},
   "outputs": [
    {
     "name": "stdout",
     "output_type": "stream",
     "text": [
      "[INFO] loading CIFAR-10 data...\n"
     ]
    }
   ],
   "source": [
    "# load the training and testing data, then scale it into the range [0, 1]\n",
    "print(\"[INFO] loading CIFAR-10 data...\")\n",
    "((trainX, trainY), (testX, testY)) = cifar10.load_data()\n",
    "trainX = trainX.astype(\"float\") / 255.0\n",
    "testX = testX.astype(\"float\") / 255.0"
   ]
  },
  {
   "cell_type": "code",
   "execution_count": 11,
   "metadata": {},
   "outputs": [],
   "source": [
    "# convert the labels from integers to vectors\n",
    "labelBinarizer = LabelBinarizer()\n",
    "trainY = labelBinarizer.fit_transform(trainY)\n",
    "testY = labelBinarizer.fit_transform(testY)"
   ]
  },
  {
   "cell_type": "code",
   "execution_count": 12,
   "metadata": {},
   "outputs": [],
   "source": [
    "# initialize the label names for the CIFAR-10 dataset\n",
    "labelNames = [\"airplane\", \"automobile\", \"bird\", \"cat\", \"deer\", \"dog\", \"frog\", \"horse\", \"ship\", \"truck\"]"
   ]
  },
  {
   "cell_type": "code",
   "execution_count": 14,
   "metadata": {},
   "outputs": [],
   "source": [
    "class MiniVGGNet:\n",
    "    \n",
    "    @staticmethod\n",
    "    def build(width, height, depth, classes, batch_norm=True):\n",
    "        # initialize the model along with the input shape to be\n",
    "        # \"channels last\" and the channels dimension itself\n",
    "        model = Sequential()\n",
    "        inputShape = (height, width, depth)\n",
    "        chanDim = -1\n",
    "\n",
    "        # if we are using \"channels first\", update the input shape\n",
    "        # and channels dimension\n",
    "        if K.image_data_format() == \"channels_first\":\n",
    "            inputShape = (depth, height, width)\n",
    "            chanDim = 1\n",
    "\n",
    "        # first CONV => RELU => CONV => RELU => POOL layer set\n",
    "        model.add(Conv2D(32, (3, 3), padding=\"same\",\n",
    "        input_shape=inputShape))\n",
    "        model.add(Activation(\"relu\"))\n",
    "        if batch_norm:\n",
    "            model.add(BatchNormalization(axis=chanDim))\n",
    "        model.add(Conv2D(32, (3, 3), padding=\"same\"))\n",
    "        model.add(Activation(\"relu\"))\n",
    "        if batch_norm:\n",
    "            model.add(BatchNormalization(axis=chanDim))\n",
    "        model.add(MaxPooling2D(pool_size=(2, 2)))\n",
    "        model.add(Dropout(0.25))\n",
    "\n",
    "        # second CONV => RELU => CONV => RELU => POOL layer set\n",
    "        model.add(Conv2D(64, (3, 3), padding=\"same\"))\n",
    "        model.add(Activation(\"relu\"))\n",
    "        if batch_norm:\n",
    "            model.add(BatchNormalization(axis=chanDim))\n",
    "        model.add(Conv2D(64, (3, 3), padding=\"same\"))\n",
    "        model.add(Activation(\"relu\"))\n",
    "        if batch_norm:\n",
    "            model.add(BatchNormalization(axis=chanDim))\n",
    "        model.add(MaxPooling2D(pool_size=(2, 2)))\n",
    "        model.add(Dropout(0.25))\n",
    "\n",
    "        # first (and only) set of FC => RELU layers\n",
    "        model.add(Flatten())\n",
    "        model.add(Dense(512))\n",
    "        model.add(Activation(\"relu\"))\n",
    "        if batch_norm:\n",
    "            model.add(BatchNormalization())\n",
    "        model.add(Dropout(0.5))\n",
    "\n",
    "        # softmax classifier\n",
    "        model.add(Dense(classes))\n",
    "        model.add(Activation(\"softmax\"))\n",
    "\n",
    "        # return the constructed network architecture\n",
    "        return model"
   ]
  },
  {
   "cell_type": "code",
   "execution_count": 15,
   "metadata": {},
   "outputs": [
    {
     "name": "stdout",
     "output_type": "stream",
     "text": [
      "[INFO] compiling model...\n"
     ]
    }
   ],
   "source": [
    "# define the set of callbacks to be passed to the model during training\n",
    "callbacks = [LearningRateScheduler(quarter_step_decay)]\n",
    "\n",
    "# initialize the optimizer and model\n",
    "print(\"[INFO] compiling model...\")\n",
    "opt = SGD(lr=0.01, momentum=0.9, nesterov=True)\n",
    "model = MiniVGGNet.build(width=32, height=32, depth=3, classes=10)\n",
    "model.compile(loss=\"categorical_crossentropy\", optimizer=opt, metrics=[\"accuracy\"])"
   ]
  },
  {
   "cell_type": "code",
   "execution_count": 16,
   "metadata": {
    "scrolled": false
   },
   "outputs": [
    {
     "name": "stdout",
     "output_type": "stream",
     "text": [
      "[INFO] training network...\n",
      "Train on 50000 samples, validate on 10000 samples\n",
      "Epoch 1/40\n",
      "50000/50000 [==============================] - 12s 240us/step - loss: 1.6648 - acc: 0.4463 - val_loss: 1.5107 - val_acc: 0.4821\n",
      "Epoch 2/40\n",
      "50000/50000 [==============================] - 11s 215us/step - loss: 1.2051 - acc: 0.5855 - val_loss: 1.0759 - val_acc: 0.6359\n",
      "Epoch 3/40\n",
      "50000/50000 [==============================] - 11s 215us/step - loss: 1.0120 - acc: 0.6496 - val_loss: 0.8764 - val_acc: 0.6949\n",
      "Epoch 4/40\n",
      "50000/50000 [==============================] - 10s 210us/step - loss: 0.8817 - acc: 0.6946 - val_loss: 0.8414 - val_acc: 0.7073\n",
      "Epoch 5/40\n",
      "50000/50000 [==============================] - 11s 212us/step - loss: 0.7458 - acc: 0.7355 - val_loss: 0.7040 - val_acc: 0.7588\n",
      "Epoch 6/40\n",
      "50000/50000 [==============================] - 11s 213us/step - loss: 0.6930 - acc: 0.7565 - val_loss: 0.6700 - val_acc: 0.7681\n",
      "Epoch 7/40\n",
      "50000/50000 [==============================] - 11s 215us/step - loss: 0.6620 - acc: 0.7658 - val_loss: 0.6928 - val_acc: 0.7598\n",
      "Epoch 8/40\n",
      "50000/50000 [==============================] - 11s 214us/step - loss: 0.6422 - acc: 0.7746 - val_loss: 0.6522 - val_acc: 0.7723\n",
      "Epoch 9/40\n",
      "50000/50000 [==============================] - 11s 217us/step - loss: 0.6196 - acc: 0.7802 - val_loss: 0.6887 - val_acc: 0.7657\n",
      "Epoch 10/40\n",
      "50000/50000 [==============================] - 11s 215us/step - loss: 0.5900 - acc: 0.7929 - val_loss: 0.6299 - val_acc: 0.7853\n",
      "Epoch 11/40\n",
      "50000/50000 [==============================] - 11s 215us/step - loss: 0.5830 - acc: 0.7953 - val_loss: 0.6228 - val_acc: 0.7868\n",
      "Epoch 12/40\n",
      "50000/50000 [==============================] - 11s 215us/step - loss: 0.5737 - acc: 0.7961 - val_loss: 0.6093 - val_acc: 0.7912\n",
      "Epoch 13/40\n",
      "50000/50000 [==============================] - 11s 220us/step - loss: 0.5606 - acc: 0.8035 - val_loss: 0.6075 - val_acc: 0.7941\n",
      "Epoch 14/40\n",
      "50000/50000 [==============================] - 11s 215us/step - loss: 0.5596 - acc: 0.8031 - val_loss: 0.6034 - val_acc: 0.7928\n",
      "Epoch 15/40\n",
      "50000/50000 [==============================] - 11s 213us/step - loss: 0.5483 - acc: 0.8061 - val_loss: 0.6029 - val_acc: 0.7942\n",
      "Epoch 16/40\n",
      "50000/50000 [==============================] - 11s 218us/step - loss: 0.5448 - acc: 0.8090 - val_loss: 0.6011 - val_acc: 0.7948\n",
      "Epoch 17/40\n",
      "50000/50000 [==============================] - 11s 217us/step - loss: 0.5472 - acc: 0.8081 - val_loss: 0.5957 - val_acc: 0.7935\n",
      "Epoch 18/40\n",
      "50000/50000 [==============================] - 11s 215us/step - loss: 0.5426 - acc: 0.8106 - val_loss: 0.5990 - val_acc: 0.7938\n",
      "Epoch 19/40\n",
      "50000/50000 [==============================] - 11s 213us/step - loss: 0.5441 - acc: 0.8079 - val_loss: 0.5967 - val_acc: 0.7946\n",
      "Epoch 20/40\n",
      "50000/50000 [==============================] - 10s 209us/step - loss: 0.5410 - acc: 0.8111 - val_loss: 0.5955 - val_acc: 0.7953\n",
      "Epoch 21/40\n",
      "50000/50000 [==============================] - 11s 212us/step - loss: 0.5391 - acc: 0.8101 - val_loss: 0.5958 - val_acc: 0.7937\n",
      "Epoch 22/40\n",
      "50000/50000 [==============================] - 11s 215us/step - loss: 0.5415 - acc: 0.8086 - val_loss: 0.5955 - val_acc: 0.7937\n",
      "Epoch 23/40\n",
      "50000/50000 [==============================] - 11s 215us/step - loss: 0.5440 - acc: 0.8102 - val_loss: 0.5977 - val_acc: 0.7943\n",
      "Epoch 24/40\n",
      "50000/50000 [==============================] - 11s 219us/step - loss: 0.5416 - acc: 0.8089 - val_loss: 0.5954 - val_acc: 0.7955\n",
      "Epoch 25/40\n",
      "50000/50000 [==============================] - 11s 214us/step - loss: 0.5369 - acc: 0.8116 - val_loss: 0.5935 - val_acc: 0.7949\n",
      "Epoch 26/40\n",
      "50000/50000 [==============================] - 11s 216us/step - loss: 0.5402 - acc: 0.8078 - val_loss: 0.5940 - val_acc: 0.7953\n",
      "Epoch 27/40\n",
      "50000/50000 [==============================] - 11s 217us/step - loss: 0.5358 - acc: 0.8095 - val_loss: 0.5941 - val_acc: 0.7945\n",
      "Epoch 28/40\n",
      "50000/50000 [==============================] - 11s 216us/step - loss: 0.5340 - acc: 0.8094 - val_loss: 0.5947 - val_acc: 0.7949\n",
      "Epoch 29/40\n",
      "50000/50000 [==============================] - 11s 217us/step - loss: 0.5337 - acc: 0.8125 - val_loss: 0.5945 - val_acc: 0.7948\n",
      "Epoch 30/40\n",
      "50000/50000 [==============================] - 11s 216us/step - loss: 0.5372 - acc: 0.8111 - val_loss: 0.5943 - val_acc: 0.7957\n",
      "Epoch 31/40\n",
      "50000/50000 [==============================] - 11s 216us/step - loss: 0.5368 - acc: 0.8112 - val_loss: 0.5929 - val_acc: 0.7947\n",
      "Epoch 32/40\n",
      "50000/50000 [==============================] - 11s 216us/step - loss: 0.5389 - acc: 0.8067 - val_loss: 0.5958 - val_acc: 0.7949\n",
      "Epoch 33/40\n",
      "50000/50000 [==============================] - 11s 217us/step - loss: 0.5373 - acc: 0.8108 - val_loss: 0.5942 - val_acc: 0.7945\n",
      "Epoch 34/40\n",
      "50000/50000 [==============================] - 11s 217us/step - loss: 0.5388 - acc: 0.8101 - val_loss: 0.5938 - val_acc: 0.7956\n",
      "Epoch 35/40\n",
      "50000/50000 [==============================] - 11s 214us/step - loss: 0.5327 - acc: 0.8118 - val_loss: 0.5941 - val_acc: 0.7949\n",
      "Epoch 36/40\n",
      "50000/50000 [==============================] - 11s 213us/step - loss: 0.5402 - acc: 0.8093 - val_loss: 0.5928 - val_acc: 0.7954\n",
      "Epoch 37/40\n",
      "50000/50000 [==============================] - 11s 215us/step - loss: 0.5349 - acc: 0.8121 - val_loss: 0.5952 - val_acc: 0.7944\n",
      "Epoch 38/40\n",
      "50000/50000 [==============================] - 11s 216us/step - loss: 0.5357 - acc: 0.8112 - val_loss: 0.5933 - val_acc: 0.7953\n",
      "Epoch 39/40\n",
      "50000/50000 [==============================] - 11s 213us/step - loss: 0.5390 - acc: 0.8110 - val_loss: 0.5954 - val_acc: 0.7945\n",
      "Epoch 40/40\n",
      "50000/50000 [==============================] - 11s 215us/step - loss: 0.5371 - acc: 0.8096 - val_loss: 0.5951 - val_acc: 0.7951\n"
     ]
    }
   ],
   "source": [
    "# train the network\n",
    "print(\"[INFO] training network...\")\n",
    "H = model.fit(trainX, trainY, validation_data=(testX, testY), batch_size=64, epochs=40, callbacks=callbacks, verbose=1)"
   ]
  },
  {
   "cell_type": "code",
   "execution_count": 17,
   "metadata": {},
   "outputs": [
    {
     "name": "stdout",
     "output_type": "stream",
     "text": [
      "[INFO] evaluating network...\n",
      "              precision    recall  f1-score   support\n",
      "\n",
      "    airplane       0.85      0.78      0.81      1000\n",
      "  automobile       0.92      0.88      0.90      1000\n",
      "        bird       0.74      0.65      0.69      1000\n",
      "         cat       0.62      0.60      0.61      1000\n",
      "        deer       0.73      0.81      0.77      1000\n",
      "         dog       0.68      0.74      0.71      1000\n",
      "        frog       0.80      0.88      0.84      1000\n",
      "       horse       0.87      0.82      0.85      1000\n",
      "        ship       0.89      0.90      0.90      1000\n",
      "       truck       0.86      0.89      0.87      1000\n",
      "\n",
      "    accuracy                           0.80     10000\n",
      "   macro avg       0.80      0.80      0.79     10000\n",
      "weighted avg       0.80      0.80      0.79     10000\n",
      "\n"
     ]
    }
   ],
   "source": [
    "# evaluate the network\n",
    "print(\"[INFO] evaluating network...\")\n",
    "predictions = model.predict(testX, batch_size=64)\n",
    "print(classification_report(testY.argmax(axis=1), predictions.argmax(axis=1), target_names=labelNames))"
   ]
  },
  {
   "cell_type": "code",
   "execution_count": 18,
   "metadata": {},
   "outputs": [
    {
     "data": {
      "image/png": "[encoded data removed]",
      "text/plain": [
       "<Figure size 720x576 with 1 Axes>"
      ]
     },
     "metadata": {},
     "output_type": "display_data"
    }
   ],
   "source": [
    "# plot the training loss and accuracy\n",
    "plt.style.use(\"ggplot\")\n",
    "plt.figure()\n",
    "plt.plot(np.arange(0, 40), H.history[\"loss\"], label=\"train_loss\")\n",
    "plt.plot(np.arange(0, 40), H.history[\"val_loss\"], label=\"val_loss\")\n",
    "plt.plot(np.arange(0, 40), H.history[\"acc\"], label=\"train_acc\")\n",
    "plt.plot(np.arange(0, 40), H.history[\"val_acc\"], label=\"val_acc\")\n",
    "plt.title(\"Training Loss and Accuracy on CIFAR-10\")\n",
    "plt.xlabel(\"Epoch #\")\n",
    "plt.ylabel(\"Loss/Accuracy\")\n",
    "plt.legend()\n",
    "plt.show()"
   ]
  },
  {
   "cell_type": "code",
   "execution_count": 19,
   "metadata": {},
   "outputs": [],
   "source": [
    "def half_step_decay(epoch):\n",
    "    # initialize the base initial learning rate, drop factor, and\n",
    "    # epochs to drop every\n",
    "    initAlpha = 0.01\n",
    "    factor = 0.25\n",
    "    dropEvery = 5\n",
    "    \n",
    "    # compute learning rate for the current epoch\n",
    "    alpha = initAlpha * (factor ** np.floor((1 + epoch) / dropEvery))\n",
    "    \n",
    "    # return the learning rate\n",
    "    return float(alpha)"
   ]
  },
  {
   "cell_type": "code",
   "execution_count": 20,
   "metadata": {
    "scrolled": false
   },
   "outputs": [
    {
     "name": "stdout",
     "output_type": "stream",
     "text": [
      "[INFO] compiling model...\n",
      "[INFO] training network...\n",
      "Train on 50000 samples, validate on 10000 samples\n",
      "Epoch 1/40\n",
      "50000/50000 [==============================] - 12s 233us/step - loss: 1.6608 - acc: 0.4491 - val_loss: 1.2706 - val_acc: 0.5594\n",
      "Epoch 2/40\n",
      "50000/50000 [==============================] - 11s 215us/step - loss: 1.1744 - acc: 0.5969 - val_loss: 0.9270 - val_acc: 0.6830\n",
      "Epoch 3/40\n",
      "50000/50000 [==============================] - 11s 215us/step - loss: 0.9793 - acc: 0.6604 - val_loss: 0.8699 - val_acc: 0.6920\n",
      "Epoch 4/40\n",
      "50000/50000 [==============================] - 11s 218us/step - loss: 0.8739 - acc: 0.6958 - val_loss: 0.7449 - val_acc: 0.7354\n",
      "Epoch 5/40\n",
      "50000/50000 [==============================] - 11s 219us/step - loss: 0.7229 - acc: 0.7460 - val_loss: 0.6606 - val_acc: 0.7679\n",
      "Epoch 6/40\n",
      "50000/50000 [==============================] - 11s 219us/step - loss: 0.6718 - acc: 0.7640 - val_loss: 0.6466 - val_acc: 0.7749\n",
      "Epoch 7/40\n",
      "50000/50000 [==============================] - 11s 221us/step - loss: 0.6471 - acc: 0.7729 - val_loss: 0.6252 - val_acc: 0.7815\n",
      "Epoch 8/40\n",
      "50000/50000 [==============================] - 11s 218us/step - loss: 0.6274 - acc: 0.7814 - val_loss: 0.6464 - val_acc: 0.7722\n",
      "Epoch 9/40\n",
      "50000/50000 [==============================] - 11s 217us/step - loss: 0.6105 - acc: 0.7851 - val_loss: 0.6401 - val_acc: 0.7773\n",
      "Epoch 10/40\n",
      "50000/50000 [==============================] - 11s 216us/step - loss: 0.5757 - acc: 0.7979 - val_loss: 0.5989 - val_acc: 0.7903\n",
      "Epoch 11/40\n",
      "50000/50000 [==============================] - 11s 219us/step - loss: 0.5661 - acc: 0.7997 - val_loss: 0.5943 - val_acc: 0.7924\n",
      "Epoch 12/40\n",
      "50000/50000 [==============================] - 11s 218us/step - loss: 0.5630 - acc: 0.8019 - val_loss: 0.5969 - val_acc: 0.7919\n",
      "Epoch 13/40\n",
      "50000/50000 [==============================] - 11s 218us/step - loss: 0.5514 - acc: 0.8060 - val_loss: 0.5994 - val_acc: 0.7916\n",
      "Epoch 14/40\n",
      "50000/50000 [==============================] - 11s 217us/step - loss: 0.5507 - acc: 0.8050 - val_loss: 0.5859 - val_acc: 0.7954\n",
      "Epoch 15/40\n",
      "50000/50000 [==============================] - 11s 217us/step - loss: 0.5377 - acc: 0.8111 - val_loss: 0.5860 - val_acc: 0.7964\n",
      "Epoch 16/40\n",
      "50000/50000 [==============================] - 11s 217us/step - loss: 0.5375 - acc: 0.8120 - val_loss: 0.5849 - val_acc: 0.7948\n",
      "Epoch 17/40\n",
      "50000/50000 [==============================] - 11s 215us/step - loss: 0.5334 - acc: 0.8126 - val_loss: 0.5835 - val_acc: 0.7967\n",
      "Epoch 18/40\n",
      "50000/50000 [==============================] - 11s 221us/step - loss: 0.5333 - acc: 0.8118 - val_loss: 0.5829 - val_acc: 0.7976\n",
      "Epoch 19/40\n",
      "50000/50000 [==============================] - 11s 220us/step - loss: 0.5333 - acc: 0.8132 - val_loss: 0.5825 - val_acc: 0.7966\n",
      "Epoch 20/40\n",
      "50000/50000 [==============================] - 11s 219us/step - loss: 0.5270 - acc: 0.8136 - val_loss: 0.5818 - val_acc: 0.7969\n",
      "Epoch 21/40\n",
      "50000/50000 [==============================] - 11s 222us/step - loss: 0.5305 - acc: 0.8134 - val_loss: 0.5821 - val_acc: 0.7967\n",
      "Epoch 22/40\n",
      "50000/50000 [==============================] - 11s 221us/step - loss: 0.5275 - acc: 0.8143 - val_loss: 0.5825 - val_acc: 0.7967\n",
      "Epoch 23/40\n",
      "50000/50000 [==============================] - 11s 219us/step - loss: 0.5327 - acc: 0.8102 - val_loss: 0.5829 - val_acc: 0.7977\n",
      "Epoch 24/40\n",
      "50000/50000 [==============================] - 11s 215us/step - loss: 0.5252 - acc: 0.8153 - val_loss: 0.5816 - val_acc: 0.7974\n",
      "Epoch 25/40\n",
      "50000/50000 [==============================] - 11s 214us/step - loss: 0.5320 - acc: 0.8128 - val_loss: 0.5815 - val_acc: 0.7968\n",
      "Epoch 26/40\n",
      "50000/50000 [==============================] - 11s 216us/step - loss: 0.5280 - acc: 0.8139 - val_loss: 0.5815 - val_acc: 0.7965\n",
      "Epoch 27/40\n",
      "50000/50000 [==============================] - 11s 217us/step - loss: 0.5304 - acc: 0.8134 - val_loss: 0.5814 - val_acc: 0.7976\n",
      "Epoch 28/40\n",
      "50000/50000 [==============================] - 11s 221us/step - loss: 0.5240 - acc: 0.8169 - val_loss: 0.5805 - val_acc: 0.7976\n",
      "Epoch 29/40\n",
      "50000/50000 [==============================] - 11s 217us/step - loss: 0.5224 - acc: 0.8173 - val_loss: 0.5808 - val_acc: 0.7970\n",
      "Epoch 30/40\n",
      "50000/50000 [==============================] - 11s 211us/step - loss: 0.5327 - acc: 0.8127 - val_loss: 0.5796 - val_acc: 0.7981\n",
      "Epoch 31/40\n",
      "50000/50000 [==============================] - 11s 216us/step - loss: 0.5254 - acc: 0.8138 - val_loss: 0.5816 - val_acc: 0.7964\n",
      "Epoch 32/40\n",
      "50000/50000 [==============================] - 11s 215us/step - loss: 0.5296 - acc: 0.8129 - val_loss: 0.5808 - val_acc: 0.7972\n",
      "Epoch 33/40\n",
      "50000/50000 [==============================] - 11s 216us/step - loss: 0.5257 - acc: 0.8156 - val_loss: 0.5804 - val_acc: 0.7984\n",
      "Epoch 34/40\n",
      "50000/50000 [==============================] - 11s 219us/step - loss: 0.5272 - acc: 0.8141 - val_loss: 0.5823 - val_acc: 0.7974\n",
      "Epoch 35/40\n",
      "50000/50000 [==============================] - 11s 217us/step - loss: 0.5301 - acc: 0.8128 - val_loss: 0.5807 - val_acc: 0.7970\n",
      "Epoch 36/40\n",
      "50000/50000 [==============================] - 11s 217us/step - loss: 0.5318 - acc: 0.8131 - val_loss: 0.5803 - val_acc: 0.7977\n",
      "Epoch 37/40\n",
      "50000/50000 [==============================] - 11s 219us/step - loss: 0.5292 - acc: 0.8137 - val_loss: 0.5811 - val_acc: 0.7970\n",
      "Epoch 38/40\n",
      "50000/50000 [==============================] - 11s 219us/step - loss: 0.5237 - acc: 0.8135 - val_loss: 0.5809 - val_acc: 0.7975\n",
      "Epoch 39/40\n",
      "50000/50000 [==============================] - 11s 221us/step - loss: 0.5280 - acc: 0.8143 - val_loss: 0.5812 - val_acc: 0.7961\n",
      "Epoch 40/40\n",
      "50000/50000 [==============================] - 11s 219us/step - loss: 0.5249 - acc: 0.8152 - val_loss: 0.5813 - val_acc: 0.7975\n"
     ]
    }
   ],
   "source": [
    "# define the set of callbacks to be passed to the model during training\n",
    "callbacks = [LearningRateScheduler(half_step_decay)]\n",
    "\n",
    "# initialize the optimizer and model\n",
    "print(\"[INFO] compiling model...\")\n",
    "opt = SGD(lr=0.01, momentum=0.9, nesterov=True)\n",
    "model = MiniVGGNet.build(width=32, height=32, depth=3, classes=10)\n",
    "model.compile(loss=\"categorical_crossentropy\", optimizer=opt, metrics=[\"accuracy\"])\n",
    "\n",
    "# train the network\n",
    "print(\"[INFO] training network...\")\n",
    "H = model.fit(trainX, trainY, validation_data=(testX, testY), batch_size=64, epochs=40, callbacks=callbacks, verbose=1)"
   ]
  },
  {
   "cell_type": "code",
   "execution_count": 21,
   "metadata": {},
   "outputs": [
    {
     "name": "stdout",
     "output_type": "stream",
     "text": [
      "[INFO] evaluating network...\n",
      "              precision    recall  f1-score   support\n",
      "\n",
      "    airplane       0.83      0.79      0.81      1000\n",
      "  automobile       0.91      0.88      0.90      1000\n",
      "        bird       0.74      0.66      0.70      1000\n",
      "         cat       0.66      0.61      0.63      1000\n",
      "        deer       0.73      0.80      0.76      1000\n",
      "         dog       0.73      0.73      0.73      1000\n",
      "        frog       0.79      0.90      0.84      1000\n",
      "       horse       0.86      0.83      0.85      1000\n",
      "        ship       0.88      0.89      0.89      1000\n",
      "       truck       0.85      0.89      0.87      1000\n",
      "\n",
      "    accuracy                           0.80     10000\n",
      "   macro avg       0.80      0.80      0.80     10000\n",
      "weighted avg       0.80      0.80      0.80     10000\n",
      "\n"
     ]
    }
   ],
   "source": [
    "# evaluate the network\n",
    "print(\"[INFO] evaluating network...\")\n",
    "predictions = model.predict(testX, batch_size=64)\n",
    "print(classification_report(testY.argmax(axis=1), predictions.argmax(axis=1), target_names=labelNames))"
   ]
  },
  {
   "cell_type": "code",
   "execution_count": 22,
   "metadata": {},
   "outputs": [
    {
     "data": {
      "image/png": "[encoded data removed]",
      "text/plain": [
       "<Figure size 720x576 with 1 Axes>"
      ]
     },
     "metadata": {},
     "output_type": "display_data"
    }
   ],
   "source": [
    "# plot the training loss and accuracy\n",
    "plt.style.use(\"ggplot\")\n",
    "plt.figure()\n",
    "plt.plot(np.arange(0, 40), H.history[\"loss\"], label=\"train_loss\")\n",
    "plt.plot(np.arange(0, 40), H.history[\"val_loss\"], label=\"val_loss\")\n",
    "plt.plot(np.arange(0, 40), H.history[\"acc\"], label=\"train_acc\")\n",
    "plt.plot(np.arange(0, 40), H.history[\"val_acc\"], label=\"val_acc\")\n",
    "plt.title(\"Training Loss and Accuracy on CIFAR-10\")\n",
    "plt.xlabel(\"Epoch #\")\n",
    "plt.ylabel(\"Loss/Accuracy\")\n",
    "plt.legend()\n",
    "plt.show()"
   ]
  }
 ],
 "metadata": {
  "kernelspec": {
   "display_name": "Python 3",
   "language": "python",
   "name": "python3"
  },
  "language_info": {
   "codemirror_mode": {
    "name": "ipython",
    "version": 3
   },
   "file_extension": ".py",
   "mimetype": "text/x-python",
   "name": "python",
   "nbconvert_exporter": "python",
   "pygments_lexer": "ipython3",
   "version": "3.6.9"
  }
 },
 "nbformat": 4,
 "nbformat_minor": 4
}
