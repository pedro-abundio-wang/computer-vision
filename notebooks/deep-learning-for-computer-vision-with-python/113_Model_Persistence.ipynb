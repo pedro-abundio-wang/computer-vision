{
 "cells": [
  {
   "cell_type": "markdown",
   "metadata": {},
   "source": [
    "# Model Save"
   ]
  },
  {
   "cell_type": "code",
   "execution_count": 2,
   "metadata": {},
   "outputs": [],
   "source": [
    "import matplotlib.pyplot as plt\n",
    "\n",
    "# This is a bit of magic to make matplotlib figures appear inline in the\n",
    "# notebook rather than in a new window.\n",
    "%matplotlib inline\n",
    "plt.rcParams['figure.figsize'] = (10.0, 8.0) # set default size of plots\n",
    "plt.rcParams['image.interpolation'] = 'nearest'\n",
    "plt.rcParams['image.cmap'] = 'gray'\n",
    "\n",
    "# Some more magic so that the notebook will reload external python modules;\n",
    "# see http://stackoverflow.com/questions/1907993/autoreload-of-modules-in-ipython\n",
    "%load_ext autoreload\n",
    "%autoreload 2"
   ]
  },
  {
   "cell_type": "code",
   "execution_count": 3,
   "metadata": {},
   "outputs": [],
   "source": [
    "# import the necessary packages\n",
    "from sklearn.preprocessing import LabelBinarizer\n",
    "from sklearn.model_selection import train_test_split\n",
    "from sklearn.metrics import classification_report\n",
    "from keras.optimizers import SGD\n",
    "from keras.datasets import cifar10\n",
    "import matplotlib.pyplot as plt\n",
    "import numpy as np"
   ]
  },
  {
   "cell_type": "code",
   "execution_count": 4,
   "metadata": {},
   "outputs": [
    {
     "name": "stdout",
     "output_type": "stream",
     "text": [
      "[INFO] loading CIFAR-10 data...\n"
     ]
    }
   ],
   "source": [
    "# load the training and testing data, scale it into the range [0, 1],\n",
    "print(\"[INFO] loading CIFAR-10 data...\")\n",
    "((trainX, trainY), (testX, testY)) = cifar10.load_data()\n",
    "trainX = trainX.astype(\"float\") / 255.0\n",
    "testX = testX.astype(\"float\") / 255.0\n",
    "\n",
    "# convert the labels from integers to vectors\n",
    "labelBinarizer = LabelBinarizer()\n",
    "trainY = labelBinarizer.fit_transform(trainY)\n",
    "testY = labelBinarizer.fit_transform(testY)\n",
    "\n",
    "# initialize the label names for the CIFAR-10 dataset\n",
    "labelNames = [\"airplane\", \"automobile\", \"bird\", \"cat\", \"deer\", \"dog\", \"frog\", \"horse\", \"ship\", \"truck\"]"
   ]
  },
  {
   "cell_type": "code",
   "execution_count": 5,
   "metadata": {
    "scrolled": false
   },
   "outputs": [
    {
     "name": "stdout",
     "output_type": "stream",
     "text": [
      "[INFO] compiling model...\n",
      "[INFO] training network...\n",
      "Train on 50000 samples, validate on 10000 samples\n",
      "Epoch 1/15\n",
      "50000/50000 [==============================] - 20s 408us/step - loss: 1.7951 - acc: 0.3683 - val_loss: 1.6175 - val_acc: 0.4325\n",
      "Epoch 2/15\n",
      "50000/50000 [==============================] - 19s 385us/step - loss: 1.5235 - acc: 0.4701 - val_loss: 1.6084 - val_acc: 0.4275\n",
      "Epoch 3/15\n",
      "50000/50000 [==============================] - 19s 383us/step - loss: 1.3835 - acc: 0.5142 - val_loss: 1.3683 - val_acc: 0.5105\n",
      "Epoch 4/15\n",
      "50000/50000 [==============================] - 19s 385us/step - loss: 1.3010 - acc: 0.5454 - val_loss: 1.3662 - val_acc: 0.5253\n",
      "Epoch 5/15\n",
      "50000/50000 [==============================] - 19s 384us/step - loss: 1.2456 - acc: 0.5660 - val_loss: 1.3586 - val_acc: 0.5223\n",
      "Epoch 6/15\n",
      "50000/50000 [==============================] - 19s 384us/step - loss: 1.2078 - acc: 0.5772 - val_loss: 1.3112 - val_acc: 0.5269\n",
      "Epoch 7/15\n",
      "50000/50000 [==============================] - 19s 386us/step - loss: 1.1749 - acc: 0.5922 - val_loss: 1.3064 - val_acc: 0.5416\n",
      "Epoch 8/15\n",
      "50000/50000 [==============================] - 19s 383us/step - loss: 1.1505 - acc: 0.5997 - val_loss: 1.3265 - val_acc: 0.5299\n",
      "Epoch 9/15\n",
      "50000/50000 [==============================] - 19s 386us/step - loss: 1.1227 - acc: 0.6069 - val_loss: 1.2217 - val_acc: 0.5741\n",
      "Epoch 10/15\n",
      "50000/50000 [==============================] - 19s 387us/step - loss: 1.1029 - acc: 0.6164 - val_loss: 1.2455 - val_acc: 0.5630\n",
      "Epoch 11/15\n",
      "50000/50000 [==============================] - 19s 386us/step - loss: 1.0829 - acc: 0.6253 - val_loss: 1.2832 - val_acc: 0.5450\n",
      "Epoch 12/15\n",
      "50000/50000 [==============================] - 19s 384us/step - loss: 1.0631 - acc: 0.6304 - val_loss: 1.2242 - val_acc: 0.5691\n",
      "Epoch 13/15\n",
      "50000/50000 [==============================] - 19s 387us/step - loss: 1.0461 - acc: 0.6373 - val_loss: 1.2230 - val_acc: 0.5700\n",
      "Epoch 14/15\n",
      "50000/50000 [==============================] - 19s 385us/step - loss: 1.0299 - acc: 0.6426 - val_loss: 1.2548 - val_acc: 0.5680\n",
      "Epoch 15/15\n",
      "50000/50000 [==============================] - 19s 385us/step - loss: 1.0148 - acc: 0.6463 - val_loss: 1.2231 - val_acc: 0.5760\n"
     ]
    }
   ],
   "source": [
    "from classifiers.keras_cnn import KerasCNN\n",
    "\n",
    "# initialize the optimizer and model\n",
    "print(\"[INFO] compiling model...\")\n",
    "opt = SGD(lr=0.01)\n",
    "kerasCNN = KerasCNN();\n",
    "model = kerasCNN.build(width=32, height=32, depth=3, classes=10)\n",
    "model.compile(loss=\"categorical_crossentropy\", optimizer=opt, metrics=[\"accuracy\"])\n",
    "\n",
    "# train the network\n",
    "print(\"[INFO] training network...\")\n",
    "H = model.fit(trainX, trainY, validation_data=(testX, testY), batch_size=32, epochs=15, verbose=1)"
   ]
  },
  {
   "cell_type": "code",
   "execution_count": 6,
   "metadata": {},
   "outputs": [
    {
     "name": "stdout",
     "output_type": "stream",
     "text": [
      "[INFO] serializing network...\n"
     ]
    }
   ],
   "source": [
    "# path to output model\n",
    "model_path = \"./model_persistence/keras_cnn_cifar10.hdf5\"\n",
    "\n",
    "# save the network to disk\n",
    "print(\"[INFO] serializing network...\")\n",
    "model.save(model_path)"
   ]
  },
  {
   "cell_type": "code",
   "execution_count": 7,
   "metadata": {},
   "outputs": [
    {
     "name": "stdout",
     "output_type": "stream",
     "text": [
      "[INFO] evaluating network...\n",
      "              precision    recall  f1-score   support\n",
      "\n",
      "    airplane       0.56      0.76      0.64      1000\n",
      "  automobile       0.71      0.70      0.71      1000\n",
      "        bird       0.46      0.45      0.45      1000\n",
      "         cat       0.41      0.44      0.43      1000\n",
      "        deer       0.62      0.29      0.40      1000\n",
      "         dog       0.53      0.44      0.48      1000\n",
      "        frog       0.52      0.77      0.62      1000\n",
      "       horse       0.58      0.71      0.64      1000\n",
      "        ship       0.79      0.63      0.70      1000\n",
      "       truck       0.69      0.57      0.62      1000\n",
      "\n",
      "    accuracy                           0.58     10000\n",
      "   macro avg       0.59      0.58      0.57     10000\n",
      "weighted avg       0.59      0.58      0.57     10000\n",
      "\n"
     ]
    }
   ],
   "source": [
    "# evaluate the network\n",
    "print(\"[INFO] evaluating network...\")\n",
    "predictions = model.predict(testX, batch_size=32)\n",
    "print(classification_report(testY.argmax(axis=1), predictions.argmax(axis=1), target_names=labelNames))"
   ]
  },
  {
   "cell_type": "code",
   "execution_count": 9,
   "metadata": {},
   "outputs": [
    {
     "data": {
      "image/png": "[encoded data removed]",
      "text/plain": [
       "<Figure size 720x576 with 1 Axes>"
      ]
     },
     "metadata": {},
     "output_type": "display_data"
    }
   ],
   "source": [
    "# plot the training loss and accuracy\n",
    "plt.style.use(\"ggplot\")\n",
    "plt.figure()\n",
    "plt.plot(np.arange(0, 15), H.history[\"loss\"], label=\"train_loss\")\n",
    "plt.plot(np.arange(0, 15), H.history[\"val_loss\"], label=\"val_loss\")\n",
    "plt.plot(np.arange(0, 15), H.history[\"acc\"], label=\"train_acc\")\n",
    "plt.plot(np.arange(0, 15), H.history[\"val_acc\"], label=\"val_acc\")\n",
    "plt.title(\"Training Loss and Accuracy\")\n",
    "plt.xlabel(\"Epoch #\")\n",
    "plt.ylabel(\"Loss/Accuracy\")\n",
    "plt.legend()\n",
    "plt.show()"
   ]
  },
  {
   "cell_type": "markdown",
   "metadata": {},
   "source": [
    "# Model Load"
   ]
  },
  {
   "cell_type": "code",
   "execution_count": 10,
   "metadata": {},
   "outputs": [
    {
     "name": "stdout",
     "output_type": "stream",
     "text": [
      "[INFO] loading pre-trained network...\n"
     ]
    }
   ],
   "source": [
    "from keras.models import load_model\n",
    "# load the pre-trained network\n",
    "print(\"[INFO] loading pre-trained network...\")\n",
    "model = load_model(model_path)"
   ]
  },
  {
   "cell_type": "code",
   "execution_count": 13,
   "metadata": {},
   "outputs": [
    {
     "name": "stdout",
     "output_type": "stream",
     "text": [
      "[INFO] evaluating network...\n",
      "              precision    recall  f1-score   support\n",
      "\n",
      "    airplane       0.56      0.76      0.64      1000\n",
      "  automobile       0.71      0.70      0.71      1000\n",
      "        bird       0.46      0.45      0.45      1000\n",
      "         cat       0.41      0.44      0.43      1000\n",
      "        deer       0.62      0.29      0.40      1000\n",
      "         dog       0.53      0.44      0.48      1000\n",
      "        frog       0.52      0.77      0.62      1000\n",
      "       horse       0.58      0.71      0.64      1000\n",
      "        ship       0.79      0.63      0.70      1000\n",
      "       truck       0.69      0.57      0.62      1000\n",
      "\n",
      "    accuracy                           0.58     10000\n",
      "   macro avg       0.59      0.58      0.57     10000\n",
      "weighted avg       0.59      0.58      0.57     10000\n",
      "\n"
     ]
    }
   ],
   "source": [
    "# evaluate the network\n",
    "print(\"[INFO] evaluating network...\")\n",
    "predictions = model.predict(testX, batch_size=32)\n",
    "print(classification_report(testY.argmax(axis=1), predictions.argmax(axis=1), target_names=labelNames))"
   ]
  },
  {
   "cell_type": "markdown",
   "metadata": {},
   "source": [
    "Well Done"
   ]
  }
 ],
 "metadata": {
  "kernelspec": {
   "display_name": "Python 3",
   "language": "python",
   "name": "python3"
  },
  "language_info": {
   "codemirror_mode": {
    "name": "ipython",
    "version": 3
   },
   "file_extension": ".py",
   "mimetype": "text/x-python",
   "name": "python",
   "nbconvert_exporter": "python",
   "pygments_lexer": "ipython3",
   "version": "3.6.9"
  }
 },
 "nbformat": 4,
 "nbformat_minor": 4
}
