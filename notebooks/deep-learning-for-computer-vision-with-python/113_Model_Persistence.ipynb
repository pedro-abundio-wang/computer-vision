{
 "cells": [
  {
   "cell_type": "markdown",
   "metadata": {},
   "source": [
    "# Model Save"
   ]
  },
  {
   "cell_type": "code",
   "execution_count": 1,
   "metadata": {},
   "outputs": [],
   "source": [
    "import matplotlib.pyplot as plt\n",
    "\n",
    "# This is a bit of magic to make matplotlib figures appear inline in the\n",
    "# notebook rather than in a new window.\n",
    "%matplotlib inline\n",
    "plt.rcParams['figure.figsize'] = (10.0, 8.0) # set default size of plots\n",
    "plt.rcParams['image.interpolation'] = 'nearest'\n",
    "plt.rcParams['image.cmap'] = 'gray'\n",
    "\n",
    "# Some more magic so that the notebook will reload external python modules;\n",
    "# see http://stackoverflow.com/questions/1907993/autoreload-of-modules-in-ipython\n",
    "%load_ext autoreload\n",
    "%autoreload 2"
   ]
  },
  {
   "cell_type": "code",
   "execution_count": 2,
   "metadata": {},
   "outputs": [
    {
     "name": "stderr",
     "output_type": "stream",
     "text": [
      "Using TensorFlow backend.\n",
      "/home/pedro/miniconda3/envs/computer-vision/lib/python3.6/site-packages/tensorflow/python/framework/dtypes.py:523: FutureWarning: Passing (type, 1) or '1type' as a synonym of type is deprecated; in a future version of numpy, it will be understood as (type, (1,)) / '(1,)type'.\n",
      "  _np_qint8 = np.dtype([(\"qint8\", np.int8, 1)])\n",
      "/home/pedro/miniconda3/envs/computer-vision/lib/python3.6/site-packages/tensorflow/python/framework/dtypes.py:524: FutureWarning: Passing (type, 1) or '1type' as a synonym of type is deprecated; in a future version of numpy, it will be understood as (type, (1,)) / '(1,)type'.\n",
      "  _np_quint8 = np.dtype([(\"quint8\", np.uint8, 1)])\n",
      "/home/pedro/miniconda3/envs/computer-vision/lib/python3.6/site-packages/tensorflow/python/framework/dtypes.py:525: FutureWarning: Passing (type, 1) or '1type' as a synonym of type is deprecated; in a future version of numpy, it will be understood as (type, (1,)) / '(1,)type'.\n",
      "  _np_qint16 = np.dtype([(\"qint16\", np.int16, 1)])\n",
      "/home/pedro/miniconda3/envs/computer-vision/lib/python3.6/site-packages/tensorflow/python/framework/dtypes.py:526: FutureWarning: Passing (type, 1) or '1type' as a synonym of type is deprecated; in a future version of numpy, it will be understood as (type, (1,)) / '(1,)type'.\n",
      "  _np_quint16 = np.dtype([(\"quint16\", np.uint16, 1)])\n",
      "/home/pedro/miniconda3/envs/computer-vision/lib/python3.6/site-packages/tensorflow/python/framework/dtypes.py:527: FutureWarning: Passing (type, 1) or '1type' as a synonym of type is deprecated; in a future version of numpy, it will be understood as (type, (1,)) / '(1,)type'.\n",
      "  _np_qint32 = np.dtype([(\"qint32\", np.int32, 1)])\n",
      "/home/pedro/miniconda3/envs/computer-vision/lib/python3.6/site-packages/tensorflow/python/framework/dtypes.py:532: FutureWarning: Passing (type, 1) or '1type' as a synonym of type is deprecated; in a future version of numpy, it will be understood as (type, (1,)) / '(1,)type'.\n",
      "  np_resource = np.dtype([(\"resource\", np.ubyte, 1)])\n"
     ]
    }
   ],
   "source": [
    "# import the necessary packages\n",
    "from sklearn.preprocessing import LabelBinarizer\n",
    "from sklearn.model_selection import train_test_split\n",
    "from sklearn.metrics import classification_report\n",
    "from keras.optimizers import SGD\n",
    "from keras.datasets import cifar10\n",
    "import matplotlib.pyplot as plt\n",
    "import numpy as np"
   ]
  },
  {
   "cell_type": "code",
   "execution_count": 3,
   "metadata": {},
   "outputs": [
    {
     "name": "stdout",
     "output_type": "stream",
     "text": [
      "[INFO] loading CIFAR-10 data...\n"
     ]
    }
   ],
   "source": [
    "# load the training and testing data, scale it into the range [0, 1],\n",
    "print(\"[INFO] loading CIFAR-10 data...\")\n",
    "((trainX, trainY), (testX, testY)) = cifar10.load_data()\n",
    "trainX = trainX.astype(\"float\") / 255.0\n",
    "testX = testX.astype(\"float\") / 255.0\n",
    "\n",
    "# convert the labels from integers to vectors\n",
    "labelBinarizer = LabelBinarizer()\n",
    "trainY = labelBinarizer.fit_transform(trainY)\n",
    "testY = labelBinarizer.fit_transform(testY)\n",
    "\n",
    "# initialize the label names for the CIFAR-10 dataset\n",
    "labelNames = [\"airplane\", \"automobile\", \"bird\", \"cat\", \"deer\", \"dog\", \"frog\", \"horse\", \"ship\", \"truck\"]"
   ]
  },
  {
   "cell_type": "code",
   "execution_count": 4,
   "metadata": {
    "scrolled": false
   },
   "outputs": [
    {
     "name": "stdout",
     "output_type": "stream",
     "text": [
      "[INFO] compiling model...\n",
      "[INFO] training network...\n",
      "Train on 50000 samples, validate on 10000 samples\n",
      "Epoch 1/15\n",
      "50000/50000 [==============================] - 20s 409us/step - loss: 1.8077 - acc: 0.3640 - val_loss: 1.6640 - val_acc: 0.4178\n",
      "Epoch 2/15\n",
      "50000/50000 [==============================] - 19s 382us/step - loss: 1.5506 - acc: 0.4621 - val_loss: 1.4546 - val_acc: 0.4883\n",
      "Epoch 3/15\n",
      "50000/50000 [==============================] - 19s 383us/step - loss: 1.4199 - acc: 0.5054 - val_loss: 1.4119 - val_acc: 0.4961\n",
      "Epoch 4/15\n",
      "50000/50000 [==============================] - 19s 383us/step - loss: 1.3312 - acc: 0.5349 - val_loss: 1.3298 - val_acc: 0.5289\n",
      "Epoch 5/15\n",
      "50000/50000 [==============================] - 19s 384us/step - loss: 1.2667 - acc: 0.5588 - val_loss: 1.3176 - val_acc: 0.5279\n",
      "Epoch 6/15\n",
      "50000/50000 [==============================] - 19s 385us/step - loss: 1.2209 - acc: 0.5747 - val_loss: 1.3574 - val_acc: 0.5191\n",
      "Epoch 7/15\n",
      "50000/50000 [==============================] - 19s 382us/step - loss: 1.1829 - acc: 0.5869 - val_loss: 1.3312 - val_acc: 0.5298\n",
      "Epoch 8/15\n",
      "50000/50000 [==============================] - 19s 382us/step - loss: 1.1524 - acc: 0.6001 - val_loss: 1.2637 - val_acc: 0.5549\n",
      "Epoch 9/15\n",
      "50000/50000 [==============================] - 19s 386us/step - loss: 1.1288 - acc: 0.6081 - val_loss: 1.2603 - val_acc: 0.5553\n",
      "Epoch 10/15\n",
      "50000/50000 [==============================] - 19s 383us/step - loss: 1.1030 - acc: 0.6147 - val_loss: 1.2701 - val_acc: 0.5440\n",
      "Epoch 11/15\n",
      "50000/50000 [==============================] - 19s 384us/step - loss: 1.0818 - acc: 0.6253 - val_loss: 1.3051 - val_acc: 0.5496\n",
      "Epoch 12/15\n",
      "50000/50000 [==============================] - 19s 382us/step - loss: 1.0621 - acc: 0.6300 - val_loss: 1.2335 - val_acc: 0.5679\n",
      "Epoch 13/15\n",
      "50000/50000 [==============================] - 19s 383us/step - loss: 1.0453 - acc: 0.6368 - val_loss: 1.2594 - val_acc: 0.5503\n",
      "Epoch 14/15\n",
      "50000/50000 [==============================] - 19s 383us/step - loss: 1.0282 - acc: 0.6440 - val_loss: 1.2396 - val_acc: 0.5673\n",
      "Epoch 15/15\n",
      "50000/50000 [==============================] - 19s 382us/step - loss: 1.0109 - acc: 0.6497 - val_loss: 1.3493 - val_acc: 0.5422\n"
     ]
    }
   ],
   "source": [
    "from classifiers.keras_cnn import KerasCNN\n",
    "\n",
    "# initialize the optimizer and model\n",
    "print(\"[INFO] compiling model...\")\n",
    "opt = SGD(lr=0.01)\n",
    "kerasCNN = KerasCNN();\n",
    "model = kerasCNN.build(width=32, height=32, depth=3, classes=10)\n",
    "model.compile(loss=\"categorical_crossentropy\", optimizer=opt, metrics=[\"accuracy\"])\n",
    "\n",
    "# train the network\n",
    "print(\"[INFO] training network...\")\n",
    "H = model.fit(trainX, trainY, validation_data=(testX, testY), batch_size=32, epochs=15, verbose=1)"
   ]
  },
  {
   "cell_type": "code",
   "execution_count": 5,
   "metadata": {},
   "outputs": [
    {
     "name": "stdout",
     "output_type": "stream",
     "text": [
      "[INFO] serializing network...\n"
     ]
    }
   ],
   "source": [
    "# path to output model\n",
    "model_path = \"./output/model_persistence/keras_cnn_cifar10.hdf5\"\n",
    "\n",
    "# save the network to disk\n",
    "print(\"[INFO] serializing network...\")\n",
    "model.save(model_path)"
   ]
  },
  {
   "cell_type": "code",
   "execution_count": 6,
   "metadata": {},
   "outputs": [
    {
     "name": "stdout",
     "output_type": "stream",
     "text": [
      "[INFO] evaluating network...\n",
      "              precision    recall  f1-score   support\n",
      "\n",
      "    airplane       0.60      0.56      0.58      1000\n",
      "  automobile       0.59      0.79      0.67      1000\n",
      "        bird       0.40      0.49      0.44      1000\n",
      "         cat       0.52      0.19      0.28      1000\n",
      "        deer       0.52      0.45      0.48      1000\n",
      "         dog       0.59      0.33      0.43      1000\n",
      "        frog       0.53      0.73      0.61      1000\n",
      "       horse       0.71      0.60      0.65      1000\n",
      "        ship       0.45      0.87      0.59      1000\n",
      "       truck       0.75      0.40      0.52      1000\n",
      "\n",
      "    accuracy                           0.54     10000\n",
      "   macro avg       0.57      0.54      0.53     10000\n",
      "weighted avg       0.57      0.54      0.53     10000\n",
      "\n"
     ]
    }
   ],
   "source": [
    "# evaluate the network\n",
    "print(\"[INFO] evaluating network...\")\n",
    "predictions = model.predict(testX, batch_size=32)\n",
    "print(classification_report(testY.argmax(axis=1), predictions.argmax(axis=1), target_names=labelNames))"
   ]
  },
  {
   "cell_type": "code",
   "execution_count": 7,
   "metadata": {},
   "outputs": [
    {
     "data": {
      "image/png": "[encoded data removed]",
      "text/plain": [
       "<Figure size 720x576 with 1 Axes>"
      ]
     },
     "metadata": {},
     "output_type": "display_data"
    }
   ],
   "source": [
    "# plot the training loss and accuracy\n",
    "plt.style.use(\"ggplot\")\n",
    "plt.figure()\n",
    "plt.plot(np.arange(0, 15), H.history[\"loss\"], label=\"train_loss\")\n",
    "plt.plot(np.arange(0, 15), H.history[\"val_loss\"], label=\"val_loss\")\n",
    "plt.plot(np.arange(0, 15), H.history[\"acc\"], label=\"train_acc\")\n",
    "plt.plot(np.arange(0, 15), H.history[\"val_acc\"], label=\"val_acc\")\n",
    "plt.title(\"Training Loss and Accuracy\")\n",
    "plt.xlabel(\"Epoch #\")\n",
    "plt.ylabel(\"Loss/Accuracy\")\n",
    "plt.legend()\n",
    "plt.show()"
   ]
  },
  {
   "cell_type": "markdown",
   "metadata": {},
   "source": [
    "# Model Load"
   ]
  },
  {
   "cell_type": "code",
   "execution_count": 8,
   "metadata": {},
   "outputs": [
    {
     "name": "stdout",
     "output_type": "stream",
     "text": [
      "[INFO] loading pre-trained network...\n"
     ]
    }
   ],
   "source": [
    "from keras.models import load_model\n",
    "# load the pre-trained network\n",
    "print(\"[INFO] loading pre-trained network...\")\n",
    "model = load_model(model_path)"
   ]
  },
  {
   "cell_type": "code",
   "execution_count": 10,
   "metadata": {},
   "outputs": [
    {
     "name": "stdout",
     "output_type": "stream",
     "text": [
      "_________________________________________________________________\n",
      "Layer (type)                 Output Shape              Param #   \n",
      "=================================================================\n",
      "conv2d_1 (Conv2D)            (None, 32, 32, 32)        896       \n",
      "_________________________________________________________________\n",
      "activation_1 (Activation)    (None, 32, 32, 32)        0         \n",
      "_________________________________________________________________\n",
      "flatten_1 (Flatten)          (None, 32768)             0         \n",
      "_________________________________________________________________\n",
      "dense_1 (Dense)              (None, 10)                327690    \n",
      "_________________________________________________________________\n",
      "activation_2 (Activation)    (None, 10)                0         \n",
      "=================================================================\n",
      "Total params: 328,586\n",
      "Trainable params: 328,586\n",
      "Non-trainable params: 0\n",
      "_________________________________________________________________\n"
     ]
    }
   ],
   "source": [
    "model.summary()"
   ]
  },
  {
   "cell_type": "code",
   "execution_count": 9,
   "metadata": {},
   "outputs": [
    {
     "name": "stdout",
     "output_type": "stream",
     "text": [
      "[INFO] evaluating network...\n",
      "              precision    recall  f1-score   support\n",
      "\n",
      "    airplane       0.60      0.56      0.58      1000\n",
      "  automobile       0.59      0.79      0.67      1000\n",
      "        bird       0.40      0.49      0.44      1000\n",
      "         cat       0.52      0.19      0.28      1000\n",
      "        deer       0.52      0.45      0.48      1000\n",
      "         dog       0.59      0.33      0.43      1000\n",
      "        frog       0.53      0.73      0.61      1000\n",
      "       horse       0.71      0.60      0.65      1000\n",
      "        ship       0.45      0.87      0.59      1000\n",
      "       truck       0.75      0.40      0.52      1000\n",
      "\n",
      "    accuracy                           0.54     10000\n",
      "   macro avg       0.57      0.54      0.53     10000\n",
      "weighted avg       0.57      0.54      0.53     10000\n",
      "\n"
     ]
    }
   ],
   "source": [
    "# evaluate the network\n",
    "print(\"[INFO] evaluating network...\")\n",
    "predictions = model.predict(testX, batch_size=32)\n",
    "print(classification_report(testY.argmax(axis=1), predictions.argmax(axis=1), target_names=labelNames))"
   ]
  },
  {
   "cell_type": "markdown",
   "metadata": {},
   "source": [
    "Well Done"
   ]
  }
 ],
 "metadata": {
  "kernelspec": {
   "display_name": "Python 3",
   "language": "python",
   "name": "python3"
  },
  "language_info": {
   "codemirror_mode": {
    "name": "ipython",
    "version": 3
   },
   "file_extension": ".py",
   "mimetype": "text/x-python",
   "name": "python",
   "nbconvert_exporter": "python",
   "pygments_lexer": "ipython3",
   "version": "3.6.9"
  }
 },
 "nbformat": 4,
 "nbformat_minor": 4
}
