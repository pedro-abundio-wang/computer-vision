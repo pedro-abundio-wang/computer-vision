{
 "cells": [
  {
   "cell_type": "markdown",
   "metadata": {},
   "source": [
    "# DNN Keras MNIST"
   ]
  },
  {
   "cell_type": "code",
   "execution_count": 18,
   "metadata": {},
   "outputs": [],
   "source": [
    "import matplotlib.pyplot as plt\n",
    "\n",
    "# This is a bit of magic to make matplotlib figures appear  \n",
    "# inline in the notebook rather than in a new window.\n",
    "%matplotlib inline\n",
    "\n",
    "# set default size of plots\n",
    "plt.rcParams['figure.figsize'] = (10.0, 8.0)\n",
    "plt.rcParams['image.interpolation'] = 'nearest'\n",
    "plt.rcParams['image.cmap'] = 'gray'\n",
    "\n",
    "# Some more magic so that the notebook will reload external python modules;\n",
    "# see http://stackoverflow.com/questions/1907993/autoreload-of-modules-in-ipython\n",
    "%load_ext autoreload\n",
    "%autoreload 2"
   ]
  },
  {
   "cell_type": "code",
   "execution_count": 1,
   "metadata": {},
   "outputs": [
    {
     "name": "stderr",
     "output_type": "stream",
     "text": [
      "Using TensorFlow backend.\n",
      "/home/pedro/miniconda3/envs/computer-vision/lib/python3.6/site-packages/tensorflow/python/framework/dtypes.py:523: FutureWarning: Passing (type, 1) or '1type' as a synonym of type is deprecated; in a future version of numpy, it will be understood as (type, (1,)) / '(1,)type'.\n",
      "  _np_qint8 = np.dtype([(\"qint8\", np.int8, 1)])\n",
      "/home/pedro/miniconda3/envs/computer-vision/lib/python3.6/site-packages/tensorflow/python/framework/dtypes.py:524: FutureWarning: Passing (type, 1) or '1type' as a synonym of type is deprecated; in a future version of numpy, it will be understood as (type, (1,)) / '(1,)type'.\n",
      "  _np_quint8 = np.dtype([(\"quint8\", np.uint8, 1)])\n",
      "/home/pedro/miniconda3/envs/computer-vision/lib/python3.6/site-packages/tensorflow/python/framework/dtypes.py:525: FutureWarning: Passing (type, 1) or '1type' as a synonym of type is deprecated; in a future version of numpy, it will be understood as (type, (1,)) / '(1,)type'.\n",
      "  _np_qint16 = np.dtype([(\"qint16\", np.int16, 1)])\n",
      "/home/pedro/miniconda3/envs/computer-vision/lib/python3.6/site-packages/tensorflow/python/framework/dtypes.py:526: FutureWarning: Passing (type, 1) or '1type' as a synonym of type is deprecated; in a future version of numpy, it will be understood as (type, (1,)) / '(1,)type'.\n",
      "  _np_quint16 = np.dtype([(\"quint16\", np.uint16, 1)])\n",
      "/home/pedro/miniconda3/envs/computer-vision/lib/python3.6/site-packages/tensorflow/python/framework/dtypes.py:527: FutureWarning: Passing (type, 1) or '1type' as a synonym of type is deprecated; in a future version of numpy, it will be understood as (type, (1,)) / '(1,)type'.\n",
      "  _np_qint32 = np.dtype([(\"qint32\", np.int32, 1)])\n",
      "/home/pedro/miniconda3/envs/computer-vision/lib/python3.6/site-packages/tensorflow/python/framework/dtypes.py:532: FutureWarning: Passing (type, 1) or '1type' as a synonym of type is deprecated; in a future version of numpy, it will be understood as (type, (1,)) / '(1,)type'.\n",
      "  np_resource = np.dtype([(\"resource\", np.ubyte, 1)])\n"
     ]
    }
   ],
   "source": [
    "# import the necessary packages\n",
    "from keras.models import Sequential\n",
    "from keras.layers.core import Dense\n",
    "from keras.optimizers import SGD\n",
    "\n",
    "from sklearn.preprocessing import LabelBinarizer\n",
    "from sklearn.model_selection import train_test_split\n",
    "from sklearn.metrics import classification_report\n",
    "from sklearn import datasets\n",
    "\n",
    "import matplotlib.pyplot as plt\n",
    "import numpy as np"
   ]
  },
  {
   "cell_type": "code",
   "execution_count": 6,
   "metadata": {
    "scrolled": false
   },
   "outputs": [
    {
     "name": "stdout",
     "output_type": "stream",
     "text": [
      "[INFO] loading MNIST (full) dataset...\n"
     ]
    },
    {
     "name": "stderr",
     "output_type": "stream",
     "text": [
      "/home/pedro/miniconda3/envs/computer-vision/lib/python3.6/site-packages/sklearn/utils/deprecation.py:85: DeprecationWarning: Function fetch_mldata is deprecated; fetch_mldata was deprecated in version 0.20 and will be removed in version 0.22. Please use fetch_openml.\n",
      "  warnings.warn(msg, category=DeprecationWarning)\n",
      "/home/pedro/miniconda3/envs/computer-vision/lib/python3.6/site-packages/sklearn/utils/deprecation.py:85: DeprecationWarning: Function mldata_filename is deprecated; mldata_filename was deprecated in version 0.20 and will be removed in version 0.22. Please use fetch_openml.\n",
      "  warnings.warn(msg, category=DeprecationWarning)\n"
     ]
    }
   ],
   "source": [
    "# grab the MNIST dataset (if this is your first time running this\n",
    "# script, the download may take a minute -- the 55MB MNIST dataset\n",
    "# will be downloaded)\n",
    "print(\"[INFO] loading MNIST (full) dataset...\")\n",
    "dataset = datasets.fetch_mldata(\"MNIST Original\")\n",
    "# scale the raw pixel intensities to the range [0, 1.0], then\n",
    "# construct the training and testing splits\n",
    "data = dataset.data.astype(\"float\") / 255.0\n",
    "(trainX, testX, trainY, testY) = train_test_split(data, dataset.target, test_size=0.25)"
   ]
  },
  {
   "cell_type": "code",
   "execution_count": 11,
   "metadata": {},
   "outputs": [],
   "source": [
    "# convert the labels from integers to vectors\n",
    "labelBinarizer = LabelBinarizer()\n",
    "trainY = labelBinarizer.fit_transform(trainY)\n",
    "testY = labelBinarizer.fit_transform(testY)"
   ]
  },
  {
   "cell_type": "code",
   "execution_count": 14,
   "metadata": {},
   "outputs": [],
   "source": [
    "# define the 784-256-128-10 architecture using Keras\n",
    "model = Sequential()\n",
    "model.add(Dense(256, input_shape=(784,), activation=\"sigmoid\"))\n",
    "model.add(Dense(128, activation=\"sigmoid\"))\n",
    "model.add(Dense(10, activation=\"softmax\"))"
   ]
  },
  {
   "cell_type": "code",
   "execution_count": 15,
   "metadata": {
    "scrolled": false
   },
   "outputs": [
    {
     "name": "stdout",
     "output_type": "stream",
     "text": [
      "[INFO] training network...\n",
      "Train on 52500 samples, validate on 17500 samples\n",
      "Epoch 1/100\n",
      "52500/52500 [==============================] - 11s 214us/step - loss: 2.2832 - acc: 0.1597 - val_loss: 2.2524 - val_acc: 0.2682\n",
      "Epoch 2/100\n",
      "52500/52500 [==============================] - 2s 43us/step - loss: 2.2244 - acc: 0.3320 - val_loss: 2.1926 - val_acc: 0.3984\n",
      "Epoch 3/100\n",
      "52500/52500 [==============================] - 2s 44us/step - loss: 2.1559 - acc: 0.4703 - val_loss: 2.1124 - val_acc: 0.4791\n",
      "Epoch 4/100\n",
      "52500/52500 [==============================] - 2s 48us/step - loss: 2.0621 - acc: 0.5530 - val_loss: 2.0009 - val_acc: 0.5799\n",
      "Epoch 5/100\n",
      "52500/52500 [==============================] - 2s 45us/step - loss: 1.9314 - acc: 0.6022 - val_loss: 1.8497 - val_acc: 0.6170\n",
      "Epoch 6/100\n",
      "52500/52500 [==============================] - 2s 46us/step - loss: 1.7634 - acc: 0.6431 - val_loss: 1.6656 - val_acc: 0.6282\n",
      "Epoch 7/100\n",
      "52500/52500 [==============================] - 2s 47us/step - loss: 1.5749 - acc: 0.6766 - val_loss: 1.4755 - val_acc: 0.7093\n",
      "Epoch 8/100\n",
      "52500/52500 [==============================] - 2s 44us/step - loss: 1.3922 - acc: 0.7101 - val_loss: 1.3006 - val_acc: 0.7369\n",
      "Epoch 9/100\n",
      "52500/52500 [==============================] - 2s 47us/step - loss: 1.2312 - acc: 0.7377 - val_loss: 1.1519 - val_acc: 0.7556\n",
      "Epoch 10/100\n",
      "52500/52500 [==============================] - 2s 47us/step - loss: 1.0966 - acc: 0.7607 - val_loss: 1.0300 - val_acc: 0.7746\n",
      "Epoch 11/100\n",
      "52500/52500 [==============================] - 2s 46us/step - loss: 0.9866 - acc: 0.7786 - val_loss: 0.9317 - val_acc: 0.7868\n",
      "Epoch 12/100\n",
      "52500/52500 [==============================] - 2s 47us/step - loss: 0.8981 - acc: 0.7921 - val_loss: 0.8521 - val_acc: 0.8025\n",
      "Epoch 13/100\n",
      "52500/52500 [==============================] - 2s 47us/step - loss: 0.8263 - acc: 0.8052 - val_loss: 0.7885 - val_acc: 0.8130\n",
      "Epoch 14/100\n",
      "52500/52500 [==============================] - 2s 45us/step - loss: 0.7676 - acc: 0.8154 - val_loss: 0.7347 - val_acc: 0.8225\n",
      "Epoch 15/100\n",
      "52500/52500 [==============================] - 2s 44us/step - loss: 0.7188 - acc: 0.8238 - val_loss: 0.6902 - val_acc: 0.8322\n",
      "Epoch 16/100\n",
      "52500/52500 [==============================] - 2s 44us/step - loss: 0.6779 - acc: 0.8322 - val_loss: 0.6528 - val_acc: 0.8366\n",
      "Epoch 17/100\n",
      "52500/52500 [==============================] - 2s 46us/step - loss: 0.6431 - acc: 0.8381 - val_loss: 0.6208 - val_acc: 0.8430\n",
      "Epoch 18/100\n",
      "52500/52500 [==============================] - 2s 44us/step - loss: 0.6130 - acc: 0.8446 - val_loss: 0.5937 - val_acc: 0.8477\n",
      "Epoch 19/100\n",
      "52500/52500 [==============================] - 2s 46us/step - loss: 0.5869 - acc: 0.8503 - val_loss: 0.5692 - val_acc: 0.8526\n",
      "Epoch 20/100\n",
      "52500/52500 [==============================] - 2s 41us/step - loss: 0.5641 - acc: 0.8548 - val_loss: 0.5478 - val_acc: 0.8573\n",
      "Epoch 21/100\n",
      "52500/52500 [==============================] - 2s 40us/step - loss: 0.5440 - acc: 0.8586 - val_loss: 0.5292 - val_acc: 0.8614\n",
      "Epoch 22/100\n",
      "52500/52500 [==============================] - 2s 37us/step - loss: 0.5260 - acc: 0.8628 - val_loss: 0.5124 - val_acc: 0.8645\n",
      "Epoch 23/100\n",
      "52500/52500 [==============================] - 2s 45us/step - loss: 0.5101 - acc: 0.8670 - val_loss: 0.4976 - val_acc: 0.8678\n",
      "Epoch 24/100\n",
      "52500/52500 [==============================] - 2s 35us/step - loss: 0.4957 - acc: 0.8698 - val_loss: 0.4835 - val_acc: 0.8700\n",
      "Epoch 25/100\n",
      "52500/52500 [==============================] - 2s 37us/step - loss: 0.4827 - acc: 0.8721 - val_loss: 0.4722 - val_acc: 0.8731\n",
      "Epoch 26/100\n",
      "52500/52500 [==============================] - 2s 47us/step - loss: 0.4710 - acc: 0.8743 - val_loss: 0.4607 - val_acc: 0.8760\n",
      "Epoch 27/100\n",
      "52500/52500 [==============================] - 2s 46us/step - loss: 0.4603 - acc: 0.8770 - val_loss: 0.4501 - val_acc: 0.8791\n",
      "Epoch 28/100\n",
      "52500/52500 [==============================] - 2s 42us/step - loss: 0.4506 - acc: 0.8792 - val_loss: 0.4412 - val_acc: 0.8801\n",
      "Epoch 29/100\n",
      "52500/52500 [==============================] - 2s 44us/step - loss: 0.4416 - acc: 0.8808 - val_loss: 0.4334 - val_acc: 0.8815\n",
      "Epoch 30/100\n",
      "52500/52500 [==============================] - 2s 46us/step - loss: 0.4334 - acc: 0.8827 - val_loss: 0.4241 - val_acc: 0.8857\n",
      "Epoch 31/100\n",
      "52500/52500 [==============================] - 2s 46us/step - loss: 0.4260 - acc: 0.8842 - val_loss: 0.4171 - val_acc: 0.8870\n",
      "Epoch 32/100\n",
      "52500/52500 [==============================] - 2s 44us/step - loss: 0.4189 - acc: 0.8860 - val_loss: 0.4109 - val_acc: 0.8887\n",
      "Epoch 33/100\n",
      "52500/52500 [==============================] - 2s 47us/step - loss: 0.4125 - acc: 0.8874 - val_loss: 0.4052 - val_acc: 0.8892\n",
      "Epoch 34/100\n",
      "52500/52500 [==============================] - 2s 47us/step - loss: 0.4065 - acc: 0.8884 - val_loss: 0.3985 - val_acc: 0.8911\n",
      "Epoch 35/100\n",
      "52500/52500 [==============================] - 2s 45us/step - loss: 0.4008 - acc: 0.8898 - val_loss: 0.3934 - val_acc: 0.8931\n",
      "Epoch 36/100\n",
      "52500/52500 [==============================] - 2s 46us/step - loss: 0.3957 - acc: 0.8910 - val_loss: 0.3885 - val_acc: 0.8932\n",
      "Epoch 37/100\n",
      "52500/52500 [==============================] - 2s 47us/step - loss: 0.3907 - acc: 0.8918 - val_loss: 0.3846 - val_acc: 0.8934\n",
      "Epoch 38/100\n",
      "52500/52500 [==============================] - 2s 47us/step - loss: 0.3862 - acc: 0.8928 - val_loss: 0.3792 - val_acc: 0.8961\n",
      "Epoch 39/100\n",
      "52500/52500 [==============================] - 2s 47us/step - loss: 0.3819 - acc: 0.8941 - val_loss: 0.3752 - val_acc: 0.8962\n",
      "Epoch 40/100\n",
      "52500/52500 [==============================] - 2s 47us/step - loss: 0.3778 - acc: 0.8948 - val_loss: 0.3716 - val_acc: 0.8969\n",
      "Epoch 41/100\n",
      "52500/52500 [==============================] - 2s 44us/step - loss: 0.3740 - acc: 0.8954 - val_loss: 0.3675 - val_acc: 0.8989\n",
      "Epoch 42/100\n",
      "52500/52500 [==============================] - 2s 44us/step - loss: 0.3704 - acc: 0.8963 - val_loss: 0.3643 - val_acc: 0.8995\n",
      "Epoch 43/100\n",
      "52500/52500 [==============================] - 2s 47us/step - loss: 0.3670 - acc: 0.8969 - val_loss: 0.3616 - val_acc: 0.8978\n",
      "Epoch 44/100\n",
      "52500/52500 [==============================] - 2s 44us/step - loss: 0.3636 - acc: 0.8982 - val_loss: 0.3577 - val_acc: 0.9007\n",
      "Epoch 45/100\n",
      "52500/52500 [==============================] - 2s 47us/step - loss: 0.3605 - acc: 0.8985 - val_loss: 0.3554 - val_acc: 0.9009\n",
      "Epoch 46/100\n",
      "52500/52500 [==============================] - 2s 46us/step - loss: 0.3576 - acc: 0.8991 - val_loss: 0.3527 - val_acc: 0.9010\n",
      "Epoch 47/100\n",
      "52500/52500 [==============================] - 2s 45us/step - loss: 0.3547 - acc: 0.9000 - val_loss: 0.3493 - val_acc: 0.9025\n",
      "Epoch 48/100\n",
      "52500/52500 [==============================] - 2s 38us/step - loss: 0.3520 - acc: 0.9007 - val_loss: 0.3477 - val_acc: 0.9017\n",
      "Epoch 49/100\n",
      "52500/52500 [==============================] - 2s 43us/step - loss: 0.3494 - acc: 0.9008 - val_loss: 0.3443 - val_acc: 0.9038\n",
      "Epoch 50/100\n",
      "52500/52500 [==============================] - 2s 46us/step - loss: 0.3469 - acc: 0.9017 - val_loss: 0.3420 - val_acc: 0.9042\n",
      "Epoch 51/100\n",
      "52500/52500 [==============================] - 2s 46us/step - loss: 0.3444 - acc: 0.9020 - val_loss: 0.3397 - val_acc: 0.9047\n",
      "Epoch 52/100\n",
      "52500/52500 [==============================] - 2s 47us/step - loss: 0.3421 - acc: 0.9026 - val_loss: 0.3379 - val_acc: 0.9046\n",
      "Epoch 53/100\n",
      "52500/52500 [==============================] - 2s 47us/step - loss: 0.3398 - acc: 0.9029 - val_loss: 0.3356 - val_acc: 0.9054\n",
      "Epoch 54/100\n",
      "52500/52500 [==============================] - 2s 45us/step - loss: 0.3376 - acc: 0.9041 - val_loss: 0.3339 - val_acc: 0.9053\n",
      "Epoch 55/100\n",
      "52500/52500 [==============================] - 2s 44us/step - loss: 0.3355 - acc: 0.9042 - val_loss: 0.3312 - val_acc: 0.9060\n",
      "Epoch 56/100\n",
      "52500/52500 [==============================] - 2s 37us/step - loss: 0.3334 - acc: 0.9046 - val_loss: 0.3297 - val_acc: 0.9063\n",
      "Epoch 57/100\n",
      "52500/52500 [==============================] - 2s 44us/step - loss: 0.3315 - acc: 0.9055 - val_loss: 0.3278 - val_acc: 0.9074\n",
      "Epoch 58/100\n",
      "52500/52500 [==============================] - 2s 46us/step - loss: 0.3295 - acc: 0.9055 - val_loss: 0.3260 - val_acc: 0.9077\n",
      "Epoch 59/100\n"
     ]
    },
    {
     "name": "stdout",
     "output_type": "stream",
     "text": [
      "52500/52500 [==============================] - 2s 47us/step - loss: 0.3276 - acc: 0.9062 - val_loss: 0.3244 - val_acc: 0.9077\n",
      "Epoch 60/100\n",
      "52500/52500 [==============================] - 2s 45us/step - loss: 0.3257 - acc: 0.9067 - val_loss: 0.3230 - val_acc: 0.9073\n",
      "Epoch 61/100\n",
      "52500/52500 [==============================] - 2s 47us/step - loss: 0.3240 - acc: 0.9075 - val_loss: 0.3209 - val_acc: 0.9085\n",
      "Epoch 62/100\n",
      "52500/52500 [==============================] - 2s 46us/step - loss: 0.3222 - acc: 0.9073 - val_loss: 0.3190 - val_acc: 0.9094\n",
      "Epoch 63/100\n",
      "52500/52500 [==============================] - 2s 43us/step - loss: 0.3206 - acc: 0.9078 - val_loss: 0.3175 - val_acc: 0.9101\n",
      "Epoch 64/100\n",
      "52500/52500 [==============================] - 2s 43us/step - loss: 0.3189 - acc: 0.9082 - val_loss: 0.3162 - val_acc: 0.9106\n",
      "Epoch 65/100\n",
      "52500/52500 [==============================] - 2s 42us/step - loss: 0.3172 - acc: 0.9089 - val_loss: 0.3148 - val_acc: 0.9103\n",
      "Epoch 66/100\n",
      "52500/52500 [==============================] - 2s 47us/step - loss: 0.3157 - acc: 0.9088 - val_loss: 0.3133 - val_acc: 0.9106\n",
      "Epoch 67/100\n",
      "52500/52500 [==============================] - 2s 45us/step - loss: 0.3141 - acc: 0.9097 - val_loss: 0.3117 - val_acc: 0.9114\n",
      "Epoch 68/100\n",
      "52500/52500 [==============================] - 2s 43us/step - loss: 0.3126 - acc: 0.9097 - val_loss: 0.3107 - val_acc: 0.9114\n",
      "Epoch 69/100\n",
      "52500/52500 [==============================] - 2s 46us/step - loss: 0.3112 - acc: 0.9106 - val_loss: 0.3095 - val_acc: 0.9114\n",
      "Epoch 70/100\n",
      "52500/52500 [==============================] - 2s 44us/step - loss: 0.3097 - acc: 0.9112 - val_loss: 0.3076 - val_acc: 0.9123\n",
      "Epoch 71/100\n",
      "52500/52500 [==============================] - 2s 46us/step - loss: 0.3082 - acc: 0.9114 - val_loss: 0.3067 - val_acc: 0.9129\n",
      "Epoch 72/100\n",
      "52500/52500 [==============================] - 2s 47us/step - loss: 0.3069 - acc: 0.9117 - val_loss: 0.3056 - val_acc: 0.9127\n",
      "Epoch 73/100\n",
      "52500/52500 [==============================] - 2s 45us/step - loss: 0.3055 - acc: 0.9118 - val_loss: 0.3040 - val_acc: 0.9134\n",
      "Epoch 74/100\n",
      "52500/52500 [==============================] - 2s 47us/step - loss: 0.3041 - acc: 0.9116 - val_loss: 0.3035 - val_acc: 0.9127\n",
      "Epoch 75/100\n",
      "52500/52500 [==============================] - 2s 47us/step - loss: 0.3029 - acc: 0.9123 - val_loss: 0.3018 - val_acc: 0.9143\n",
      "Epoch 76/100\n",
      "52500/52500 [==============================] - 2s 47us/step - loss: 0.3015 - acc: 0.9130 - val_loss: 0.3008 - val_acc: 0.9134\n",
      "Epoch 77/100\n",
      "52500/52500 [==============================] - 2s 47us/step - loss: 0.3002 - acc: 0.9131 - val_loss: 0.2995 - val_acc: 0.9151\n",
      "Epoch 78/100\n",
      "52500/52500 [==============================] - 2s 46us/step - loss: 0.2989 - acc: 0.9137 - val_loss: 0.2982 - val_acc: 0.9142\n",
      "Epoch 79/100\n",
      "52500/52500 [==============================] - 2s 47us/step - loss: 0.2977 - acc: 0.9143 - val_loss: 0.2974 - val_acc: 0.9155\n",
      "Epoch 80/100\n",
      "52500/52500 [==============================] - 2s 44us/step - loss: 0.2965 - acc: 0.9142 - val_loss: 0.2964 - val_acc: 0.9145\n",
      "Epoch 81/100\n",
      "52500/52500 [==============================] - 2s 44us/step - loss: 0.2952 - acc: 0.9150 - val_loss: 0.2947 - val_acc: 0.9157\n",
      "Epoch 82/100\n",
      "52500/52500 [==============================] - 2s 46us/step - loss: 0.2942 - acc: 0.9153 - val_loss: 0.2941 - val_acc: 0.9158\n",
      "Epoch 83/100\n",
      "52500/52500 [==============================] - 2s 45us/step - loss: 0.2929 - acc: 0.9155 - val_loss: 0.2930 - val_acc: 0.9157\n",
      "Epoch 84/100\n",
      "52500/52500 [==============================] - 2s 46us/step - loss: 0.2917 - acc: 0.9160 - val_loss: 0.2925 - val_acc: 0.9166\n",
      "Epoch 85/100\n",
      "52500/52500 [==============================] - 2s 47us/step - loss: 0.2906 - acc: 0.9160 - val_loss: 0.2908 - val_acc: 0.9164\n",
      "Epoch 86/100\n",
      "52500/52500 [==============================] - 2s 44us/step - loss: 0.2895 - acc: 0.9163 - val_loss: 0.2906 - val_acc: 0.9165\n",
      "Epoch 87/100\n",
      "52500/52500 [==============================] - 2s 47us/step - loss: 0.2884 - acc: 0.9169 - val_loss: 0.2887 - val_acc: 0.9169\n",
      "Epoch 88/100\n",
      "52500/52500 [==============================] - 2s 46us/step - loss: 0.2872 - acc: 0.9170 - val_loss: 0.2878 - val_acc: 0.9174\n",
      "Epoch 89/100\n",
      "52500/52500 [==============================] - 2s 46us/step - loss: 0.2862 - acc: 0.9176 - val_loss: 0.2872 - val_acc: 0.9175\n",
      "Epoch 90/100\n",
      "52500/52500 [==============================] - 2s 47us/step - loss: 0.2852 - acc: 0.9176 - val_loss: 0.2862 - val_acc: 0.9182\n",
      "Epoch 91/100\n",
      "52500/52500 [==============================] - 2s 46us/step - loss: 0.2841 - acc: 0.9183 - val_loss: 0.2852 - val_acc: 0.9173\n",
      "Epoch 92/100\n",
      "52500/52500 [==============================] - 2s 43us/step - loss: 0.2831 - acc: 0.9186 - val_loss: 0.2841 - val_acc: 0.9178\n",
      "Epoch 93/100\n",
      "52500/52500 [==============================] - 2s 43us/step - loss: 0.2820 - acc: 0.9187 - val_loss: 0.2831 - val_acc: 0.9183\n",
      "Epoch 94/100\n",
      "52500/52500 [==============================] - 2s 46us/step - loss: 0.2810 - acc: 0.9192 - val_loss: 0.2824 - val_acc: 0.9182\n",
      "Epoch 95/100\n",
      "52500/52500 [==============================] - 2s 46us/step - loss: 0.2800 - acc: 0.9194 - val_loss: 0.2817 - val_acc: 0.9192\n",
      "Epoch 96/100\n",
      "52500/52500 [==============================] - 2s 44us/step - loss: 0.2790 - acc: 0.9194 - val_loss: 0.2808 - val_acc: 0.9185\n",
      "Epoch 97/100\n",
      "52500/52500 [==============================] - 2s 47us/step - loss: 0.2780 - acc: 0.9200 - val_loss: 0.2798 - val_acc: 0.9189\n",
      "Epoch 98/100\n",
      "52500/52500 [==============================] - 2s 44us/step - loss: 0.2771 - acc: 0.9201 - val_loss: 0.2790 - val_acc: 0.9196\n",
      "Epoch 99/100\n",
      "52500/52500 [==============================] - 2s 46us/step - loss: 0.2760 - acc: 0.9203 - val_loss: 0.2780 - val_acc: 0.9196\n",
      "Epoch 100/100\n",
      "52500/52500 [==============================] - 2s 46us/step - loss: 0.2750 - acc: 0.9205 - val_loss: 0.2776 - val_acc: 0.9195\n"
     ]
    }
   ],
   "source": [
    "# train the model using SGD\n",
    "print(\"[INFO] training network...\")\n",
    "sgd = SGD(0.01)\n",
    "model.compile(loss=\"categorical_crossentropy\", optimizer=sgd, metrics=[\"accuracy\"])\n",
    "H = model.fit(trainX, trainY, validation_data=(testX, testY), epochs=100, batch_size=128)"
   ]
  },
  {
   "cell_type": "code",
   "execution_count": 16,
   "metadata": {},
   "outputs": [
    {
     "name": "stdout",
     "output_type": "stream",
     "text": [
      "[INFO] evaluating network...\n",
      "              precision    recall  f1-score   support\n",
      "\n",
      "           0       0.96      0.97      0.96      1750\n",
      "           1       0.94      0.98      0.96      1956\n",
      "           2       0.92      0.90      0.91      1784\n",
      "           3       0.91      0.88      0.90      1822\n",
      "           4       0.92      0.93      0.93      1746\n",
      "           5       0.89      0.85      0.87      1564\n",
      "           6       0.94      0.96      0.95      1744\n",
      "           7       0.93      0.94      0.94      1778\n",
      "           8       0.88      0.87      0.88      1655\n",
      "           9       0.89      0.89      0.89      1701\n",
      "\n",
      "    accuracy                           0.92     17500\n",
      "   macro avg       0.92      0.92      0.92     17500\n",
      "weighted avg       0.92      0.92      0.92     17500\n",
      "\n"
     ]
    }
   ],
   "source": [
    "# evaluate the network\n",
    "print(\"[INFO] evaluating network...\")\n",
    "classes = ['0', '1', '2', '3', '4', '5', '6', '7', '8', '9']\n",
    "predictions = model.predict(testX, batch_size=128)\n",
    "print(classification_report(testY.argmax(axis=1), predictions.argmax(axis=1), target_names=classes))"
   ]
  },
  {
   "cell_type": "code",
   "execution_count": 19,
   "metadata": {},
   "outputs": [
    {
     "data": {
      "image/png": "[encoded data removed]",
      "text/plain": [
       "<Figure size 720x576 with 1 Axes>"
      ]
     },
     "metadata": {},
     "output_type": "display_data"
    }
   ],
   "source": [
    "# plot the training loss and accuracy\n",
    "plt.style.use(\"ggplot\")\n",
    "plt.figure()\n",
    "plt.plot(np.arange(0, 100), H.history[\"loss\"], label=\"train_loss\")\n",
    "plt.plot(np.arange(0, 100), H.history[\"val_loss\"], label=\"val_loss\")\n",
    "plt.plot(np.arange(0, 100), H.history[\"acc\"], label=\"train_acc\")\n",
    "plt.plot(np.arange(0, 100), H.history[\"val_acc\"], label=\"val_acc\")\n",
    "plt.title(\"Training Loss and Accuracy\")\n",
    "plt.xlabel(\"Epoch #\")\n",
    "plt.ylabel(\"Loss/Accuracy\")\n",
    "plt.legend()\n",
    "plt.show()"
   ]
  },
  {
   "cell_type": "markdown",
   "metadata": {},
   "source": [
    "Well Done"
   ]
  }
 ],
 "metadata": {
  "kernelspec": {
   "display_name": "Python 3",
   "language": "python",
   "name": "python3"
  },
  "language_info": {
   "codemirror_mode": {
    "name": "ipython",
    "version": 3
   },
   "file_extension": ".py",
   "mimetype": "text/x-python",
   "name": "python",
   "nbconvert_exporter": "python",
   "pygments_lexer": "ipython3",
   "version": "3.6.9"
  }
 },
 "nbformat": 4,
 "nbformat_minor": 4
}
