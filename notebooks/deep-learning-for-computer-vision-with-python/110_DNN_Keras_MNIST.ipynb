{
 "cells": [
  {
   "cell_type": "markdown",
   "metadata": {},
   "source": [
    "# DNN Keras MNIST"
   ]
  },
  {
   "cell_type": "code",
   "execution_count": 1,
   "metadata": {},
   "outputs": [],
   "source": [
    "import matplotlib.pyplot as plt\n",
    "\n",
    "# This is a bit of magic to make matplotlib figures appear  \n",
    "# inline in the notebook rather than in a new window.\n",
    "%matplotlib inline\n",
    "\n",
    "# set default size of plots\n",
    "plt.rcParams['figure.figsize'] = (10.0, 8.0)\n",
    "plt.rcParams['image.interpolation'] = 'nearest'\n",
    "plt.rcParams['image.cmap'] = 'gray'\n",
    "\n",
    "# Some more magic so that the notebook will reload external python modules;\n",
    "# see http://stackoverflow.com/questions/1907993/autoreload-of-modules-in-ipython\n",
    "%load_ext autoreload\n",
    "%autoreload 2"
   ]
  },
  {
   "cell_type": "code",
   "execution_count": 2,
   "metadata": {},
   "outputs": [
    {
     "name": "stderr",
     "output_type": "stream",
     "text": [
      "Using TensorFlow backend.\n",
      "/home/pedro/miniconda3/envs/computer-vision/lib/python3.6/site-packages/tensorflow/python/framework/dtypes.py:523: FutureWarning: Passing (type, 1) or '1type' as a synonym of type is deprecated; in a future version of numpy, it will be understood as (type, (1,)) / '(1,)type'.\n",
      "  _np_qint8 = np.dtype([(\"qint8\", np.int8, 1)])\n",
      "/home/pedro/miniconda3/envs/computer-vision/lib/python3.6/site-packages/tensorflow/python/framework/dtypes.py:524: FutureWarning: Passing (type, 1) or '1type' as a synonym of type is deprecated; in a future version of numpy, it will be understood as (type, (1,)) / '(1,)type'.\n",
      "  _np_quint8 = np.dtype([(\"quint8\", np.uint8, 1)])\n",
      "/home/pedro/miniconda3/envs/computer-vision/lib/python3.6/site-packages/tensorflow/python/framework/dtypes.py:525: FutureWarning: Passing (type, 1) or '1type' as a synonym of type is deprecated; in a future version of numpy, it will be understood as (type, (1,)) / '(1,)type'.\n",
      "  _np_qint16 = np.dtype([(\"qint16\", np.int16, 1)])\n",
      "/home/pedro/miniconda3/envs/computer-vision/lib/python3.6/site-packages/tensorflow/python/framework/dtypes.py:526: FutureWarning: Passing (type, 1) or '1type' as a synonym of type is deprecated; in a future version of numpy, it will be understood as (type, (1,)) / '(1,)type'.\n",
      "  _np_quint16 = np.dtype([(\"quint16\", np.uint16, 1)])\n",
      "/home/pedro/miniconda3/envs/computer-vision/lib/python3.6/site-packages/tensorflow/python/framework/dtypes.py:527: FutureWarning: Passing (type, 1) or '1type' as a synonym of type is deprecated; in a future version of numpy, it will be understood as (type, (1,)) / '(1,)type'.\n",
      "  _np_qint32 = np.dtype([(\"qint32\", np.int32, 1)])\n",
      "/home/pedro/miniconda3/envs/computer-vision/lib/python3.6/site-packages/tensorflow/python/framework/dtypes.py:532: FutureWarning: Passing (type, 1) or '1type' as a synonym of type is deprecated; in a future version of numpy, it will be understood as (type, (1,)) / '(1,)type'.\n",
      "  np_resource = np.dtype([(\"resource\", np.ubyte, 1)])\n"
     ]
    }
   ],
   "source": [
    "# import the necessary packages\n",
    "from keras.models import Sequential\n",
    "from keras.layers.core import Dense\n",
    "from keras.optimizers import SGD\n",
    "\n",
    "from sklearn.preprocessing import LabelBinarizer\n",
    "from sklearn.model_selection import train_test_split\n",
    "from sklearn.metrics import classification_report\n",
    "from sklearn import datasets\n",
    "\n",
    "import matplotlib.pyplot as plt\n",
    "import numpy as np"
   ]
  },
  {
   "cell_type": "code",
   "execution_count": 3,
   "metadata": {
    "scrolled": false
   },
   "outputs": [
    {
     "name": "stdout",
     "output_type": "stream",
     "text": [
      "[INFO] loading MNIST (full) dataset...\n"
     ]
    },
    {
     "name": "stderr",
     "output_type": "stream",
     "text": [
      "/home/pedro/miniconda3/envs/computer-vision/lib/python3.6/site-packages/sklearn/utils/deprecation.py:85: DeprecationWarning: Function fetch_mldata is deprecated; fetch_mldata was deprecated in version 0.20 and will be removed in version 0.22. Please use fetch_openml.\n",
      "  warnings.warn(msg, category=DeprecationWarning)\n",
      "/home/pedro/miniconda3/envs/computer-vision/lib/python3.6/site-packages/sklearn/utils/deprecation.py:85: DeprecationWarning: Function mldata_filename is deprecated; mldata_filename was deprecated in version 0.20 and will be removed in version 0.22. Please use fetch_openml.\n",
      "  warnings.warn(msg, category=DeprecationWarning)\n"
     ]
    }
   ],
   "source": [
    "# grab the MNIST dataset (if this is your first time running this\n",
    "# script, the download may take a minute -- the 55MB MNIST dataset\n",
    "# will be downloaded)\n",
    "print(\"[INFO] loading MNIST (full) dataset...\")\n",
    "dataset = datasets.fetch_mldata(\"MNIST Original\")\n",
    "# scale the raw pixel intensities to the range [0, 1.0], then\n",
    "# construct the training and testing splits\n",
    "data = dataset.data.astype(\"float\") / 255.0\n",
    "(trainX, testX, trainY, testY) = train_test_split(data, dataset.target, test_size=0.25)"
   ]
  },
  {
   "cell_type": "code",
   "execution_count": 4,
   "metadata": {},
   "outputs": [],
   "source": [
    "# convert the labels from integers to vectors\n",
    "labelBinarizer = LabelBinarizer()\n",
    "trainY = labelBinarizer.fit_transform(trainY)\n",
    "testY = labelBinarizer.fit_transform(testY)"
   ]
  },
  {
   "cell_type": "code",
   "execution_count": 5,
   "metadata": {},
   "outputs": [],
   "source": [
    "# define the 784-256-128-10 architecture using Keras\n",
    "model = Sequential()\n",
    "model.add(Dense(256, input_shape=(784,), activation=\"sigmoid\"))\n",
    "model.add(Dense(128, activation=\"sigmoid\"))\n",
    "model.add(Dense(10, activation=\"softmax\"))"
   ]
  },
  {
   "cell_type": "code",
   "execution_count": 6,
   "metadata": {
    "scrolled": false
   },
   "outputs": [
    {
     "name": "stdout",
     "output_type": "stream",
     "text": [
      "[INFO] training network...\n",
      "Train on 52500 samples, validate on 17500 samples\n",
      "Epoch 1/100\n",
      "52500/52500 [==============================] - 3s 60us/step - loss: 2.2881 - acc: 0.1716 - val_loss: 2.2464 - val_acc: 0.3300\n",
      "Epoch 2/100\n",
      "52500/52500 [==============================] - 2s 46us/step - loss: 2.2154 - acc: 0.3908 - val_loss: 2.1822 - val_acc: 0.4693\n",
      "Epoch 3/100\n",
      "52500/52500 [==============================] - 2s 46us/step - loss: 2.1395 - acc: 0.5352 - val_loss: 2.0920 - val_acc: 0.5390\n",
      "Epoch 4/100\n",
      "52500/52500 [==============================] - 2s 46us/step - loss: 2.0350 - acc: 0.6119 - val_loss: 1.9692 - val_acc: 0.6262\n",
      "Epoch 5/100\n",
      "52500/52500 [==============================] - 2s 44us/step - loss: 1.8898 - acc: 0.6521 - val_loss: 1.8024 - val_acc: 0.6687\n",
      "Epoch 6/100\n",
      "52500/52500 [==============================] - 2s 42us/step - loss: 1.7055 - acc: 0.6767 - val_loss: 1.6040 - val_acc: 0.6813\n",
      "Epoch 7/100\n",
      "52500/52500 [==============================] - 2s 40us/step - loss: 1.5055 - acc: 0.6981 - val_loss: 1.4093 - val_acc: 0.7023\n",
      "Epoch 8/100\n",
      "52500/52500 [==============================] - 2s 44us/step - loss: 1.3220 - acc: 0.7219 - val_loss: 1.2422 - val_acc: 0.7389\n",
      "Epoch 9/100\n",
      "52500/52500 [==============================] - 2s 46us/step - loss: 1.1698 - acc: 0.7440 - val_loss: 1.1075 - val_acc: 0.7437\n",
      "Epoch 10/100\n",
      "52500/52500 [==============================] - 2s 46us/step - loss: 1.0486 - acc: 0.7609 - val_loss: 1.0007 - val_acc: 0.7636\n",
      "Epoch 11/100\n",
      "52500/52500 [==============================] - 2s 46us/step - loss: 0.9521 - acc: 0.7760 - val_loss: 0.9158 - val_acc: 0.7827\n",
      "Epoch 12/100\n",
      "52500/52500 [==============================] - 2s 44us/step - loss: 0.8742 - acc: 0.7908 - val_loss: 0.8464 - val_acc: 0.7856\n",
      "Epoch 13/100\n",
      "52500/52500 [==============================] - 2s 46us/step - loss: 0.8102 - acc: 0.8015 - val_loss: 0.7881 - val_acc: 0.8034\n",
      "Epoch 14/100\n",
      "52500/52500 [==============================] - 2s 46us/step - loss: 0.7566 - acc: 0.8120 - val_loss: 0.7396 - val_acc: 0.8101\n",
      "Epoch 15/100\n",
      "52500/52500 [==============================] - 2s 45us/step - loss: 0.7117 - acc: 0.8207 - val_loss: 0.6986 - val_acc: 0.8165\n",
      "Epoch 16/100\n",
      "52500/52500 [==============================] - 2s 46us/step - loss: 0.6733 - acc: 0.8283 - val_loss: 0.6631 - val_acc: 0.8269\n",
      "Epoch 17/100\n",
      "52500/52500 [==============================] - 2s 45us/step - loss: 0.6403 - acc: 0.8346 - val_loss: 0.6331 - val_acc: 0.8334\n",
      "Epoch 18/100\n",
      "52500/52500 [==============================] - 2s 44us/step - loss: 0.6117 - acc: 0.8408 - val_loss: 0.6070 - val_acc: 0.8398\n",
      "Epoch 19/100\n",
      "52500/52500 [==============================] - 2s 42us/step - loss: 0.5868 - acc: 0.8467 - val_loss: 0.5831 - val_acc: 0.8440\n",
      "Epoch 20/100\n",
      "52500/52500 [==============================] - 2s 46us/step - loss: 0.5646 - acc: 0.8516 - val_loss: 0.5626 - val_acc: 0.8505\n",
      "Epoch 21/100\n",
      "52500/52500 [==============================] - 2s 45us/step - loss: 0.5449 - acc: 0.8556 - val_loss: 0.5440 - val_acc: 0.8548\n",
      "Epoch 22/100\n",
      "52500/52500 [==============================] - 2s 46us/step - loss: 0.5275 - acc: 0.8600 - val_loss: 0.5279 - val_acc: 0.8579\n",
      "Epoch 23/100\n",
      "52500/52500 [==============================] - 2s 45us/step - loss: 0.5116 - acc: 0.8634 - val_loss: 0.5128 - val_acc: 0.8622\n",
      "Epoch 24/100\n",
      "52500/52500 [==============================] - 2s 46us/step - loss: 0.4972 - acc: 0.8672 - val_loss: 0.4996 - val_acc: 0.8661\n",
      "Epoch 25/100\n",
      "52500/52500 [==============================] - 2s 43us/step - loss: 0.4841 - acc: 0.8703 - val_loss: 0.4870 - val_acc: 0.8692\n",
      "Epoch 26/100\n",
      "52500/52500 [==============================] - 2s 46us/step - loss: 0.4721 - acc: 0.8736 - val_loss: 0.4756 - val_acc: 0.8706\n",
      "Epoch 27/100\n",
      "52500/52500 [==============================] - 2s 46us/step - loss: 0.4611 - acc: 0.8761 - val_loss: 0.4659 - val_acc: 0.8728\n",
      "Epoch 28/100\n",
      "52500/52500 [==============================] - 2s 46us/step - loss: 0.4510 - acc: 0.8786 - val_loss: 0.4556 - val_acc: 0.8759\n",
      "Epoch 29/100\n",
      "52500/52500 [==============================] - 2s 46us/step - loss: 0.4416 - acc: 0.8807 - val_loss: 0.4476 - val_acc: 0.8774\n",
      "Epoch 30/100\n",
      "52500/52500 [==============================] - 2s 43us/step - loss: 0.4330 - acc: 0.8828 - val_loss: 0.4395 - val_acc: 0.8810\n",
      "Epoch 31/100\n",
      "52500/52500 [==============================] - 2s 46us/step - loss: 0.4251 - acc: 0.8848 - val_loss: 0.4323 - val_acc: 0.8823\n",
      "Epoch 32/100\n",
      "52500/52500 [==============================] - 2s 42us/step - loss: 0.4176 - acc: 0.8861 - val_loss: 0.4243 - val_acc: 0.8845\n",
      "Epoch 33/100\n",
      "52500/52500 [==============================] - 2s 46us/step - loss: 0.4109 - acc: 0.8885 - val_loss: 0.4183 - val_acc: 0.8860\n",
      "Epoch 34/100\n",
      "52500/52500 [==============================] - 2s 46us/step - loss: 0.4044 - acc: 0.8896 - val_loss: 0.4124 - val_acc: 0.8865\n",
      "Epoch 35/100\n",
      "52500/52500 [==============================] - 2s 46us/step - loss: 0.3985 - acc: 0.8909 - val_loss: 0.4068 - val_acc: 0.8884\n",
      "Epoch 36/100\n",
      "52500/52500 [==============================] - 2s 47us/step - loss: 0.3930 - acc: 0.8928 - val_loss: 0.4012 - val_acc: 0.8889\n",
      "Epoch 37/100\n",
      "52500/52500 [==============================] - 2s 46us/step - loss: 0.3878 - acc: 0.8936 - val_loss: 0.3969 - val_acc: 0.8898\n",
      "Epoch 38/100\n",
      "52500/52500 [==============================] - 2s 41us/step - loss: 0.3829 - acc: 0.8943 - val_loss: 0.3919 - val_acc: 0.8911\n",
      "Epoch 39/100\n",
      "52500/52500 [==============================] - 2s 46us/step - loss: 0.3785 - acc: 0.8957 - val_loss: 0.3878 - val_acc: 0.8919\n",
      "Epoch 40/100\n",
      "52500/52500 [==============================] - 2s 46us/step - loss: 0.3742 - acc: 0.8966 - val_loss: 0.3836 - val_acc: 0.8930\n",
      "Epoch 41/100\n",
      "52500/52500 [==============================] - 2s 47us/step - loss: 0.3702 - acc: 0.8970 - val_loss: 0.3800 - val_acc: 0.8932\n",
      "Epoch 42/100\n",
      "52500/52500 [==============================] - 2s 47us/step - loss: 0.3665 - acc: 0.8980 - val_loss: 0.3769 - val_acc: 0.8945\n",
      "Epoch 43/100\n",
      "52500/52500 [==============================] - 2s 44us/step - loss: 0.3629 - acc: 0.8994 - val_loss: 0.3734 - val_acc: 0.8948\n",
      "Epoch 44/100\n",
      "52500/52500 [==============================] - 2s 46us/step - loss: 0.3595 - acc: 0.9000 - val_loss: 0.3706 - val_acc: 0.8967\n",
      "Epoch 45/100\n",
      "52500/52500 [==============================] - 2s 42us/step - loss: 0.3562 - acc: 0.9003 - val_loss: 0.3669 - val_acc: 0.8956\n",
      "Epoch 46/100\n",
      "52500/52500 [==============================] - 2s 46us/step - loss: 0.3532 - acc: 0.9012 - val_loss: 0.3639 - val_acc: 0.8971\n",
      "Epoch 47/100\n",
      "52500/52500 [==============================] - 2s 46us/step - loss: 0.3503 - acc: 0.9015 - val_loss: 0.3610 - val_acc: 0.8980\n",
      "Epoch 48/100\n",
      "52500/52500 [==============================] - 2s 46us/step - loss: 0.3474 - acc: 0.9024 - val_loss: 0.3586 - val_acc: 0.8982\n",
      "Epoch 49/100\n",
      "52500/52500 [==============================] - 2s 46us/step - loss: 0.3448 - acc: 0.9031 - val_loss: 0.3559 - val_acc: 0.8991\n",
      "Epoch 50/100\n",
      "52500/52500 [==============================] - 2s 46us/step - loss: 0.3422 - acc: 0.9037 - val_loss: 0.3537 - val_acc: 0.8993\n",
      "Epoch 51/100\n",
      "52500/52500 [==============================] - 2s 43us/step - loss: 0.3398 - acc: 0.9038 - val_loss: 0.3514 - val_acc: 0.8997\n",
      "Epoch 52/100\n",
      "52500/52500 [==============================] - 2s 46us/step - loss: 0.3374 - acc: 0.9047 - val_loss: 0.3492 - val_acc: 0.9009\n",
      "Epoch 53/100\n",
      "52500/52500 [==============================] - 2s 46us/step - loss: 0.3351 - acc: 0.9051 - val_loss: 0.3472 - val_acc: 0.9007\n",
      "Epoch 54/100\n",
      "52500/52500 [==============================] - 2s 46us/step - loss: 0.3329 - acc: 0.9058 - val_loss: 0.3448 - val_acc: 0.9019\n",
      "Epoch 55/100\n",
      "52500/52500 [==============================] - 2s 41us/step - loss: 0.3308 - acc: 0.9061 - val_loss: 0.3429 - val_acc: 0.9021\n",
      "Epoch 56/100\n",
      "52500/52500 [==============================] - 2s 44us/step - loss: 0.3288 - acc: 0.9070 - val_loss: 0.3409 - val_acc: 0.9026\n",
      "Epoch 57/100\n",
      "52500/52500 [==============================] - 2s 46us/step - loss: 0.3266 - acc: 0.9071 - val_loss: 0.3390 - val_acc: 0.9028\n",
      "Epoch 58/100\n",
      "52500/52500 [==============================] - 2s 42us/step - loss: 0.3248 - acc: 0.9076 - val_loss: 0.3374 - val_acc: 0.9043\n",
      "Epoch 59/100\n"
     ]
    },
    {
     "name": "stdout",
     "output_type": "stream",
     "text": [
      "52500/52500 [==============================] - 2s 46us/step - loss: 0.3230 - acc: 0.9082 - val_loss: 0.3359 - val_acc: 0.9046\n",
      "Epoch 60/100\n",
      "52500/52500 [==============================] - 2s 46us/step - loss: 0.3211 - acc: 0.9088 - val_loss: 0.3336 - val_acc: 0.9048\n",
      "Epoch 61/100\n",
      "52500/52500 [==============================] - 2s 46us/step - loss: 0.3194 - acc: 0.9089 - val_loss: 0.3317 - val_acc: 0.9048\n",
      "Epoch 62/100\n",
      "52500/52500 [==============================] - 2s 46us/step - loss: 0.3177 - acc: 0.9092 - val_loss: 0.3302 - val_acc: 0.9057\n",
      "Epoch 63/100\n",
      "52500/52500 [==============================] - 2s 46us/step - loss: 0.3160 - acc: 0.9098 - val_loss: 0.3286 - val_acc: 0.9058\n",
      "Epoch 64/100\n",
      "52500/52500 [==============================] - 2s 43us/step - loss: 0.3143 - acc: 0.9103 - val_loss: 0.3272 - val_acc: 0.9062\n",
      "Epoch 65/100\n",
      "52500/52500 [==============================] - 2s 46us/step - loss: 0.3127 - acc: 0.9108 - val_loss: 0.3257 - val_acc: 0.9062\n",
      "Epoch 66/100\n",
      "52500/52500 [==============================] - 2s 47us/step - loss: 0.3112 - acc: 0.9110 - val_loss: 0.3240 - val_acc: 0.9071\n",
      "Epoch 67/100\n",
      "52500/52500 [==============================] - 2s 46us/step - loss: 0.3096 - acc: 0.9116 - val_loss: 0.3226 - val_acc: 0.9075\n",
      "Epoch 68/100\n",
      "52500/52500 [==============================] - 2s 46us/step - loss: 0.3081 - acc: 0.9117 - val_loss: 0.3212 - val_acc: 0.9082\n",
      "Epoch 69/100\n",
      "52500/52500 [==============================] - 2s 44us/step - loss: 0.3066 - acc: 0.9126 - val_loss: 0.3200 - val_acc: 0.9088\n",
      "Epoch 70/100\n",
      "52500/52500 [==============================] - 2s 44us/step - loss: 0.3053 - acc: 0.9126 - val_loss: 0.3184 - val_acc: 0.9093\n",
      "Epoch 71/100\n",
      "52500/52500 [==============================] - 2s 44us/step - loss: 0.3039 - acc: 0.9130 - val_loss: 0.3169 - val_acc: 0.9096\n",
      "Epoch 72/100\n",
      "52500/52500 [==============================] - 2s 46us/step - loss: 0.3025 - acc: 0.9134 - val_loss: 0.3161 - val_acc: 0.9095\n",
      "Epoch 73/100\n",
      "52500/52500 [==============================] - 2s 46us/step - loss: 0.3011 - acc: 0.9138 - val_loss: 0.3146 - val_acc: 0.9100\n",
      "Epoch 74/100\n",
      "52500/52500 [==============================] - 2s 46us/step - loss: 0.2999 - acc: 0.9141 - val_loss: 0.3133 - val_acc: 0.9098\n",
      "Epoch 75/100\n",
      "52500/52500 [==============================] - 2s 47us/step - loss: 0.2986 - acc: 0.9147 - val_loss: 0.3122 - val_acc: 0.9098\n",
      "Epoch 76/100\n",
      "52500/52500 [==============================] - 2s 46us/step - loss: 0.2974 - acc: 0.9149 - val_loss: 0.3107 - val_acc: 0.9114\n",
      "Epoch 77/100\n",
      "52500/52500 [==============================] - 2s 43us/step - loss: 0.2961 - acc: 0.9149 - val_loss: 0.3100 - val_acc: 0.9115\n",
      "Epoch 78/100\n",
      "52500/52500 [==============================] - 2s 46us/step - loss: 0.2949 - acc: 0.9153 - val_loss: 0.3086 - val_acc: 0.9117\n",
      "Epoch 79/100\n",
      "52500/52500 [==============================] - 2s 45us/step - loss: 0.2937 - acc: 0.9158 - val_loss: 0.3084 - val_acc: 0.9112\n",
      "Epoch 80/100\n",
      "52500/52500 [==============================] - 2s 45us/step - loss: 0.2925 - acc: 0.9154 - val_loss: 0.3064 - val_acc: 0.9122\n",
      "Epoch 81/100\n",
      "52500/52500 [==============================] - 2s 46us/step - loss: 0.2912 - acc: 0.9163 - val_loss: 0.3052 - val_acc: 0.9123\n",
      "Epoch 82/100\n",
      "52500/52500 [==============================] - 2s 44us/step - loss: 0.2902 - acc: 0.9162 - val_loss: 0.3041 - val_acc: 0.9129\n",
      "Epoch 83/100\n",
      "52500/52500 [==============================] - 2s 43us/step - loss: 0.2890 - acc: 0.9166 - val_loss: 0.3032 - val_acc: 0.9124\n",
      "Epoch 84/100\n",
      "52500/52500 [==============================] - 2s 44us/step - loss: 0.2880 - acc: 0.9168 - val_loss: 0.3021 - val_acc: 0.9130\n",
      "Epoch 85/100\n",
      "52500/52500 [==============================] - 2s 46us/step - loss: 0.2869 - acc: 0.9176 - val_loss: 0.3010 - val_acc: 0.9133\n",
      "Epoch 86/100\n",
      "52500/52500 [==============================] - 2s 46us/step - loss: 0.2858 - acc: 0.9174 - val_loss: 0.2999 - val_acc: 0.9135\n",
      "Epoch 87/100\n",
      "52500/52500 [==============================] - 2s 45us/step - loss: 0.2847 - acc: 0.9177 - val_loss: 0.2992 - val_acc: 0.9137\n",
      "Epoch 88/100\n",
      "52500/52500 [==============================] - 2s 46us/step - loss: 0.2837 - acc: 0.9177 - val_loss: 0.2981 - val_acc: 0.9135\n",
      "Epoch 89/100\n",
      "52500/52500 [==============================] - 2s 46us/step - loss: 0.2827 - acc: 0.9183 - val_loss: 0.2969 - val_acc: 0.9146\n",
      "Epoch 90/100\n",
      "52500/52500 [==============================] - 2s 44us/step - loss: 0.2816 - acc: 0.9187 - val_loss: 0.2960 - val_acc: 0.9150\n",
      "Epoch 91/100\n",
      "52500/52500 [==============================] - 2s 46us/step - loss: 0.2806 - acc: 0.9188 - val_loss: 0.2952 - val_acc: 0.9151\n",
      "Epoch 92/100\n",
      "52500/52500 [==============================] - 2s 45us/step - loss: 0.2797 - acc: 0.9190 - val_loss: 0.2940 - val_acc: 0.9154\n",
      "Epoch 93/100\n",
      "52500/52500 [==============================] - 2s 46us/step - loss: 0.2787 - acc: 0.9191 - val_loss: 0.2932 - val_acc: 0.9158\n",
      "Epoch 94/100\n",
      "52500/52500 [==============================] - 2s 44us/step - loss: 0.2777 - acc: 0.9193 - val_loss: 0.2929 - val_acc: 0.9157\n",
      "Epoch 95/100\n",
      "52500/52500 [==============================] - 2s 44us/step - loss: 0.2768 - acc: 0.9198 - val_loss: 0.2915 - val_acc: 0.9161\n",
      "Epoch 96/100\n",
      "52500/52500 [==============================] - 2s 42us/step - loss: 0.2758 - acc: 0.9198 - val_loss: 0.2904 - val_acc: 0.9159\n",
      "Epoch 97/100\n",
      "52500/52500 [==============================] - 2s 46us/step - loss: 0.2749 - acc: 0.9203 - val_loss: 0.2896 - val_acc: 0.9163\n",
      "Epoch 98/100\n",
      "52500/52500 [==============================] - 2s 46us/step - loss: 0.2739 - acc: 0.9209 - val_loss: 0.2888 - val_acc: 0.9162\n",
      "Epoch 99/100\n",
      "52500/52500 [==============================] - 2s 46us/step - loss: 0.2731 - acc: 0.9207 - val_loss: 0.2880 - val_acc: 0.9169\n",
      "Epoch 100/100\n",
      "52500/52500 [==============================] - 2s 46us/step - loss: 0.2721 - acc: 0.9207 - val_loss: 0.2873 - val_acc: 0.9165\n"
     ]
    }
   ],
   "source": [
    "# train the model using SGD\n",
    "print(\"[INFO] training network...\")\n",
    "sgd = SGD(0.01)\n",
    "model.compile(loss=\"categorical_crossentropy\", optimizer=sgd, metrics=[\"accuracy\"])\n",
    "H = model.fit(trainX, trainY, validation_data=(testX, testY), epochs=100, batch_size=128)"
   ]
  },
  {
   "cell_type": "code",
   "execution_count": 7,
   "metadata": {},
   "outputs": [
    {
     "name": "stdout",
     "output_type": "stream",
     "text": [
      "[INFO] evaluating network...\n",
      "              precision    recall  f1-score   support\n",
      "\n",
      "           0       0.95      0.97      0.96      1698\n",
      "           1       0.95      0.97      0.96      1990\n",
      "           2       0.92      0.89      0.90      1708\n",
      "           3       0.90      0.88      0.89      1786\n",
      "           4       0.91      0.94      0.92      1705\n",
      "           5       0.88      0.86      0.87      1541\n",
      "           6       0.93      0.96      0.94      1675\n",
      "           7       0.93      0.93      0.93      1846\n",
      "           8       0.89      0.88      0.88      1725\n",
      "           9       0.91      0.89      0.90      1826\n",
      "\n",
      "    accuracy                           0.92     17500\n",
      "   macro avg       0.92      0.92      0.92     17500\n",
      "weighted avg       0.92      0.92      0.92     17500\n",
      "\n"
     ]
    }
   ],
   "source": [
    "# evaluate the network\n",
    "print(\"[INFO] evaluating network...\")\n",
    "classes = ['0', '1', '2', '3', '4', '5', '6', '7', '8', '9']\n",
    "predictions = model.predict(testX, batch_size=128)\n",
    "print(classification_report(testY.argmax(axis=1), predictions.argmax(axis=1), target_names=classes))"
   ]
  },
  {
   "cell_type": "code",
   "execution_count": 8,
   "metadata": {},
   "outputs": [
    {
     "data": {
      "image/png": "[encoded data removed]",
      "text/plain": [
       "<Figure size 720x576 with 1 Axes>"
      ]
     },
     "metadata": {},
     "output_type": "display_data"
    }
   ],
   "source": [
    "# plot the training loss and accuracy\n",
    "plt.style.use(\"ggplot\")\n",
    "plt.figure()\n",
    "plt.plot(np.arange(0, 100), H.history[\"loss\"], label=\"train_loss\")\n",
    "plt.plot(np.arange(0, 100), H.history[\"val_loss\"], label=\"val_loss\")\n",
    "plt.plot(np.arange(0, 100), H.history[\"acc\"], label=\"train_acc\")\n",
    "plt.plot(np.arange(0, 100), H.history[\"val_acc\"], label=\"val_acc\")\n",
    "plt.title(\"Training Loss and Accuracy\")\n",
    "plt.xlabel(\"Epoch #\")\n",
    "plt.ylabel(\"Loss/Accuracy\")\n",
    "plt.legend()\n",
    "plt.show()"
   ]
  },
  {
   "cell_type": "markdown",
   "metadata": {},
   "source": [
    "Well Done"
   ]
  }
 ],
 "metadata": {
  "kernelspec": {
   "display_name": "Python 3",
   "language": "python",
   "name": "python3"
  },
  "language_info": {
   "codemirror_mode": {
    "name": "ipython",
    "version": 3
   },
   "file_extension": ".py",
   "mimetype": "text/x-python",
   "name": "python",
   "nbconvert_exporter": "python",
   "pygments_lexer": "ipython3",
   "version": "3.6.9"
  }
 },
 "nbformat": 4,
 "nbformat_minor": 4
}
