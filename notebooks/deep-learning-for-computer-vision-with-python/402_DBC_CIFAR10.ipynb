{
 "cells": [
  {
   "cell_type": "code",
   "execution_count": 1,
   "metadata": {},
   "outputs": [],
   "source": [
    "import dbcollection as dbc"
   ]
  },
  {
   "cell_type": "code",
   "execution_count": 2,
   "metadata": {},
   "outputs": [
    {
     "data": {
      "text/plain": [
       "'/home/pedro/dbcollection'"
      ]
     },
     "execution_count": 2,
     "metadata": {},
     "output_type": "execute_result"
    }
   ],
   "source": [
    "dbc.cache.cache_dir"
   ]
  },
  {
   "cell_type": "code",
   "execution_count": 3,
   "metadata": {},
   "outputs": [
    {
     "data": {
      "text/plain": [
       "'/home/pedro/dbcollection/downloaded_data'"
      ]
     },
     "execution_count": 3,
     "metadata": {},
     "output_type": "execute_result"
    }
   ],
   "source": [
    "dbc.cache.download_dir"
   ]
  },
  {
   "cell_type": "code",
   "execution_count": 4,
   "metadata": {},
   "outputs": [
    {
     "name": "stdout",
     "output_type": "stream",
     "text": [
      "----------------------------------------\n",
      "  Available datasets in cache for load \n",
      "----------------------------------------\n",
      "  - cifar10  ['classification']\n",
      "  - mnist  ['classification']\n",
      "\n",
      "-----------------------------------\n",
      "  Available datasets for download \n",
      "-----------------------------------\n",
      "  - caltech_pedestrian  ['detection', 'detection_10x', 'detection_30x']\n",
      "  - cifar10  ['classification']\n",
      "  - cifar100  ['classification']\n",
      "  - coco  ['caption_2015', 'caption_2016', 'detection_2015', 'detection_2016', 'keypoints_2016']\n",
      "  - flic  ['keypoints']\n",
      "  - ilsvrc2012  ['classification', 'raw256']\n",
      "  - inria_pedestrian  ['detection']\n",
      "  - leeds_sports_pose  ['keypoints', 'keypoints_original']\n",
      "  - leeds_sports_pose_extended  ['keypoints']\n",
      "  - mnist  ['classification']\n",
      "  - mpii_pose  ['keypoints', 'keypoints_full']\n",
      "  - pascal_voc_2007  ['detection']\n",
      "  - pascal_voc_2012  ['detection']\n",
      "  - ucf_101  ['recognition']\n",
      "  - ucf_sports  ['recognition']\n"
     ]
    }
   ],
   "source": [
    "dbc.info_datasets()"
   ]
  },
  {
   "cell_type": "code",
   "execution_count": 5,
   "metadata": {},
   "outputs": [
    {
     "name": "stdout",
     "output_type": "stream",
     "text": [
      "==> Download cifar10 data to disk...\n",
      "\n",
      "Download url (1/1): {'url': 'https://www.cs.toronto.edu/~kriz/cifar-10-python.tar.gz', 'md5hash': 'c58f30108f718f92721af3b95e74349a'}\n",
      "File already exists, skip downloading this url.\n",
      "==> Download complete.\n"
     ]
    }
   ],
   "source": [
    "dbc.download('cifar10')"
   ]
  },
  {
   "cell_type": "code",
   "execution_count": 6,
   "metadata": {},
   "outputs": [
    {
     "name": "stdout",
     "output_type": "stream",
     "text": [
      "\n",
      "Processing 'classification' task:\n",
      "\n",
      "==> Storing metadata to file: /home/pedro/dbcollection/cifar10/classification.h5\n",
      "\n",
      "Saving set metadata: train\n",
      "\n",
      "Saving set metadata: test\n",
      "==> Processing complete.\n"
     ]
    }
   ],
   "source": [
    "dbc.process('cifar10')"
   ]
  },
  {
   "cell_type": "code",
   "execution_count": 7,
   "metadata": {},
   "outputs": [
    {
     "name": "stderr",
     "output_type": "stream",
     "text": [
      "/home/pedro/miniconda3/envs/computer-vision/lib/python3.6/site-packages/dbcollection/core/loader.py:228: H5pyDeprecationWarning: dataset.value has been deprecated. Use dataset[()] instead.\n",
      "  self._object_fields = tuple(convert_ascii_to_str(hdf5_group['object_fields'].value))\n",
      "/home/pedro/miniconda3/envs/computer-vision/lib/python3.6/site-packages/dbcollection/core/loader.py:569: H5pyDeprecationWarning: dataset.value has been deprecated. Use dataset[()] instead.\n",
      "  data = self.hdf5_file['/{}/object_fields'.format(set_name)].value\n"
     ]
    }
   ],
   "source": [
    "cifar10 = dbc.load('cifar10')"
   ]
  },
  {
   "cell_type": "code",
   "execution_count": 8,
   "metadata": {},
   "outputs": [
    {
     "name": "stdout",
     "output_type": "stream",
     "text": [
      "\n",
      "> Set: test\n",
      "   - classes,        shape = (10, 11),            dtype = uint8,  (in 'object_ids', position = 1)\n",
      "   - images,         shape = (10000, 32, 32, 3),  dtype = uint8,  (in 'object_ids', position = 0)\n",
      "   - labels,         shape = (10000,),            dtype = uint8   \n",
      "   - object_fields,  shape = (2, 8),              dtype = uint8   \n",
      "   - object_ids,     shape = (10000, 2),          dtype = int32   \n",
      "\n",
      "   (Pre-ordered lists)\n",
      "   - list_images_per_class,  shape = (10, 1000),  dtype = int32\n",
      "\n",
      "> Set: train\n",
      "   - classes,        shape = (10, 11),            dtype = uint8,  (in 'object_ids', position = 1)\n",
      "   - images,         shape = (50000, 32, 32, 3),  dtype = uint8,  (in 'object_ids', position = 0)\n",
      "   - labels,         shape = (50000,),            dtype = uint8   \n",
      "   - object_fields,  shape = (2, 8),              dtype = uint8   \n",
      "   - object_ids,     shape = (50000, 2),          dtype = int32   \n",
      "\n",
      "   (Pre-ordered lists)\n",
      "   - list_images_per_class,  shape = (10, 5000),  dtype = int32\n"
     ]
    }
   ],
   "source": [
    "cifar10.info()"
   ]
  },
  {
   "cell_type": "code",
   "execution_count": null,
   "metadata": {},
   "outputs": [],
   "source": []
  }
 ],
 "metadata": {
  "kernelspec": {
   "display_name": "Python 3",
   "language": "python",
   "name": "python3"
  },
  "language_info": {
   "codemirror_mode": {
    "name": "ipython",
    "version": 3
   },
   "file_extension": ".py",
   "mimetype": "text/x-python",
   "name": "python",
   "nbconvert_exporter": "python",
   "pygments_lexer": "ipython3",
   "version": "3.6.9"
  }
 },
 "nbformat": 4,
 "nbformat_minor": 4
}
