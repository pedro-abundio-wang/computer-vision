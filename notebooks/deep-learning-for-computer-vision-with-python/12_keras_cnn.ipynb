{
 "cells": [
  {
   "cell_type": "markdown",
   "metadata": {},
   "source": [
    "# ShallowNet on Animals"
   ]
  },
  {
   "cell_type": "code",
   "execution_count": 1,
   "metadata": {},
   "outputs": [],
   "source": [
    "import matplotlib.pyplot as plt\n",
    "\n",
    "# This is a bit of magic to make matplotlib figures appear inline in the\n",
    "# notebook rather than in a new window.\n",
    "%matplotlib inline\n",
    "plt.rcParams['figure.figsize'] = (10.0, 8.0) # set default size of plots\n",
    "plt.rcParams['image.interpolation'] = 'nearest'\n",
    "plt.rcParams['image.cmap'] = 'gray'\n",
    "\n",
    "# Some more magic so that the notebook will reload external python modules;\n",
    "# see http://stackoverflow.com/questions/1907993/autoreload-of-modules-in-ipython\n",
    "%load_ext autoreload\n",
    "%autoreload 2"
   ]
  },
  {
   "cell_type": "code",
   "execution_count": 2,
   "metadata": {},
   "outputs": [],
   "source": [
    "# import the necessary packages\n",
    "import cv2\n",
    "\n",
    "class SimplePreprocessor:\n",
    "    def __init__(self, width, height, inter=cv2.INTER_AREA):\n",
    "        # store the target image width, height,\n",
    "        # and interpolation method used when resizing\n",
    "        self.width = width\n",
    "        self.height = height\n",
    "        self.inter = inter\n",
    "        \n",
    "    def preprocess(self, image):\n",
    "        # resize the image to a fixed size, ignoring the aspect ratio\n",
    "        return cv2.resize(image, (self.width, self.height), interpolation=self.inter)"
   ]
  },
  {
   "cell_type": "code",
   "execution_count": 3,
   "metadata": {},
   "outputs": [],
   "source": [
    "import numpy as np\n",
    "import cv2\n",
    "import os\n",
    "\n",
    "class SimpleDatasetLoader:\n",
    "    def __init__(self, preprocessors=None):\n",
    "        # store the image preprocessor\n",
    "        self.preprocessors = preprocessors\n",
    "        \n",
    "        # if the preprocessors are None, initialize them as an empty list\n",
    "        if self.preprocessors is None:\n",
    "            self.preprocessors = []\n",
    "            \n",
    "    def load(self, imagePaths, verbose=-1):\n",
    "        # initialize the list of features and labels\n",
    "        data = []\n",
    "        labels = []\n",
    "        \n",
    "        # loop over the input images\n",
    "        for (i, imagePath) in enumerate(imagePaths):\n",
    "            # load the image and extract the class label \n",
    "            # assuming that our path has the following format:\n",
    "            # /path/to/dataset/{class}/{image}.jpg\n",
    "            image = cv2.imread(imagePath)\n",
    "            label = imagePath.split(os.path.sep)[-2]\n",
    "            \n",
    "            # check to see if our preprocessors are not None\n",
    "            if self.preprocessors is not None:\n",
    "                # loop over the preprocessors and apply each to the image\n",
    "                for p in self.preprocessors:\n",
    "                    image = p.preprocess(image)\n",
    "                    \n",
    "            # treat our processed image as a \"feature vector\" \n",
    "            # by updating the data list followed by the labels\n",
    "            data.append(image)\n",
    "            labels.append(label)\n",
    "            \n",
    "            # show an update every 'verbose' images\n",
    "            if verbose > 0 and i >= 0 and (i + 1) % verbose == 0:\n",
    "                print(\"[INFO] processed {}/{}\".format(i + 1, len(imagePaths)))\n",
    "                \n",
    "        # return a tuple of the data and labels\n",
    "        return (np.array(data), np.array(labels))"
   ]
  },
  {
   "cell_type": "code",
   "execution_count": 4,
   "metadata": {},
   "outputs": [
    {
     "name": "stderr",
     "output_type": "stream",
     "text": [
      "Using TensorFlow backend.\n",
      "/home/pedro/miniconda3/envs/computer-vision/lib/python3.6/site-packages/tensorflow/python/framework/dtypes.py:523: FutureWarning: Passing (type, 1) or '1type' as a synonym of type is deprecated; in a future version of numpy, it will be understood as (type, (1,)) / '(1,)type'.\n",
      "  _np_qint8 = np.dtype([(\"qint8\", np.int8, 1)])\n",
      "/home/pedro/miniconda3/envs/computer-vision/lib/python3.6/site-packages/tensorflow/python/framework/dtypes.py:524: FutureWarning: Passing (type, 1) or '1type' as a synonym of type is deprecated; in a future version of numpy, it will be understood as (type, (1,)) / '(1,)type'.\n",
      "  _np_quint8 = np.dtype([(\"quint8\", np.uint8, 1)])\n",
      "/home/pedro/miniconda3/envs/computer-vision/lib/python3.6/site-packages/tensorflow/python/framework/dtypes.py:525: FutureWarning: Passing (type, 1) or '1type' as a synonym of type is deprecated; in a future version of numpy, it will be understood as (type, (1,)) / '(1,)type'.\n",
      "  _np_qint16 = np.dtype([(\"qint16\", np.int16, 1)])\n",
      "/home/pedro/miniconda3/envs/computer-vision/lib/python3.6/site-packages/tensorflow/python/framework/dtypes.py:526: FutureWarning: Passing (type, 1) or '1type' as a synonym of type is deprecated; in a future version of numpy, it will be understood as (type, (1,)) / '(1,)type'.\n",
      "  _np_quint16 = np.dtype([(\"quint16\", np.uint16, 1)])\n",
      "/home/pedro/miniconda3/envs/computer-vision/lib/python3.6/site-packages/tensorflow/python/framework/dtypes.py:527: FutureWarning: Passing (type, 1) or '1type' as a synonym of type is deprecated; in a future version of numpy, it will be understood as (type, (1,)) / '(1,)type'.\n",
      "  _np_qint32 = np.dtype([(\"qint32\", np.int32, 1)])\n",
      "/home/pedro/miniconda3/envs/computer-vision/lib/python3.6/site-packages/tensorflow/python/framework/dtypes.py:532: FutureWarning: Passing (type, 1) or '1type' as a synonym of type is deprecated; in a future version of numpy, it will be understood as (type, (1,)) / '(1,)type'.\n",
      "  np_resource = np.dtype([(\"resource\", np.ubyte, 1)])\n"
     ]
    }
   ],
   "source": [
    "# import the necessary packages\n",
    "from keras.preprocessing.image import img_to_array\n",
    "\n",
    "class ImageToArrayPreprocessor:\n",
    "    def __init__(self, dataFormat=None):\n",
    "        # store the image data format\n",
    "        self.dataFormat = dataFormat\n",
    "\n",
    "    def preprocess(self, image):\n",
    "        # apply the Keras utility function that correctly rearranges\n",
    "        # the dimensions of the image\n",
    "        return img_to_array(image, data_format=self.dataFormat)"
   ]
  },
  {
   "cell_type": "code",
   "execution_count": 5,
   "metadata": {},
   "outputs": [],
   "source": [
    "# import the necessary packages\n",
    "from keras.models import Sequential\n",
    "from keras.layers.convolutional import Conv2D\n",
    "from keras.layers.core import Activation\n",
    "from keras.layers.core import Flatten\n",
    "from keras.layers.core import Dense\n",
    "from keras import backend as K\n",
    "\n",
    "class ShallowNet:\n",
    "    @staticmethod\n",
    "    def build(width, height, depth, classes):\n",
    "        # initialize the model along with the input shape to be\n",
    "        # \"channels last\"\n",
    "        model = Sequential()\n",
    "        inputShape = (height, width, depth)\n",
    "\n",
    "        # if we are using \"channels first\", update the input shape\n",
    "        if K.image_data_format() == \"channels_first\":\n",
    "            inputShape = (depth, height, width)\n",
    "            \n",
    "        # define the first (and only) CONV => RELU layer\n",
    "        model.add(Conv2D(32, (3, 3), padding=\"same\", input_shape=inputShape))\n",
    "        model.add(Activation(\"relu\"))\n",
    "        \n",
    "        # softmax classifier\n",
    "        model.add(Flatten())\n",
    "        model.add(Dense(classes))\n",
    "        model.add(Activation(\"softmax\"))\n",
    "        \n",
    "        # return the constructed network architecture\n",
    "        return model"
   ]
  },
  {
   "cell_type": "code",
   "execution_count": null,
   "metadata": {},
   "outputs": [],
   "source": [
    "# import the necessary packages\n",
    "from sklearn.preprocessing import LabelBinarizer\n",
    "from sklearn.model_selection import train_test_split\n",
    "from sklearn.metrics import classification_report\n",
    "from keras.optimizers import SGD\n",
    "import matplotlib.pyplot as plt\n",
    "import numpy as np"
   ]
  },
  {
   "cell_type": "code",
   "execution_count": null,
   "metadata": {},
   "outputs": [],
   "source": [
    "# path to input dataset\n",
    "dataset = './cat-dog-panda/animals/'\n",
    "\n",
    "import glob\n",
    "\n",
    "# grab the list of images that we'll be describing\n",
    "print(\"[INFO] loading images...\")\n",
    "imagePaths = [file for file in glob.glob(dataset + \"**/*.jpg\", recursive=True)]"
   ]
  },
  {
   "cell_type": "code",
   "execution_count": null,
   "metadata": {},
   "outputs": [],
   "source": [
    "# initialize the image preprocessors\n",
    "simplePreprocessor = SimplePreprocessor(32, 32)\n",
    "imageToArrayPreprocessor = ImageToArrayPreprocessor()\n",
    "\n",
    "# load the dataset from disk then scale the raw pixel intensities\n",
    "# to the range [0, 1]\n",
    "simpleDatasetLoader = SimpleDatasetLoader(preprocessors=[simplePreprocessor, imageToArrayPreprocessor])\n",
    "(data, labels) = sdl.load(imagePaths, verbose=500)\n",
    "data = data.astype(\"float\") / 255.0"
   ]
  },
  {
   "cell_type": "code",
   "execution_count": null,
   "metadata": {},
   "outputs": [],
   "source": [
    "# partition the data into training and testing splits using 75% of\n",
    "# the data for training and the remaining 25% for testing\n",
    "(trainX, testX, trainY, testY) = train_test_split(data, labels, test_size=0.25, random_state=42)\n",
    "\n",
    "# convert the labels from integers to vectors\n",
    "trainY = LabelBinarizer().fit_transform(trainY)\n",
    "testY = LabelBinarizer().fit_transform(testY)"
   ]
  },
  {
   "cell_type": "code",
   "execution_count": null,
   "metadata": {},
   "outputs": [],
   "source": [
    "# initialize the optimizer and model\n",
    "print(\"[INFO] compiling model...\")\n",
    "opt = SGD(lr=0.005)\n",
    "model = ShallowNet.build(width=32, height=32, depth=3, classes=3)\n",
    "model.compile(loss=\"categorical_crossentropy\", optimizer=opt, metrics=[\"accuracy\"])\n",
    "\n",
    "# train the network\n",
    "print(\"[INFO] training network...\")\n",
    "H = model.fit(trainX, trainY, validation_data=(testX, testY), batch_size=32, epochs=100, verbose=1)"
   ]
  },
  {
   "cell_type": "code",
   "execution_count": null,
   "metadata": {},
   "outputs": [],
   "source": [
    "# evaluate the network\n",
    "print(\"[INFO] evaluating network...\")\n",
    "predictions = model.predict(testX, batch_size=32)\n",
    "print(classification_report(testY.argmax(axis=1), predictions.argmax(axis=1), target_names=[\"cat\", \"dog\", \"panda\"]))"
   ]
  },
  {
   "cell_type": "code",
   "execution_count": null,
   "metadata": {},
   "outputs": [],
   "source": [
    "# plot the training loss and accuracy\n",
    "plt.style.use(\"ggplot\")\n",
    "plt.figure()\n",
    "plt.plot(np.arange(0, 100), H.history[\"loss\"], label=\"train_loss\")\n",
    "plt.plot(np.arange(0, 100), H.history[\"val_loss\"], label=\"val_loss\")\n",
    "plt.plot(np.arange(0, 100), H.history[\"acc\"], label=\"train_acc\")\n",
    "plt.plot(np.arange(0, 100), H.history[\"val_acc\"], label=\"val_acc\")\n",
    "plt.title(\"Training Loss and Accuracy\")\n",
    "plt.xlabel(\"Epoch #\")\n",
    "plt.ylabel(\"Loss/Accuracy\")\n",
    "plt.legend()\n",
    "plt.show()"
   ]
  },
  {
   "cell_type": "markdown",
   "metadata": {},
   "source": [
    "# ShallowNet on CIFAR-10"
   ]
  },
  {
   "cell_type": "code",
   "execution_count": 6,
   "metadata": {},
   "outputs": [],
   "source": [
    "# import the necessary packages\n",
    "from sklearn.preprocessing import LabelBinarizer\n",
    "from sklearn.metrics import classification_report\n",
    "from keras.models import Sequential\n",
    "from keras.layers.core import Dense\n",
    "from keras.optimizers import SGD\n",
    "from keras.datasets import cifar10\n",
    "import matplotlib.pyplot as plt\n",
    "import numpy as np"
   ]
  },
  {
   "cell_type": "code",
   "execution_count": 8,
   "metadata": {},
   "outputs": [
    {
     "name": "stdout",
     "output_type": "stream",
     "text": [
      "[INFO] loading CIFAR-10 data...\n"
     ]
    }
   ],
   "source": [
    "# load the training and testing data, scale it into the range [0, 1],\n",
    "print(\"[INFO] loading CIFAR-10 data...\")\n",
    "((trainX, trainY), (testX, testY)) = cifar10.load_data()\n",
    "trainX = trainX.astype(\"float\") / 255.0\n",
    "testX = testX.astype(\"float\") / 255.0\n",
    "\n",
    "# convert the labels from integers to vectors\n",
    "labelBinarizer = LabelBinarizer()\n",
    "trainY = labelBinarizer.fit_transform(trainY)\n",
    "testY = labelBinarizer.transform(testY)\n",
    "\n",
    "# initialize the label names for the CIFAR-10 dataset\n",
    "labelNames = [\"airplane\", \"automobile\", \"bird\", \"cat\", \"deer\", \"dog\", \"frog\", \"horse\", \"ship\", \"truck\"]"
   ]
  },
  {
   "cell_type": "code",
   "execution_count": 9,
   "metadata": {
    "scrolled": false
   },
   "outputs": [
    {
     "name": "stdout",
     "output_type": "stream",
     "text": [
      "[INFO] compiling model...\n",
      "[INFO] training network...\n",
      "Train on 50000 samples, validate on 10000 samples\n",
      "Epoch 1/40\n",
      "50000/50000 [==============================] - 35s 700us/step - loss: 1.8220 - acc: 0.3605 - val_loss: 1.6717 - val_acc: 0.4129\n",
      "Epoch 2/40\n",
      "50000/50000 [==============================] - 19s 384us/step - loss: 1.5696 - acc: 0.4541 - val_loss: 1.5003 - val_acc: 0.4683\n",
      "Epoch 3/40\n",
      "50000/50000 [==============================] - 19s 386us/step - loss: 1.4361 - acc: 0.4962 - val_loss: 1.4253 - val_acc: 0.4964\n",
      "Epoch 4/40\n",
      "50000/50000 [==============================] - 19s 385us/step - loss: 1.3623 - acc: 0.5260 - val_loss: 1.3773 - val_acc: 0.5170\n",
      "Epoch 5/40\n",
      "50000/50000 [==============================] - 19s 385us/step - loss: 1.2970 - acc: 0.5452 - val_loss: 1.3557 - val_acc: 0.5140\n",
      "Epoch 6/40\n",
      "50000/50000 [==============================] - 19s 387us/step - loss: 1.2423 - acc: 0.5651 - val_loss: 1.3350 - val_acc: 0.5254\n",
      "Epoch 7/40\n",
      "50000/50000 [==============================] - 19s 385us/step - loss: 1.2025 - acc: 0.5780 - val_loss: 1.3889 - val_acc: 0.5069\n",
      "Epoch 8/40\n",
      "50000/50000 [==============================] - 19s 385us/step - loss: 1.1713 - acc: 0.5920 - val_loss: 1.2771 - val_acc: 0.5424\n",
      "Epoch 9/40\n",
      "50000/50000 [==============================] - 19s 387us/step - loss: 1.1443 - acc: 0.6001 - val_loss: 1.2897 - val_acc: 0.5504\n",
      "Epoch 10/40\n",
      "50000/50000 [==============================] - 19s 387us/step - loss: 1.1215 - acc: 0.6100 - val_loss: 1.2314 - val_acc: 0.5607\n",
      "Epoch 11/40\n",
      "50000/50000 [==============================] - 19s 386us/step - loss: 1.1005 - acc: 0.6190 - val_loss: 1.3280 - val_acc: 0.5355\n",
      "Epoch 12/40\n",
      "50000/50000 [==============================] - 19s 386us/step - loss: 1.0826 - acc: 0.6233 - val_loss: 1.2695 - val_acc: 0.5498\n",
      "Epoch 13/40\n",
      "50000/50000 [==============================] - 19s 385us/step - loss: 1.0643 - acc: 0.6315 - val_loss: 1.2421 - val_acc: 0.5701\n",
      "Epoch 14/40\n",
      "50000/50000 [==============================] - 19s 388us/step - loss: 1.0462 - acc: 0.6375 - val_loss: 1.2326 - val_acc: 0.5686\n",
      "Epoch 15/40\n",
      "50000/50000 [==============================] - 19s 382us/step - loss: 1.0320 - acc: 0.6429 - val_loss: 1.2648 - val_acc: 0.5536\n",
      "Epoch 16/40\n",
      "50000/50000 [==============================] - 19s 385us/step - loss: 1.0152 - acc: 0.6486 - val_loss: 1.2111 - val_acc: 0.5790\n",
      "Epoch 17/40\n",
      "50000/50000 [==============================] - 19s 387us/step - loss: 0.9982 - acc: 0.6545 - val_loss: 1.2324 - val_acc: 0.5719\n",
      "Epoch 18/40\n",
      "50000/50000 [==============================] - 19s 384us/step - loss: 0.9839 - acc: 0.6577 - val_loss: 1.2096 - val_acc: 0.5783\n",
      "Epoch 19/40\n",
      "50000/50000 [==============================] - 19s 385us/step - loss: 0.9718 - acc: 0.6647 - val_loss: 1.2410 - val_acc: 0.5742\n",
      "Epoch 20/40\n",
      "50000/50000 [==============================] - 19s 388us/step - loss: 0.9570 - acc: 0.6694 - val_loss: 1.2374 - val_acc: 0.5698\n",
      "Epoch 21/40\n",
      "50000/50000 [==============================] - 19s 387us/step - loss: 0.9427 - acc: 0.6747 - val_loss: 1.2755 - val_acc: 0.5573\n",
      "Epoch 22/40\n",
      "50000/50000 [==============================] - 19s 387us/step - loss: 0.9297 - acc: 0.6791 - val_loss: 1.2633 - val_acc: 0.5716\n",
      "Epoch 23/40\n",
      "50000/50000 [==============================] - 19s 386us/step - loss: 0.9151 - acc: 0.6825 - val_loss: 1.3340 - val_acc: 0.5510\n",
      "Epoch 24/40\n",
      "50000/50000 [==============================] - 19s 386us/step - loss: 0.9020 - acc: 0.6889 - val_loss: 1.2078 - val_acc: 0.5843\n",
      "Epoch 25/40\n",
      "50000/50000 [==============================] - 19s 387us/step - loss: 0.8889 - acc: 0.6918 - val_loss: 1.2089 - val_acc: 0.5878\n",
      "Epoch 26/40\n",
      "50000/50000 [==============================] - 19s 386us/step - loss: 0.8752 - acc: 0.6991 - val_loss: 1.2064 - val_acc: 0.5820\n",
      "Epoch 27/40\n",
      "50000/50000 [==============================] - 19s 386us/step - loss: 0.8610 - acc: 0.7027 - val_loss: 1.2343 - val_acc: 0.5768\n",
      "Epoch 28/40\n",
      "50000/50000 [==============================] - 19s 388us/step - loss: 0.8467 - acc: 0.7101 - val_loss: 1.3008 - val_acc: 0.5588\n",
      "Epoch 29/40\n",
      "50000/50000 [==============================] - 19s 385us/step - loss: 0.8354 - acc: 0.7134 - val_loss: 1.3278 - val_acc: 0.5608\n",
      "Epoch 30/40\n",
      "50000/50000 [==============================] - 19s 388us/step - loss: 0.8216 - acc: 0.7162 - val_loss: 1.2025 - val_acc: 0.5921\n",
      "Epoch 31/40\n",
      "50000/50000 [==============================] - 19s 384us/step - loss: 0.8065 - acc: 0.7224 - val_loss: 1.2312 - val_acc: 0.5870\n",
      "Epoch 32/40\n",
      "50000/50000 [==============================] - 19s 385us/step - loss: 0.7941 - acc: 0.7260 - val_loss: 1.2306 - val_acc: 0.5831\n",
      "Epoch 33/40\n",
      "50000/50000 [==============================] - 19s 387us/step - loss: 0.7811 - acc: 0.7322 - val_loss: 1.2640 - val_acc: 0.5759\n",
      "Epoch 34/40\n",
      "50000/50000 [==============================] - 19s 384us/step - loss: 0.7669 - acc: 0.7372 - val_loss: 1.2424 - val_acc: 0.5796\n",
      "Epoch 35/40\n",
      "50000/50000 [==============================] - 19s 387us/step - loss: 0.7552 - acc: 0.7429 - val_loss: 1.2309 - val_acc: 0.5853\n",
      "Epoch 36/40\n",
      "50000/50000 [==============================] - 19s 387us/step - loss: 0.7430 - acc: 0.7446 - val_loss: 1.2312 - val_acc: 0.5883\n",
      "Epoch 37/40\n",
      "50000/50000 [==============================] - 19s 385us/step - loss: 0.7295 - acc: 0.7509 - val_loss: 1.2447 - val_acc: 0.5936\n",
      "Epoch 38/40\n",
      "50000/50000 [==============================] - 19s 384us/step - loss: 0.7167 - acc: 0.7560 - val_loss: 1.2937 - val_acc: 0.5807\n",
      "Epoch 39/40\n",
      "50000/50000 [==============================] - 19s 388us/step - loss: 0.7071 - acc: 0.7600 - val_loss: 1.2147 - val_acc: 0.5990\n",
      "Epoch 40/40\n",
      "50000/50000 [==============================] - 19s 385us/step - loss: 0.6935 - acc: 0.7624 - val_loss: 1.2097 - val_acc: 0.6004\n"
     ]
    }
   ],
   "source": [
    "# initialize the optimizer and model\n",
    "print(\"[INFO] compiling model...\")\n",
    "opt = SGD(lr=0.01)\n",
    "model = ShallowNet.build(width=32, height=32, depth=3, classes=10)\n",
    "model.compile(loss=\"categorical_crossentropy\", optimizer=opt, metrics=[\"accuracy\"])\n",
    "\n",
    "# train the network\n",
    "print(\"[INFO] training network...\")\n",
    "H = model.fit(trainX, trainY, validation_data=(testX, testY), batch_size=32, epochs=40, verbose=1)"
   ]
  },
  {
   "cell_type": "code",
   "execution_count": 10,
   "metadata": {},
   "outputs": [
    {
     "name": "stdout",
     "output_type": "stream",
     "text": [
      "[INFO] evaluating network...\n",
      "              precision    recall  f1-score   support\n",
      "\n",
      "    airplane       0.66      0.62      0.64      1000\n",
      "  automobile       0.73      0.72      0.73      1000\n",
      "        bird       0.42      0.52      0.46      1000\n",
      "         cat       0.44      0.39      0.41      1000\n",
      "        deer       0.51      0.54      0.53      1000\n",
      "         dog       0.46      0.54      0.49      1000\n",
      "        frog       0.72      0.68      0.70      1000\n",
      "       horse       0.79      0.58      0.66      1000\n",
      "        ship       0.76      0.70      0.73      1000\n",
      "       truck       0.65      0.72      0.68      1000\n",
      "\n",
      "    accuracy                           0.60     10000\n",
      "   macro avg       0.61      0.60      0.60     10000\n",
      "weighted avg       0.61      0.60      0.60     10000\n",
      "\n"
     ]
    }
   ],
   "source": [
    "# evaluate the network\n",
    "print(\"[INFO] evaluating network...\")\n",
    "predictions = model.predict(testX, batch_size=32)\n",
    "print(classification_report(testY.argmax(axis=1), predictions.argmax(axis=1), target_names=labelNames))"
   ]
  },
  {
   "cell_type": "code",
   "execution_count": 11,
   "metadata": {},
   "outputs": [
    {
     "data": {
      "image/png": "[encoded data removed]",
      "text/plain": [
       "<Figure size 720x576 with 1 Axes>"
      ]
     },
     "metadata": {},
     "output_type": "display_data"
    }
   ],
   "source": [
    "# plot the training loss and accuracy\n",
    "plt.style.use(\"ggplot\")\n",
    "plt.figure()\n",
    "plt.plot(np.arange(0, 40), H.history[\"loss\"], label=\"train_loss\")\n",
    "plt.plot(np.arange(0, 40), H.history[\"val_loss\"], label=\"val_loss\")\n",
    "plt.plot(np.arange(0, 40), H.history[\"acc\"], label=\"train_acc\")\n",
    "plt.plot(np.arange(0, 40), H.history[\"val_acc\"], label=\"val_acc\")\n",
    "plt.title(\"Training Loss and Accuracy\")\n",
    "plt.xlabel(\"Epoch #\")\n",
    "plt.ylabel(\"Loss/Accuracy\")\n",
    "plt.legend()\n",
    "plt.show()"
   ]
  }
 ],
 "metadata": {
  "kernelspec": {
   "display_name": "Python 3",
   "language": "python",
   "name": "python3"
  },
  "language_info": {
   "codemirror_mode": {
    "name": "ipython",
    "version": 3
   },
   "file_extension": ".py",
   "mimetype": "text/x-python",
   "name": "python",
   "nbconvert_exporter": "python",
   "pygments_lexer": "ipython3",
   "version": "3.6.9"
  }
 },
 "nbformat": 4,
 "nbformat_minor": 4
}
