{
 "cells": [
  {
   "cell_type": "markdown",
   "metadata": {},
   "source": [
    "# Softmax Sklearn CIFAR10"
   ]
  },
  {
   "cell_type": "code",
   "execution_count": 3,
   "metadata": {},
   "outputs": [],
   "source": [
    "# import the necessary packages\n",
    "from sklearn.preprocessing import LabelBinarizer\n",
    "from sklearn.model_selection import train_test_split\n",
    "from sklearn.metrics import classification_report\n",
    "from sklearn import datasets\n",
    "\n",
    "import matplotlib.pyplot as plt\n",
    "import numpy as np"
   ]
  },
  {
   "cell_type": "code",
   "execution_count": 4,
   "metadata": {},
   "outputs": [
    {
     "name": "stdout",
     "output_type": "stream",
     "text": [
      "[INFO] loading CIFAR-10 data...\n"
     ]
    }
   ],
   "source": [
    "from keras.datasets import cifar10\n",
    "\n",
    "# load the training and testing data, scale it into the range [0, 1],\n",
    "# then reshape the design matrix\n",
    "print(\"[INFO] loading CIFAR-10 data...\")\n",
    "((trainX, trainY), (testX, testY)) = cifar10.load_data()\n",
    "\n",
    "trainX = trainX.reshape((trainX.shape[0], 3072))\n",
    "testX = testX.reshape((testX.shape[0], 3072))"
   ]
  },
  {
   "cell_type": "code",
   "execution_count": 7,
   "metadata": {},
   "outputs": [
    {
     "name": "stderr",
     "output_type": "stream",
     "text": [
      "/home/pedro/miniconda3/envs/computer-vision/lib/python3.6/site-packages/sklearn/utils/validation.py:724: DataConversionWarning: A column-vector y was passed when a 1d array was expected. Please change the shape of y to (n_samples, ), for example using ravel().\n",
      "  y = column_or_1d(y, warn=True)\n",
      "[Parallel(n_jobs=1)]: Using backend SequentialBackend with 1 concurrent workers.\n"
     ]
    },
    {
     "name": "stdout",
     "output_type": "stream",
     "text": [
      "-- Epoch 1\n",
      "Norm: 23292.86, NNZs: 3072, Bias: -436.525398, T: 50000, Avg. loss: 4122855.689238\n",
      "Total training time: 0.18 seconds.\n",
      "-- Epoch 1\n",
      "Norm: 29202.92, NNZs: 3072, Bias: -46.446009, T: 50000, Avg. loss: 3061366.219909\n",
      "Total training time: 0.17 seconds.\n",
      "-- Epoch 1\n",
      "Norm: 22374.96, NNZs: 3072, Bias: 11.913047, T: 50000, Avg. loss: 3637503.229930\n",
      "Total training time: 0.18 seconds.\n",
      "-- Epoch 1\n",
      "Norm: 20488.07, NNZs: 3072, Bias: -87.653557, T: 50000, Avg. loss: 3529219.184254\n",
      "Total training time: 0.18 seconds.\n",
      "-- Epoch 1\n",
      "Norm: 19559.73, NNZs: 3072, Bias: 22.872850, T: 50000, Avg. loss: 3172621.689799\n",
      "Total training time: 0.18 seconds.\n",
      "-- Epoch 1\n",
      "Norm: 19333.52, NNZs: 3072, Bias: -230.989192, T: 50000, Avg. loss: 3438666.319309\n",
      "Total training time: 0.18 seconds.\n",
      "-- Epoch 1\n",
      "Norm: 23825.70, NNZs: 3072, Bias: 76.265290, T: 50000, Avg. loss: 2775185.199739\n",
      "Total training time: 0.17 seconds.\n",
      "-- Epoch 1\n",
      "Norm: 28441.43, NNZs: 3072, Bias: -130.942042, T: 50000, Avg. loss: 3238068.128997\n",
      "Total training time: 0.18 seconds.\n",
      "-- Epoch 1\n",
      "Norm: 25397.29, NNZs: 3072, Bias: -329.841844, T: 50000, Avg. loss: 3524814.973640\n",
      "Total training time: 0.18 seconds.\n",
      "-- Epoch 1\n",
      "Norm: 24874.52, NNZs: 3072, Bias: -120.974876, T: 50000, Avg. loss: 3339618.804834\n",
      "Total training time: 0.18 seconds.\n",
      "[INFO] accuracy: 19.43%\n"
     ]
    },
    {
     "name": "stderr",
     "output_type": "stream",
     "text": [
      "[Parallel(n_jobs=1)]: Done  10 out of  10 | elapsed:    1.8s finished\n",
      "/home/pedro/miniconda3/envs/computer-vision/lib/python3.6/site-packages/sklearn/linear_model/stochastic_gradient.py:561: ConvergenceWarning: Maximum number of iteration reached before convergence. Consider increasing max_iter to improve the fit.\n",
      "  ConvergenceWarning)\n"
     ]
    }
   ],
   "source": [
    "from sklearn.linear_model import SGDClassifier\n",
    "\n",
    "# train a SGD classifier using a softmax loss function and the\n",
    "# specified regularization function for 10 epochs\n",
    "model = SGDClassifier(loss=\"log\", penalty='l2', max_iter=1, verbose=1)\n",
    "model.fit(trainX, trainY)\n",
    "\n",
    "# evaluate the classifier\n",
    "acc = model.score(testX, testY)\n",
    "print(\"[INFO] accuracy: {:.2f}%\".format(acc * 100))"
   ]
  }
 ],
 "metadata": {
  "kernelspec": {
   "display_name": "Python 3",
   "language": "python",
   "name": "python3"
  },
  "language_info": {
   "codemirror_mode": {
    "name": "ipython",
    "version": 3
   },
   "file_extension": ".py",
   "mimetype": "text/x-python",
   "name": "python",
   "nbconvert_exporter": "python",
   "pygments_lexer": "ipython3",
   "version": "3.6.9"
  }
 },
 "nbformat": 4,
 "nbformat_minor": 4
}
