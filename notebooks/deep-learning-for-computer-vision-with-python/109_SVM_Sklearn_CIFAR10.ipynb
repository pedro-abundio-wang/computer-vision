{
 "cells": [
  {
   "cell_type": "markdown",
   "metadata": {},
   "source": [
    "# Softmax Sklearn CIFAR10"
   ]
  },
  {
   "cell_type": "code",
   "execution_count": null,
   "metadata": {},
   "outputs": [],
   "source": [
    "# import the necessary packages\n",
    "from sklearn.preprocessing import LabelBinarizer\n",
    "from sklearn.model_selection import train_test_split\n",
    "from sklearn.metrics import classification_report\n",
    "from sklearn import datasets\n",
    "\n",
    "import matplotlib.pyplot as plt\n",
    "import numpy as np"
   ]
  },
  {
   "cell_type": "code",
   "execution_count": null,
   "metadata": {},
   "outputs": [],
   "source": [
    "from keras.datasets import cifar10\n",
    "\n",
    "# load the training and testing data, scale it into the range [0, 1],\n",
    "# then reshape the design matrix\n",
    "print(\"[INFO] loading CIFAR-10 data...\")\n",
    "((trainX, trainY), (testX, testY)) = cifar10.load_data()\n",
    "\n",
    "trainX = trainX.reshape((trainX.shape[0], 3072))\n",
    "testX = testX.reshape((testX.shape[0], 3072))"
   ]
  },
  {
   "cell_type": "code",
   "execution_count": null,
   "metadata": {},
   "outputs": [],
   "source": [
    "# append the bias dimension of ones (i.e. bias trick) so that our SVM\n",
    "# only has to worry about optimizing a single weight matrix W.\n",
    "trainX = np.hstack([trainX, np.ones((trainX.shape[0], 1))])\n",
    "testX = np.hstack([testX, np.ones((testX.shape[0], 1))])\n",
    "\n",
    "print(trainX.shape, testX.shape)"
   ]
  },
  {
   "cell_type": "code",
   "execution_count": null,
   "metadata": {},
   "outputs": [],
   "source": [
    "from sklearn.linear_model import SGDClassifier\n",
    "model = SGDClassifier(loss=\"hinge\", penalty='l2', alpha=3e4, eta0=1e-7)"
   ]
  },
  {
   "cell_type": "code",
   "execution_count": null,
   "metadata": {},
   "outputs": [],
   "source": [
    "classes = ['plane', 'car', 'bird', 'cat', 'deer', 'dog', 'frog', 'horse', 'ship', 'truck']\n",
    "\n",
    "labelBinarizer = LabelBinarizer()\n",
    "classes = labelBinarizer.fit_transform(classes)\n",
    "\n",
    "batch_size = 200\n",
    "num_iters = 1000\n",
    "num_train = 50000\n",
    "\n",
    "for it in range(num_iters):\n",
    "    X_batch = None\n",
    "    y_batch = None\n",
    "\n",
    "    #########################################################################\n",
    "    # TODO:                                                                 #\n",
    "    # Sample batch_size elements from the training data and their           #\n",
    "    # corresponding labels to use in this round of gradient descent.        #\n",
    "    # Store the data in X_batch and their corresponding labels in           #\n",
    "    # y_batch; after sampling X_batch should have shape (batch_size, dim)   #\n",
    "    # and y_batch should have shape (batch_size,)                           #\n",
    "    #                                                                       #\n",
    "    # Hint: Use np.random.choice to generate indices. Sampling with         #\n",
    "    # replacement is faster than sampling without replacement.              #\n",
    "    #########################################################################\n",
    "    # *****START OF YOUR CODE (DO NOT DELETE/MODIFY THIS LINE)*****\n",
    "    batch_idx = np.random.choice(num_train, batch_size)\n",
    "    X_batch = trainX[batch_idx]\n",
    "    Y_batch = trainY[batch_idx]\n",
    "    model.partial_fit(X_batch, Y_batch.ravel(), classes=classes)"
   ]
  },
  {
   "cell_type": "code",
   "execution_count": null,
   "metadata": {},
   "outputs": [],
   "source": [
    "# evaluate the classifier\n",
    "acc = model.score(testX, testY.ravel())\n",
    "print(\"[INFO] accuracy: {:.2f}%\".format(acc * 100))"
   ]
  },
  {
   "cell_type": "markdown",
   "metadata": {},
   "source": [
    "Well Done"
   ]
  }
 ],
 "metadata": {
  "kernelspec": {
   "display_name": "Python 3",
   "language": "python",
   "name": "python3"
  },
  "language_info": {
   "codemirror_mode": {
    "name": "ipython",
    "version": 3
   },
   "file_extension": ".py",
   "mimetype": "text/x-python",
   "name": "python",
   "nbconvert_exporter": "python",
   "pygments_lexer": "ipython3",
   "version": "3.6.9"
  }
 },
 "nbformat": 4,
 "nbformat_minor": 4
}
