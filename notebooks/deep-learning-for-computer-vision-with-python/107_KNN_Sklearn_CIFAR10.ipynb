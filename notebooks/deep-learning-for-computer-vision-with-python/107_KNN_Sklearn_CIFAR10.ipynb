{
 "cells": [
  {
   "cell_type": "markdown",
   "metadata": {},
   "source": [
    "# KNN Sklearn CIFAR10"
   ]
  },
  {
   "cell_type": "code",
   "execution_count": null,
   "metadata": {},
   "outputs": [],
   "source": [
    "# import the necessary packages\n",
    "from sklearn.preprocessing import LabelBinarizer\n",
    "from sklearn.model_selection import train_test_split\n",
    "from sklearn.metrics import classification_report\n",
    "from sklearn import datasets\n",
    "\n",
    "import matplotlib.pyplot as plt\n",
    "import numpy as np"
   ]
  },
  {
   "cell_type": "code",
   "execution_count": null,
   "metadata": {},
   "outputs": [],
   "source": [
    "from keras.datasets import cifar10\n",
    "\n",
    "# load the training and testing data, scale it into the range [0, 1],\n",
    "# then reshape the design matrix\n",
    "print(\"[INFO] loading CIFAR-10 data...\")\n",
    "((trainX, trainY), (testX, testY)) = cifar10.load_data()\n",
    "\n",
    "trainX = trainX.reshape((trainX.shape[0], 3072))\n",
    "testX = testX.reshape((testX.shape[0], 3072))"
   ]
  },
  {
   "cell_type": "code",
   "execution_count": null,
   "metadata": {},
   "outputs": [],
   "source": [
    "print(\"[INFO] trainX matrix: {:.1f}MB\".format(trainX.nbytes / (1024 * 1000.0)))\n",
    "print(\"[INFO] testX matrix: {:.1f}MB\".format(testX.nbytes / (1024 * 1000.0)))"
   ]
  },
  {
   "cell_type": "code",
   "execution_count": null,
   "metadata": {},
   "outputs": [],
   "source": [
    "from sklearn.neighbors import KNeighborsClassifier\n",
    "\n",
    "classes = ['plane', 'car', 'bird', 'cat', 'deer', 'dog', 'frog', 'horse', 'ship', 'truck']\n",
    "\n",
    "# train and evaluate a k-NN classifier on the raw pixel intensities\n",
    "print(\"[INFO] evaluating k-NN classifier...\")\n",
    "k = 10\n",
    "# number of jobs for k-NN distance (-1 uses all available cores)\n",
    "# about 1 minute to fit\n",
    "model = KNeighborsClassifier(n_neighbors=k, n_jobs=-1, algorithm='ball_tree')\n",
    "model.fit(trainX, trainY)"
   ]
  },
  {
   "cell_type": "code",
   "execution_count": 6,
   "metadata": {},
   "outputs": [
    {
     "name": "stdout",
     "output_type": "stream",
     "text": [
      "              precision    recall  f1-score   support\n",
      "\n",
      "       plane       0.42      0.51      0.46      1000\n",
      "         car       0.77      0.18      0.30      1000\n",
      "        bird       0.22      0.44      0.29      1000\n",
      "         cat       0.30      0.19      0.23      1000\n",
      "        deer       0.23      0.54      0.32      1000\n",
      "         dog       0.43      0.22      0.29      1000\n",
      "        frog       0.33      0.26      0.29      1000\n",
      "       horse       0.72      0.20      0.31      1000\n",
      "        ship       0.38      0.70      0.49      1000\n",
      "       truck       0.79      0.15      0.25      1000\n",
      "\n",
      "    accuracy                           0.34     10000\n",
      "   macro avg       0.46      0.34      0.32     10000\n",
      "weighted avg       0.46      0.34      0.32     10000\n",
      "\n"
     ]
    }
   ],
   "source": [
    "# # about 10 minute to predict\n",
    "print(classification_report(testY, model.predict(testX), target_names=classes))"
   ]
  },
  {
   "cell_type": "markdown",
   "metadata": {},
   "source": [
    "Well Done"
   ]
  }
 ],
 "metadata": {
  "kernelspec": {
   "display_name": "Python 3",
   "language": "python",
   "name": "python3"
  },
  "language_info": {
   "codemirror_mode": {
    "name": "ipython",
    "version": 3
   },
   "file_extension": ".py",
   "mimetype": "text/x-python",
   "name": "python",
   "nbconvert_exporter": "python",
   "pygments_lexer": "ipython3",
   "version": "3.6.9"
  }
 },
 "nbformat": 4,
 "nbformat_minor": 4
}
