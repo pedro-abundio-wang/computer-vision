{
 "cells": [
  {
   "cell_type": "markdown",
   "metadata": {},
   "source": [
    "# Data Augmentation"
   ]
  },
  {
   "cell_type": "code",
   "execution_count": 8,
   "metadata": {},
   "outputs": [
    {
     "name": "stdout",
     "output_type": "stream",
     "text": [
      "The autoreload extension is already loaded. To reload it, use:\n",
      "  %reload_ext autoreload\n"
     ]
    }
   ],
   "source": [
    "import matplotlib.pyplot as plt\n",
    "\n",
    "# This is a bit of magic to make matplotlib figures appear  \n",
    "# inline in the notebook rather than in a new window.\n",
    "%matplotlib inline\n",
    "\n",
    "# set default size of plots\n",
    "plt.rcParams['figure.figsize'] = (10.0, 8.0)\n",
    "plt.rcParams['image.interpolation'] = 'nearest'\n",
    "plt.rcParams['image.cmap'] = 'gray'\n",
    "\n",
    "# Some more magic so that the notebook will reload external python modules;\n",
    "# see http://stackoverflow.com/questions/1907993/autoreload-of-modules-in-ipython\n",
    "%load_ext autoreload\n",
    "%autoreload 2"
   ]
  },
  {
   "cell_type": "code",
   "execution_count": 9,
   "metadata": {},
   "outputs": [],
   "source": [
    "# import the necessary packages\n",
    "from keras.preprocessing.image import ImageDataGenerator\n",
    "from keras.preprocessing.image import img_to_array\n",
    "from keras.preprocessing.image import load_img\n",
    "import numpy as np"
   ]
  },
  {
   "cell_type": "code",
   "execution_count": 10,
   "metadata": {},
   "outputs": [],
   "source": [
    "# path to the input image\n",
    "image = './datasets/images/panamera.jpg'\n",
    "# path to output directory to store augmentation examples\n",
    "output = './output/data-augmentation'\n",
    "# output filename prefix\n",
    "prefix = 'image'"
   ]
  },
  {
   "cell_type": "code",
   "execution_count": 11,
   "metadata": {},
   "outputs": [
    {
     "name": "stdout",
     "output_type": "stream",
     "text": [
      "[INFO] loading example image...\n"
     ]
    }
   ],
   "source": [
    "# load the input image, convert it to a NumPy array, and then\n",
    "# reshape it to have an extra dimension\n",
    "print(\"[INFO] loading example image...\")\n",
    "image = load_img(image)\n",
    "image = img_to_array(image)\n",
    "image = np.expand_dims(image, axis=0)"
   ]
  },
  {
   "cell_type": "code",
   "execution_count": 12,
   "metadata": {},
   "outputs": [],
   "source": [
    "# construct the image generator for data augmentation then\n",
    "# initialize the total number of images generated thus far\n",
    "aug = ImageDataGenerator(rotation_range=30, width_shift_range=0.1, height_shift_range=0.1, \n",
    "                         shear_range=0.2, zoom_range=0.2, horizontal_flip=True, fill_mode=\"nearest\")\n",
    "total = 0"
   ]
  },
  {
   "cell_type": "code",
   "execution_count": 6,
   "metadata": {},
   "outputs": [
    {
     "name": "stdout",
     "output_type": "stream",
     "text": [
      "[INFO] generating images...\n"
     ]
    }
   ],
   "source": [
    "# construct the actual Python generator\n",
    "print(\"[INFO] generating images...\")\n",
    "imageGen = aug.flow(image, batch_size=1, save_to_dir=output, save_prefix=prefix, save_format=\"jpg\")\n",
    "\n",
    "# loop over examples from our image data augmentation generator\n",
    "for image in imageGen:\n",
    "    # increment our counter\n",
    "    total += 1\n",
    "\n",
    "    # if we have reached 10 examples, break from the loop\n",
    "    if total == 10:\n",
    "        break"
   ]
  },
  {
   "cell_type": "markdown",
   "metadata": {},
   "source": [
    "# Data Augmentation MiniVGG CIFAR10"
   ]
  },
  {
   "cell_type": "code",
   "execution_count": 13,
   "metadata": {},
   "outputs": [],
   "source": [
    "# import the necessary packages\n",
    "from sklearn.preprocessing import LabelBinarizer\n",
    "from sklearn.metrics import classification_report\n",
    "from keras.models import Sequential\n",
    "from keras.layers.core import Dense\n",
    "from keras.optimizers import SGD\n",
    "from keras.datasets import cifar10\n",
    "import matplotlib.pyplot as plt\n",
    "import numpy as np"
   ]
  },
  {
   "cell_type": "code",
   "execution_count": 14,
   "metadata": {},
   "outputs": [
    {
     "name": "stdout",
     "output_type": "stream",
     "text": [
      "[INFO] loading CIFAR-10 data...\n"
     ]
    }
   ],
   "source": [
    "# load the training and testing data, scale it into the range [0, 1],\n",
    "# then reshape the design matrix\n",
    "print(\"[INFO] loading CIFAR-10 data...\")\n",
    "((trainX, trainY), (testX, testY)) = cifar10.load_data()\n",
    "trainX = trainX.astype(\"float\") / 255.0\n",
    "testX = testX.astype(\"float\") / 255.0"
   ]
  },
  {
   "cell_type": "code",
   "execution_count": 15,
   "metadata": {},
   "outputs": [],
   "source": [
    "# convert the labels from integers to vectors\n",
    "labelBinarizer = LabelBinarizer()\n",
    "trainY = labelBinarizer.fit_transform(trainY)\n",
    "testY = labelBinarizer.fit_transform(testY)"
   ]
  },
  {
   "cell_type": "code",
   "execution_count": 16,
   "metadata": {},
   "outputs": [],
   "source": [
    "# initialize the label names for the CIFAR-10 dataset\n",
    "labelNames = [\"airplane\", \"automobile\", \"bird\", \"cat\", \"deer\", \"dog\", \"frog\", \"horse\", \"ship\", \"truck\"]"
   ]
  },
  {
   "cell_type": "code",
   "execution_count": 17,
   "metadata": {},
   "outputs": [],
   "source": [
    "from keras.preprocessing.image import ImageDataGenerator\n",
    "from classifiers.mini_vgg import MiniVGGNet"
   ]
  },
  {
   "cell_type": "code",
   "execution_count": 18,
   "metadata": {},
   "outputs": [],
   "source": [
    "# construct the image generator for data augmentation\n",
    "aug = ImageDataGenerator(rotation_range=30, width_shift_range=0.1,\n",
    "                         height_shift_range=0.1, shear_range=0.2, zoom_range=0.2,\n",
    "                         horizontal_flip=True, fill_mode=\"nearest\")"
   ]
  },
  {
   "cell_type": "code",
   "execution_count": 19,
   "metadata": {},
   "outputs": [
    {
     "name": "stdout",
     "output_type": "stream",
     "text": [
      "[INFO] compiling model...\n"
     ]
    }
   ],
   "source": [
    "# initialize the optimizer and model\n",
    "print(\"[INFO] compiling model...\")\n",
    "opt = SGD(lr=0.05)\n",
    "miniVGG = MiniVGGNet()\n",
    "model = miniVGG.build(width=32, height=32, depth=3, classes=len(labelNames))\n",
    "model.compile(loss=\"categorical_crossentropy\", optimizer=opt, metrics=[\"accuracy\"])"
   ]
  },
  {
   "cell_type": "code",
   "execution_count": 14,
   "metadata": {
    "scrolled": false
   },
   "outputs": [
    {
     "name": "stdout",
     "output_type": "stream",
     "text": [
      "[INFO] training network...\n",
      "Epoch 1/40\n",
      "781/781 [==============================] - 19s 24ms/step - loss: 1.8497 - acc: 0.3774 - val_loss: 1.3753 - val_acc: 0.5106\n",
      "Epoch 2/40\n",
      "781/781 [==============================] - 18s 23ms/step - loss: 1.4885 - acc: 0.4704 - val_loss: 1.2008 - val_acc: 0.5661\n",
      "Epoch 3/40\n",
      "781/781 [==============================] - 18s 23ms/step - loss: 1.3550 - acc: 0.5175 - val_loss: 1.3633 - val_acc: 0.5469\n",
      "Epoch 4/40\n",
      "781/781 [==============================] - 18s 23ms/step - loss: 1.2756 - acc: 0.5486 - val_loss: 0.9969 - val_acc: 0.6533\n",
      "Epoch 5/40\n",
      "781/781 [==============================] - 18s 23ms/step - loss: 1.2097 - acc: 0.5705 - val_loss: 1.3112 - val_acc: 0.5907\n",
      "Epoch 6/40\n",
      "781/781 [==============================] - 18s 23ms/step - loss: 1.1492 - acc: 0.5910 - val_loss: 1.0019 - val_acc: 0.6592\n",
      "Epoch 7/40\n",
      "781/781 [==============================] - 18s 23ms/step - loss: 1.1092 - acc: 0.6062 - val_loss: 0.9483 - val_acc: 0.6758\n",
      "Epoch 8/40\n",
      "781/781 [==============================] - 18s 23ms/step - loss: 1.0807 - acc: 0.6191 - val_loss: 1.0150 - val_acc: 0.6634\n",
      "Epoch 9/40\n",
      "781/781 [==============================] - 18s 23ms/step - loss: 1.0524 - acc: 0.6298 - val_loss: 1.0220 - val_acc: 0.6477\n",
      "Epoch 10/40\n",
      "781/781 [==============================] - 18s 23ms/step - loss: 1.0179 - acc: 0.6409 - val_loss: 1.0206 - val_acc: 0.6697\n",
      "Epoch 11/40\n",
      "781/781 [==============================] - 18s 23ms/step - loss: 1.0008 - acc: 0.6483 - val_loss: 0.9219 - val_acc: 0.6899\n",
      "Epoch 12/40\n",
      "781/781 [==============================] - 18s 23ms/step - loss: 0.9782 - acc: 0.6547 - val_loss: 0.8508 - val_acc: 0.7123\n",
      "Epoch 13/40\n",
      "781/781 [==============================] - 18s 23ms/step - loss: 0.9580 - acc: 0.6641 - val_loss: 1.0749 - val_acc: 0.6566\n",
      "Epoch 14/40\n",
      "781/781 [==============================] - 18s 23ms/step - loss: 0.9424 - acc: 0.6699 - val_loss: 0.8822 - val_acc: 0.7055\n",
      "Epoch 15/40\n",
      "781/781 [==============================] - 18s 23ms/step - loss: 0.9239 - acc: 0.6766 - val_loss: 0.8922 - val_acc: 0.6986\n",
      "Epoch 16/40\n",
      "781/781 [==============================] - 18s 23ms/step - loss: 0.9073 - acc: 0.6804 - val_loss: 0.8880 - val_acc: 0.7043\n",
      "Epoch 17/40\n",
      "781/781 [==============================] - 18s 23ms/step - loss: 0.8924 - acc: 0.6902 - val_loss: 0.8406 - val_acc: 0.7223\n",
      "Epoch 18/40\n",
      "781/781 [==============================] - 18s 23ms/step - loss: 0.8877 - acc: 0.6899 - val_loss: 0.8144 - val_acc: 0.7240\n",
      "Epoch 19/40\n",
      "781/781 [==============================] - 18s 23ms/step - loss: 0.8663 - acc: 0.6958 - val_loss: 0.8695 - val_acc: 0.7163\n",
      "Epoch 20/40\n",
      "781/781 [==============================] - 18s 23ms/step - loss: 0.8551 - acc: 0.7005 - val_loss: 0.8854 - val_acc: 0.7138\n",
      "Epoch 21/40\n",
      "781/781 [==============================] - 18s 23ms/step - loss: 0.8528 - acc: 0.7033 - val_loss: 0.8231 - val_acc: 0.7266\n",
      "Epoch 22/40\n",
      "781/781 [==============================] - 18s 23ms/step - loss: 0.8391 - acc: 0.7057 - val_loss: 0.7381 - val_acc: 0.7534\n",
      "Epoch 23/40\n",
      "781/781 [==============================] - 18s 23ms/step - loss: 0.8230 - acc: 0.7118 - val_loss: 0.7214 - val_acc: 0.7550\n",
      "Epoch 24/40\n",
      "781/781 [==============================] - 18s 23ms/step - loss: 0.8183 - acc: 0.7145 - val_loss: 0.7565 - val_acc: 0.7512\n",
      "Epoch 25/40\n",
      "781/781 [==============================] - 18s 23ms/step - loss: 0.8056 - acc: 0.7176 - val_loss: 0.7974 - val_acc: 0.7361\n",
      "Epoch 26/40\n",
      "781/781 [==============================] - 18s 23ms/step - loss: 0.8073 - acc: 0.7170 - val_loss: 0.7213 - val_acc: 0.7569\n",
      "Epoch 27/40\n",
      "781/781 [==============================] - 18s 23ms/step - loss: 0.7970 - acc: 0.7214 - val_loss: 0.6867 - val_acc: 0.7661\n",
      "Epoch 28/40\n",
      "781/781 [==============================] - 18s 23ms/step - loss: 0.7903 - acc: 0.7239 - val_loss: 0.6821 - val_acc: 0.7669\n",
      "Epoch 29/40\n",
      "781/781 [==============================] - 18s 23ms/step - loss: 0.7830 - acc: 0.7247 - val_loss: 0.7526 - val_acc: 0.7480\n",
      "Epoch 30/40\n",
      "781/781 [==============================] - 18s 23ms/step - loss: 0.7827 - acc: 0.7279 - val_loss: 0.7235 - val_acc: 0.7617\n",
      "Epoch 31/40\n",
      "781/781 [==============================] - 18s 23ms/step - loss: 0.7714 - acc: 0.7316 - val_loss: 0.7413 - val_acc: 0.7536\n",
      "Epoch 32/40\n",
      "781/781 [==============================] - 18s 23ms/step - loss: 0.7567 - acc: 0.7372 - val_loss: 0.8047 - val_acc: 0.7357\n",
      "Epoch 33/40\n",
      "781/781 [==============================] - 18s 23ms/step - loss: 0.7558 - acc: 0.7380 - val_loss: 0.6943 - val_acc: 0.7678\n",
      "Epoch 34/40\n",
      "781/781 [==============================] - 18s 23ms/step - loss: 0.7496 - acc: 0.7386 - val_loss: 0.6944 - val_acc: 0.7656\n",
      "Epoch 35/40\n",
      "781/781 [==============================] - 18s 23ms/step - loss: 0.7451 - acc: 0.7408 - val_loss: 0.6909 - val_acc: 0.7676\n",
      "Epoch 36/40\n",
      "781/781 [==============================] - 18s 23ms/step - loss: 0.7344 - acc: 0.7432 - val_loss: 0.7838 - val_acc: 0.7419\n",
      "Epoch 37/40\n",
      "781/781 [==============================] - 18s 23ms/step - loss: 0.7346 - acc: 0.7448 - val_loss: 0.9428 - val_acc: 0.7077\n",
      "Epoch 38/40\n",
      "781/781 [==============================] - 18s 23ms/step - loss: 0.7309 - acc: 0.7458 - val_loss: 0.6567 - val_acc: 0.7775\n",
      "Epoch 39/40\n",
      "781/781 [==============================] - 18s 23ms/step - loss: 0.7196 - acc: 0.7470 - val_loss: 0.6203 - val_acc: 0.7907\n",
      "Epoch 40/40\n",
      "781/781 [==============================] - 18s 23ms/step - loss: 0.7169 - acc: 0.7492 - val_loss: 0.6747 - val_acc: 0.7723\n"
     ]
    }
   ],
   "source": [
    "# train the network\n",
    "print(\"[INFO] training network...\")\n",
    "H = model.fit_generator(aug.flow(trainX, trainY, batch_size=64), \n",
    "                        validation_data=(testX, testY), steps_per_epoch=len(trainX)//64,\n",
    "                        epochs=40, verbose=1)"
   ]
  },
  {
   "cell_type": "code",
   "execution_count": 15,
   "metadata": {},
   "outputs": [
    {
     "name": "stdout",
     "output_type": "stream",
     "text": [
      "[INFO] evaluating network...\n",
      "              precision    recall  f1-score   support\n",
      "\n",
      "    airplane       0.88      0.73      0.80      1000\n",
      "  automobile       0.87      0.90      0.88      1000\n",
      "        bird       0.84      0.59      0.69      1000\n",
      "         cat       0.76      0.53      0.63      1000\n",
      "        deer       0.83      0.66      0.73      1000\n",
      "         dog       0.78      0.67      0.72      1000\n",
      "        frog       0.59      0.95      0.73      1000\n",
      "       horse       0.81      0.86      0.84      1000\n",
      "        ship       0.92      0.87      0.90      1000\n",
      "       truck       0.66      0.96      0.78      1000\n",
      "\n",
      "    accuracy                           0.77     10000\n",
      "   macro avg       0.79      0.77      0.77     10000\n",
      "weighted avg       0.79      0.77      0.77     10000\n",
      "\n"
     ]
    },
    {
     "data": {
      "image/png": "[encoded data removed]",
      "text/plain": [
       "<Figure size 720x576 with 1 Axes>"
      ]
     },
     "metadata": {},
     "output_type": "display_data"
    }
   ],
   "source": [
    "# evaluate the network\n",
    "print(\"[INFO] evaluating network...\")\n",
    "predictions = model.predict(testX, batch_size=32)\n",
    "print(classification_report(testY.argmax(axis=1), predictions.argmax(axis=1), target_names=labelNames))\n",
    "\n",
    "# plot the training loss and accuracy\n",
    "plt.style.use(\"ggplot\")\n",
    "plt.figure()\n",
    "plt.plot(np.arange(0, 40), H.history[\"loss\"], label=\"train_loss\")\n",
    "plt.plot(np.arange(0, 40), H.history[\"val_loss\"], label=\"val_loss\")\n",
    "plt.plot(np.arange(0, 40), H.history[\"acc\"], label=\"train_acc\")\n",
    "plt.plot(np.arange(0, 40), H.history[\"val_acc\"], label=\"val_acc\")\n",
    "plt.title(\"Training Loss and Accuracy\")\n",
    "plt.xlabel(\"Epoch #\")\n",
    "plt.ylabel(\"Loss/Accuracy\")\n",
    "plt.legend()\n",
    "plt.show()"
   ]
  },
  {
   "cell_type": "markdown",
   "metadata": {},
   "source": [
    "Well Done"
   ]
  }
 ],
 "metadata": {
  "kernelspec": {
   "display_name": "Python 3",
   "language": "python",
   "name": "python3"
  },
  "language_info": {
   "codemirror_mode": {
    "name": "ipython",
    "version": 3
   },
   "file_extension": ".py",
   "mimetype": "text/x-python",
   "name": "python",
   "nbconvert_exporter": "python",
   "pygments_lexer": "ipython3",
   "version": "3.6.9"
  }
 },
 "nbformat": 4,
 "nbformat_minor": 4
}
