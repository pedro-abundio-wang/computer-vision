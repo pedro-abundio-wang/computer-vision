{
 "cells": [
  {
   "cell_type": "code",
   "execution_count": 1,
   "metadata": {},
   "outputs": [],
   "source": [
    "import dbcollection as dbc"
   ]
  },
  {
   "cell_type": "code",
   "execution_count": 2,
   "metadata": {},
   "outputs": [
    {
     "data": {
      "text/plain": [
       "'/home/pedro/dbcollection'"
      ]
     },
     "execution_count": 2,
     "metadata": {},
     "output_type": "execute_result"
    }
   ],
   "source": [
    "dbc.cache.cache_dir"
   ]
  },
  {
   "cell_type": "code",
   "execution_count": 3,
   "metadata": {},
   "outputs": [
    {
     "data": {
      "text/plain": [
       "'/home/pedro/dbcollection/downloaded_data'"
      ]
     },
     "execution_count": 3,
     "metadata": {},
     "output_type": "execute_result"
    }
   ],
   "source": [
    "dbc.cache.download_dir"
   ]
  },
  {
   "cell_type": "code",
   "execution_count": 4,
   "metadata": {
    "scrolled": false
   },
   "outputs": [
    {
     "name": "stdout",
     "output_type": "stream",
     "text": [
      "----------------------------------------\n",
      "  Available datasets in cache for load \n",
      "----------------------------------------\n",
      "  - mnist  ['classification']\n",
      "\n",
      "-----------------------------------\n",
      "  Available datasets for download \n",
      "-----------------------------------\n",
      "  - caltech_pedestrian  ['detection', 'detection_10x', 'detection_30x']\n",
      "  - cifar10  ['classification']\n",
      "  - cifar100  ['classification']\n",
      "  - coco  ['caption_2015', 'caption_2016', 'detection_2015', 'detection_2016', 'keypoints_2016']\n",
      "  - flic  ['keypoints']\n",
      "  - ilsvrc2012  ['classification', 'raw256']\n",
      "  - inria_pedestrian  ['detection']\n",
      "  - leeds_sports_pose  ['keypoints', 'keypoints_original']\n",
      "  - leeds_sports_pose_extended  ['keypoints']\n",
      "  - mnist  ['classification']\n",
      "  - mpii_pose  ['keypoints', 'keypoints_full']\n",
      "  - pascal_voc_2007  ['detection']\n",
      "  - pascal_voc_2012  ['detection']\n",
      "  - ucf_101  ['recognition']\n",
      "  - ucf_sports  ['recognition']\n"
     ]
    }
   ],
   "source": [
    "dbc.info_datasets()"
   ]
  },
  {
   "cell_type": "code",
   "execution_count": 5,
   "metadata": {},
   "outputs": [
    {
     "name": "stdout",
     "output_type": "stream",
     "text": [
      "==> Download mnist data to disk...\n",
      "==> Download complete.\n"
     ]
    }
   ],
   "source": [
    "dbc.download('mnist', extract_data=False)"
   ]
  },
  {
   "cell_type": "code",
   "execution_count": 6,
   "metadata": {},
   "outputs": [
    {
     "name": "stdout",
     "output_type": "stream",
     "text": [
      "\n",
      "Processing 'classification' task:\n",
      "\n",
      "==> Storing metadata to file: /home/pedro/dbcollection/mnist/classification.h5\n",
      "\n",
      "Saving set metadata: train\n",
      "\n",
      "Saving set metadata: test\n",
      "==> Processing complete.\n"
     ]
    }
   ],
   "source": [
    "dbc.process('mnist')"
   ]
  },
  {
   "cell_type": "code",
   "execution_count": 7,
   "metadata": {},
   "outputs": [
    {
     "name": "stderr",
     "output_type": "stream",
     "text": [
      "/home/pedro/miniconda3/envs/computer-vision/lib/python3.6/site-packages/dbcollection/core/loader.py:228: H5pyDeprecationWarning: dataset.value has been deprecated. Use dataset[()] instead.\n",
      "  self._object_fields = tuple(convert_ascii_to_str(hdf5_group['object_fields'].value))\n",
      "/home/pedro/miniconda3/envs/computer-vision/lib/python3.6/site-packages/dbcollection/core/loader.py:569: H5pyDeprecationWarning: dataset.value has been deprecated. Use dataset[()] instead.\n",
      "  data = self.hdf5_file['/{}/object_fields'.format(set_name)].value\n"
     ]
    }
   ],
   "source": [
    "mnist = dbc.load('mnist', task='classification')"
   ]
  },
  {
   "cell_type": "code",
   "execution_count": 8,
   "metadata": {},
   "outputs": [
    {
     "name": "stdout",
     "output_type": "stream",
     "text": [
      "\n",
      "> Set: test\n",
      "   - classes,        shape = (10, 2),          dtype = uint8   \n",
      "   - images,         shape = (10000, 28, 28),  dtype = uint8,  (in 'object_ids', position = 0)\n",
      "   - labels,         shape = (10000,),         dtype = uint8,  (in 'object_ids', position = 1)\n",
      "   - object_fields,  shape = (2, 7),           dtype = uint8   \n",
      "   - object_ids,     shape = (10000, 2),       dtype = int32   \n",
      "\n",
      "   (Pre-ordered lists)\n",
      "   - list_images_per_class,  shape = (10, 1135),  dtype = int32\n",
      "\n",
      "> Set: train\n",
      "   - classes,        shape = (10, 2),          dtype = uint8   \n",
      "   - images,         shape = (60000, 28, 28),  dtype = uint8,  (in 'object_ids', position = 0)\n",
      "   - labels,         shape = (60000,),         dtype = uint8,  (in 'object_ids', position = 1)\n",
      "   - object_fields,  shape = (2, 7),           dtype = uint8   \n",
      "   - object_ids,     shape = (60000, 2),       dtype = int32   \n",
      "\n",
      "   (Pre-ordered lists)\n",
      "   - list_images_per_class,  shape = (10, 6742),  dtype = int32\n"
     ]
    }
   ],
   "source": [
    "mnist.info()"
   ]
  },
  {
   "cell_type": "code",
   "execution_count": 40,
   "metadata": {},
   "outputs": [
    {
     "data": {
      "text/plain": [
       "{'test': ('images', 'labels'), 'train': ('images', 'labels')}"
      ]
     },
     "execution_count": 40,
     "metadata": {},
     "output_type": "execute_result"
    }
   ],
   "source": [
    "mnist.object_fields"
   ]
  },
  {
   "cell_type": "code",
   "execution_count": 42,
   "metadata": {},
   "outputs": [
    {
     "data": {
      "text/plain": [
       "FieldLoader: <HDF5 dataset \"object_fields\": shape (2, 7), type \"|u1\">"
      ]
     },
     "execution_count": 42,
     "metadata": {},
     "output_type": "execute_result"
    }
   ],
   "source": [
    "mnist.train.object_fields"
   ]
  },
  {
   "cell_type": "code",
   "execution_count": 49,
   "metadata": {},
   "outputs": [],
   "source": [
    "imgs = mnist.get('train', 'images', range(1))"
   ]
  },
  {
   "cell_type": "code",
   "execution_count": 52,
   "metadata": {},
   "outputs": [],
   "source": [
    "import matplotlib.pyplot as plt"
   ]
  },
  {
   "cell_type": "code",
   "execution_count": 54,
   "metadata": {},
   "outputs": [
    {
     "data": {
      "text/plain": [
       "<matplotlib.image.AxesImage at 0x7f4e52beac88>"
      ]
     },
     "execution_count": 54,
     "metadata": {},
     "output_type": "execute_result"
    },
    {
     "data": {
      "image/png": "[encoded data removed]",
      "text/plain": [
       "<Figure size 432x288 with 1 Axes>"
      ]
     },
     "metadata": {
      "needs_background": "light"
     },
     "output_type": "display_data"
    }
   ],
   "source": [
    "plt.imshow(imgs[0])"
   ]
  },
  {
   "cell_type": "code",
   "execution_count": null,
   "metadata": {},
   "outputs": [],
   "source": []
  }
 ],
 "metadata": {
  "kernelspec": {
   "display_name": "Python 3",
   "language": "python",
   "name": "python3"
  },
  "language_info": {
   "codemirror_mode": {
    "name": "ipython",
    "version": 3
   },
   "file_extension": ".py",
   "mimetype": "text/x-python",
   "name": "python",
   "nbconvert_exporter": "python",
   "pygments_lexer": "ipython3",
   "version": "3.6.9"
  }
 },
 "nbformat": 4,
 "nbformat_minor": 4
}
