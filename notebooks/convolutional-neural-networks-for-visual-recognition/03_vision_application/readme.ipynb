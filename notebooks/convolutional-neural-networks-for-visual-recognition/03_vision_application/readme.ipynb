{
 "cells": [
  {
   "cell_type": "markdown",
   "metadata": {},
   "source": [
    "You will implement recurrent networks, and apply them to image captioning on Microsoft COCO. You will also explore methods for visualizing the features of a pretrained model on ImageNet, and also this model to implement Style Transfer. Finally, you will train a Generative Adversarial Network to generate images that look like a training dataset!\n",
    "\n",
    "The goals of this assignment are as follows:\n",
    "\n",
    "- Understand the architecture of *recurrent neural networks (RNNs)* and how they operate on sequences by sharing weights over time\n",
    "- Understand and implement both Vanilla RNNs and Long-Short Term Memory (LSTM) networks.\n",
    "- Understand how to combine convolutional neural nets and recurrent nets to implement an image captioning system\n",
    "- Explore various applications of image gradients, including saliency maps, fooling images, class visualizations.\n",
    "- Understand and implement techniques for image style transfer.\n",
    "- Understand how to train and implement a Generative Adversarial Network (GAN) to produce images that resemble samples from a dataset. \n",
    "\n",
    "### Download data:\n",
    "Once you have the starter code, you will need to download the COCO captioning data,  pretrained SqueezeNet model (TensorFlow-only), and a few ImageNet validation images.\n",
    "Run the following from the `assignment3` directory:\n",
    "\n",
    "```bash\n",
    "cd cs231n/datasets\n",
    "./get_assignment3_data.sh\n",
    "```\n",
    "\n",
    "### Some Notes\n",
    "**NOTE 1:** This year, the `assignment3` code has been tested to be compatible with python version `3.7` (it may work with other versions of `3.x`, but we won't be officially supporting them). You will need to make sure that during your virtual environment setup that the correct version of `python` is used. You can confirm your python version by (1) activating your virtualenv and (2) running `which python`.\n",
    "\n",
    "**NOTE 2: Please make sure that the submitted notebooks have been run and saved, and the cell outputs are visible on your pdfs.** In addition, please **do not use the Web AFS interface** to retrieve your pdfs, and rely on **scp commands** directly, as there is a known Web AFS caching bug University IT is looking at that causes AFS files to not be properly updated with their most current version.\n",
    "\n",
    "#### You can do Questions 3, 4, and 5 in TensorFlow or PyTorch. There are two versions of each of these notebooks, one for TensorFlow and one for PyTorch. No extra credit will be awarded if you do a question in both TensorFlow and PyTorch.\n",
    "\n",
    "### Q1: Image Captioning with Vanilla RNNs (25 points)\n",
    "The Jupyter notebook `RNN_Captioning.ipynb` will walk you through the\n",
    "implementation of an image captioning system on MS-COCO using vanilla recurrent\n",
    "networks.\n",
    "\n",
    "### Q2: Image Captioning with LSTMs (30 points)\n",
    "The Jupyter notebook `LSTM_Captioning.ipynb` will walk you through the\n",
    "implementation of Long-Short Term Memory (LSTM) RNNs, and apply them to image\n",
    "captioning on MS-COCO.\n",
    "\n",
    "### Q3: Network Visualization: Saliency maps, Class Visualization, and Fooling Images (15 points)\n",
    "The Jupyter notebooks `NetworkVisualization-TensorFlow.ipynb` /`NetworkVisualization-PyTorch.ipynb` will introduce the pretrained SqueezeNet model, compute gradients\n",
    "with respect to images, and use them to produce saliency maps and fooling\n",
    "images. Please complete only one of the notebooks (TensorFlow or PyTorch). No extra credit will be awardeded if you complete both notebooks.\n",
    "\n",
    "### Q4: Style Transfer (15 points)\n",
    "In the Jupyter notebooks `StyleTransfer-TensorFlow.ipynb`/`StyleTransfer-PyTorch.ipynb` you will learn how to create images with the content of one image but the style of another. Please complete only one of the notebooks (TensorFlow or PyTorch). No extra credit will be awardeded if you complete both notebooks.\n",
    "\n",
    "### Q5: Generative Adversarial Networks (15 points)\n",
    "In the Jupyter notebooks `GANS-TensorFlow.ipynb`/`GANS-PyTorch.ipynb` you will learn how to generate images that match a training dataset, and use these models to improve classifier performance when training on a large amount of unlabeled data and a small amount of labeled data. Please complete only one of the notebooks (TensorFlow or PyTorch). No extra credit will be awarded if you complete both notebooks."
   ]
  }
 ],
 "metadata": {
  "kernelspec": {
   "display_name": "Python 3",
   "language": "python",
   "name": "python3"
  },
  "language_info": {
   "codemirror_mode": {
    "name": "ipython",
    "version": 3
   },
   "file_extension": ".py",
   "mimetype": "text/x-python",
   "name": "python",
   "nbconvert_exporter": "python",
   "pygments_lexer": "ipython3",
   "version": "3.6.9"
  }
 },
 "nbformat": 4,
 "nbformat_minor": 4
}
