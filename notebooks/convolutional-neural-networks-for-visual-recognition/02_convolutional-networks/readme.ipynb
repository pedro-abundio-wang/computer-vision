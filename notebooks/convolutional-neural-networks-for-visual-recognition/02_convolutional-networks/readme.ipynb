{
 "cells": [
  {
   "cell_type": "markdown",
   "metadata": {},
   "source": [
    "## Introduction\n",
    "\n",
    "You will practice writing backpropagation code, and training Neural Networks and Convolutional Neural Networks. The goals of this assignment are as follows:\n",
    "\n",
    "- understand **Neural Networks** and how they are arranged in layered\n",
    "  architectures\n",
    "- understand and be able to implement (vectorized) **backpropagation**\n",
    "- implement various **update rules** used to optimize Neural Networks\n",
    "- implement **Batch Normalization** and **Layer Normalization** for training deep networks\n",
    "- implement **Dropout** to regularize networks\n",
    "- understand the architecture of **Convolutional Neural Networks** and\n",
    "  get practice with training these models on data\n",
    "- gain experience with a major deep learning framework, such as **TensorFlow** or **PyTorch**."
   ]
  },
  {
   "cell_type": "markdown",
   "metadata": {},
   "source": [
    "### Q1: Fully-connected Neural Network (20 points)\n",
    "\n",
    "The IPython notebook `FullyConnectedNets.ipynb` will introduce you to our modular layer design, and then use those layers to implement fully-connected networks of arbitrary depth. To optimize these models you will implement several popular update rules."
   ]
  },
  {
   "cell_type": "markdown",
   "metadata": {},
   "source": [
    "### Q2: Batch Normalization (30 points)\n",
    "\n",
    "In the IPython notebook `BatchNormalization.ipynb` you will implement batch normalization, and use it to train deep fully-connected networks."
   ]
  },
  {
   "cell_type": "markdown",
   "metadata": {},
   "source": [
    "### Q3: Dropout (10 points)\n",
    "\n",
    "The IPython notebook `Dropout.ipynb` will help you implement Dropout and explore its effects on model generalization."
   ]
  },
  {
   "cell_type": "markdown",
   "metadata": {},
   "source": [
    "### Q4: Convolutional Networks (30 points)\n",
    "\n",
    "In the IPython Notebook `ConvolutionalNetworks.ipynb` you will implement several new layers that are commonly used in convolutional networks."
   ]
  },
  {
   "cell_type": "markdown",
   "metadata": {},
   "source": [
    "### Q5: PyTorch / TensorFlow on CIFAR-10 (10 points)\n",
    "\n",
    "For this last part, you will be working in either TensorFlow or PyTorch, two popular and powerful deep learning frameworks. Open up either `PyTorch.ipynb` or `TensorFlow.ipynb`. There, you will learn how the framework works, culminating in training a  convolutional network of your own design on CIFAR-10 to get the best performance you can.\n",
    "\n",
    "**NOTE 1**: The PyTorch notebook requires PyTorch version 1.x, which comes pre-installed on the Google cloud instances.\n",
    "\n",
    "**NOTE 2**: The TensorFlow notebook requires Tensorflow version 2.0."
   ]
  }
 ],
 "metadata": {
  "kernelspec": {
   "display_name": "Python 3",
   "language": "python",
   "name": "python3"
  },
  "language_info": {
   "codemirror_mode": {
    "name": "ipython",
    "version": 3
   },
   "file_extension": ".py",
   "mimetype": "text/x-python",
   "name": "python",
   "nbconvert_exporter": "python",
   "pygments_lexer": "ipython3",
   "version": "3.6.9"
  }
 },
 "nbformat": 4,
 "nbformat_minor": 4
}
