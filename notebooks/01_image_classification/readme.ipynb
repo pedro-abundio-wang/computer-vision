{
 "cells": [
  {
   "cell_type": "markdown",
   "metadata": {},
   "source": [
    "## Introduction\n",
    "\n",
    "You will practice putting together a simple image classification pipeline, based on the k-Nearest Neighbor or the SVM/Softmax classifier. The goals of this assignment are as follows:\n",
    "\n",
    "- understand the basic **Image Classification pipeline** and the data-driven approach (train/predict stages)\n",
    "- understand the train/val/test **splits** and the use of validation data for **hyperparameter tuning**.\n",
    "- develop proficiency in writing efficient **vectorized** code with numpy\n",
    "- implement and apply a k-Nearest Neighbor (**kNN**) classifier\n",
    "- implement and apply a Multiclass Support Vector Machine (**SVM**) classifier\n",
    "- implement and apply a **Softmax** classifier\n",
    "- implement and apply a **Two layer neural network** classifier\n",
    "- understand the differences and tradeoffs between these classifiers\n",
    "- get a basic understanding of performance improvements from using **higher-level representations** than raw pixels (e.g. color histograms, Histogram of Gradient (HOG) features)"
   ]
  },
  {
   "cell_type": "markdown",
   "metadata": {},
   "source": [
    "### Download data:\n",
    "\n",
    "Once you have the starter code (regardless of which method you choose above), you will need to download the [CIFAR-10 dataset](http://www.cs.toronto.edu/~kriz/cifar.html).\n",
    "\n",
    "```bash\n",
    "cd utils/datasets\n",
    "./get_datasets.sh\n",
    "```"
   ]
  },
  {
   "cell_type": "markdown",
   "metadata": {},
   "source": [
    "### Q1: k-Nearest Neighbor classifier (20 points)\n",
    "\n",
    "The IPython Notebook **knn.ipynb** will walk you through implementing the kNN classifier."
   ]
  },
  {
   "cell_type": "markdown",
   "metadata": {},
   "source": [
    "### Q2: Training a Support Vector Machine (25 points)\n",
    "\n",
    "The IPython Notebook **svm.ipynb** will walk you through implementing the SVM classifier."
   ]
  },
  {
   "cell_type": "markdown",
   "metadata": {},
   "source": [
    "### Q3: Implement a Softmax classifier (20 points)\n",
    "\n",
    "The IPython Notebook **softmax.ipynb** will walk you through implementing the Softmax classifier."
   ]
  },
  {
   "cell_type": "markdown",
   "metadata": {},
   "source": [
    "### Q4: Two-Layer Neural Network (25 points)\n",
    "The IPython Notebook **two\\_layer\\_net.ipynb** will walk you through the implementation of a two-layer neural network classifier."
   ]
  },
  {
   "cell_type": "markdown",
   "metadata": {},
   "source": [
    "### Q5: Higher Level Representations: Image Features (10 points)\n",
    "\n",
    "The IPython Notebook **features.ipynb** will walk you through in which you will examine the improvements gained by using higher-level representations as opposed to using raw pixel values."
   ]
  }
 ],
 "metadata": {
  "kernelspec": {
   "display_name": "Python 3",
   "language": "python",
   "name": "python3"
  },
  "language_info": {
   "codemirror_mode": {
    "name": "ipython",
    "version": 3
   },
   "file_extension": ".py",
   "mimetype": "text/x-python",
   "name": "python",
   "nbconvert_exporter": "python",
   "pygments_lexer": "ipython3",
   "version": "3.6.9"
  }
 },
 "nbformat": 4,
 "nbformat_minor": 4
}
